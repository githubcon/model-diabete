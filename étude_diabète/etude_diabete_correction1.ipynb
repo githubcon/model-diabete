{
 "cells": [
  {
   "cell_type": "markdown",
   "metadata": {},
   "source": [
    "<b>Fichiers utilisés :</b>\n",
    " <ul>\n",
    "    <li>`diabete_population.csv : recense les données médicales d'un remier groupe de femmes (âgées de plus de 21) : pression artérielle, l'indice de mass corporelle (IMC), l'âge, etc.`</li>\n",
    "<li>`diabete_patients.csv : recense le même type de données médicales pour un second groupe de femmes qui servira à vérifier la fiabilité du test de \"prédiction\"`</li>\n",
    "</ul> \n",
    "Plus précisément, chaque ligne de ces fichiers renseigne les paramètres médicaux d\"une femme indienne:\n",
    "<ul>\n",
    "    <li>grossesses : nombre de grossesses</li>\n",
    "    <li>glucose : concentration plasmatique de glucose  à 2 heures dans un test de tolérance au glucose par voie orale </li>\n",
    "    <li>pression : pression artérielle diastolique (mm Hg)</li>\n",
    "    <li>insuline : insuline sérique 2 heures (mu U / ml)</li>\n",
    "    <li>imc : indice de masse corporel (poids(kg)/hauteur(m))</li>\n",
    "    <li>K : coeiffecient lié à la présence du diabète parmi ses parents et proches</li>\n",
    "    <li>age :âge</li>\n",
    "    <li>M : vaut 1 si elle est diabètique et 0 si non</li>\n",
    " </ul>  \n",
    " 1)Calculer la moyenne et l'écart type de chaque colonne (sauf M)\n",
    " \n",
    " \n",
    " 2)Dans la même figure, représenter par une boite à moustache chaque colonne autre que M.\n",
    " \n",
    " \n",
    " 3)L'insuline t le glucose ont-elles des dispersions comparables?\n",
    " \n",
    " \n",
    " 4)Pour normaliser chaque colonne, exécuter le code suivant:\n",
    " data_norm=(data[colonne]-moyenne)/ecart_type\n",
    " \n",
    " \n",
    " 5)Parmi les individus 0,1,2,3 et 4 lesquels ont un age supérieur à la moyenne?\n",
    " \n",
    " \n",
    " 6)représenter la boite à moustaches de chaque colonne colonne de data_norm\n",
    " \n",
    " \n",
    " 7)quel est l'interet de normaliser chaque colonne?\n",
    " \n",
    " \n",
    " 8)Normaliser les colonnes de diabete_patients.csv\n",
    " \n",
    " \n",
    " 9)A partir des trois colonnes insuline, glucose et pression, céer le nuage de points des individus dans l'espace muni d'un repère orthonormé. Chaque individu est représent  par unpoint M(x, y,z). M sera de couleur grise s'il est malade et bleue si non. \n",
    " \n",
    " \n",
    " 10)A partir des trois colonnes insuline, grossesse , age céerle nuage de points des individus dans l'espace muni d'un repère orthonormé. Chaque individu est représent  par unpoint M(x, y,z). M sera de couleur grise s'il est malade et bleue si non. \n",
    " \n",
    " \n",
    " 11) Entre les deux représentations laquelle permet de mieux distinguer entre le nuage bleue de nuage gris?\n",
    " \n",
    " \n",
    " 12)Considérons un nouve individu, dans chaque représentation (1 et 2), les paramètres de normalisés de cet individu consitueron les coordonnées d'un point.\n",
    " \n",
    " On observant ses 11 plus proches voisins, on souhaite prédire  si l'individu est malade ou pas\n",
    " <ul>\n",
    "    <li>Si la majorité de ses voisins est malade, alors on prédirera qu'il est malade\n",
    "    <li>Si la majorité de ses voisins est non malade alors on prédirera qu'il n'estpas malade.\n",
    "    </ul>\n",
    "    \n",
    "    Parmi les deux représenation laquelle favorise au mieux la prédiction?"
   ]
  },
  {
   "cell_type": "markdown",
   "metadata": {},
   "source": [
    "1)Calculer la moyenne et l'écart type de chaque colonne (sauf M)"
   ]
  },
  {
   "cell_type": "code",
   "execution_count": 134,
   "metadata": {},
   "outputs": [
    {
     "data": {
      "text/html": [
       "<div>\n",
       "<style scoped>\n",
       "    .dataframe tbody tr th:only-of-type {\n",
       "        vertical-align: middle;\n",
       "    }\n",
       "\n",
       "    .dataframe tbody tr th {\n",
       "        vertical-align: top;\n",
       "    }\n",
       "\n",
       "    .dataframe thead th {\n",
       "        text-align: right;\n",
       "    }\n",
       "</style>\n",
       "<table border=\"1\" class=\"dataframe\">\n",
       "  <thead>\n",
       "    <tr style=\"text-align: right;\">\n",
       "      <th></th>\n",
       "      <th>grossesses</th>\n",
       "      <th>glucose</th>\n",
       "      <th>pression</th>\n",
       "      <th>insuline</th>\n",
       "      <th>imc</th>\n",
       "      <th>K</th>\n",
       "      <th>age</th>\n",
       "      <th>M</th>\n",
       "    </tr>\n",
       "  </thead>\n",
       "  <tbody>\n",
       "    <tr>\n",
       "      <th>0</th>\n",
       "      <td>2</td>\n",
       "      <td>104</td>\n",
       "      <td>75</td>\n",
       "      <td>28</td>\n",
       "      <td>39.020106</td>\n",
       "      <td>0.145273</td>\n",
       "      <td>35</td>\n",
       "      <td>1</td>\n",
       "    </tr>\n",
       "    <tr>\n",
       "      <th>1</th>\n",
       "      <td>10</td>\n",
       "      <td>121</td>\n",
       "      <td>64</td>\n",
       "      <td>517</td>\n",
       "      <td>30.672607</td>\n",
       "      <td>0.154211</td>\n",
       "      <td>43</td>\n",
       "      <td>1</td>\n",
       "    </tr>\n",
       "    <tr>\n",
       "      <th>2</th>\n",
       "      <td>2</td>\n",
       "      <td>153</td>\n",
       "      <td>59</td>\n",
       "      <td>87</td>\n",
       "      <td>26.295668</td>\n",
       "      <td>1.029407</td>\n",
       "      <td>22</td>\n",
       "      <td>1</td>\n",
       "    </tr>\n",
       "    <tr>\n",
       "      <th>3</th>\n",
       "      <td>9</td>\n",
       "      <td>145</td>\n",
       "      <td>47</td>\n",
       "      <td>226</td>\n",
       "      <td>46.077807</td>\n",
       "      <td>0.086713</td>\n",
       "      <td>37</td>\n",
       "      <td>1</td>\n",
       "    </tr>\n",
       "    <tr>\n",
       "      <th>4</th>\n",
       "      <td>3</td>\n",
       "      <td>102</td>\n",
       "      <td>76</td>\n",
       "      <td>315</td>\n",
       "      <td>28.335339</td>\n",
       "      <td>0.109751</td>\n",
       "      <td>21</td>\n",
       "      <td>1</td>\n",
       "    </tr>\n",
       "  </tbody>\n",
       "</table>\n",
       "</div>"
      ],
      "text/plain": [
       "   grossesses  glucose  pression  insuline        imc         K  age  M\n",
       "0           2      104        75        28  39.020106  0.145273   35  1\n",
       "1          10      121        64       517  30.672607  0.154211   43  1\n",
       "2           2      153        59        87  26.295668  1.029407   22  1\n",
       "3           9      145        47       226  46.077807  0.086713   37  1\n",
       "4           3      102        76       315  28.335339  0.109751   21  1"
      ]
     },
     "execution_count": 134,
     "metadata": {},
     "output_type": "execute_result"
    }
   ],
   "source": [
    "import pandas as pd \n",
    "diab_pop=pd.read_csv('diabete_population.csv')\n",
    "diab_pat=pd.read_csv('diabete_patients.csv')\n",
    "diab_pop.head()"
   ]
  },
  {
   "cell_type": "code",
   "execution_count": 135,
   "metadata": {},
   "outputs": [
    {
     "data": {
      "text/plain": [
       "['grossesses', 'glucose', 'pression', 'insuline', 'imc', 'K', 'age']"
      ]
     },
     "execution_count": 135,
     "metadata": {},
     "output_type": "execute_result"
    }
   ],
   "source": [
    "parametres=[c for c in diab_pop.columns if c!= 'M']\n",
    "parametres"
   ]
  },
  {
   "cell_type": "code",
   "execution_count": 136,
   "metadata": {},
   "outputs": [
    {
     "data": {
      "text/plain": [
       "grossesses      3.820000\n",
       "glucose       107.422500\n",
       "pression       72.152500\n",
       "insuline      155.992500\n",
       "imc            31.853995\n",
       "K               0.427129\n",
       "age            30.780000\n",
       "dtype: float64"
      ]
     },
     "execution_count": 136,
     "metadata": {},
     "output_type": "execute_result"
    }
   ],
   "source": [
    "moy=diab_pop[parametres].mean()\n",
    "moy"
   ]
  },
  {
   "cell_type": "code",
   "execution_count": 137,
   "metadata": {},
   "outputs": [
    {
     "data": {
      "text/plain": [
       "grossesses      3.526854\n",
       "glucose        31.304535\n",
       "pression       16.420210\n",
       "insuline      140.449859\n",
       "imc             9.642392\n",
       "K               0.425077\n",
       "age            12.612863\n",
       "dtype: float64"
      ]
     },
     "execution_count": 137,
     "metadata": {},
     "output_type": "execute_result"
    }
   ],
   "source": [
    "sig=diab_pop[parametres].std()\n",
    "sig"
   ]
  },
  {
   "cell_type": "markdown",
   "metadata": {},
   "source": [
    "2)Dans la même figure, représenter par une boite à moustache chaque colonne autre que M"
   ]
  },
  {
   "cell_type": "code",
   "execution_count": 138,
   "metadata": {},
   "outputs": [
    {
     "data": {
      "text/plain": [
       "<AxesSubplot:>"
      ]
     },
     "execution_count": 138,
     "metadata": {},
     "output_type": "execute_result"
    },
    {
     "data": {
      "image/png": "[encoded data removed]",
      "text/plain": [
       "<Figure size 864x288 with 1 Axes>"
      ]
     },
     "metadata": {
      "needs_background": "light"
     },
     "output_type": "display_data"
    }
   ],
   "source": [
    "from seaborn import boxplot\n",
    "from matplotlib import pyplot as plt\n",
    "plt.figure(figsize=(12,4)) \n",
    "boxplot(data=diab_pop[parametres], color='lightblue', whis=[0,100])"
   ]
  },
  {
   "cell_type": "markdown",
   "metadata": {},
   "source": [
    "3)L'insuline t le glucose ont-elles des dispersions comparables?\n",
    "L'insuline et le glucose n'ont pas le même ordre de grandeur"
   ]
  },
  {
   "cell_type": "markdown",
   "metadata": {},
   "source": [
    " 4)Pour normaliser chaque colonne, exécuter le code suivant:\n",
    " data_norm=(data[colonne]-moyenne)/ecart_type"
   ]
  },
  {
   "cell_type": "code",
   "execution_count": 139,
   "metadata": {},
   "outputs": [
    {
     "data": {
      "text/html": [
       "<div>\n",
       "<style scoped>\n",
       "    .dataframe tbody tr th:only-of-type {\n",
       "        vertical-align: middle;\n",
       "    }\n",
       "\n",
       "    .dataframe tbody tr th {\n",
       "        vertical-align: top;\n",
       "    }\n",
       "\n",
       "    .dataframe thead th {\n",
       "        text-align: right;\n",
       "    }\n",
       "</style>\n",
       "<table border=\"1\" class=\"dataframe\">\n",
       "  <thead>\n",
       "    <tr style=\"text-align: right;\">\n",
       "      <th></th>\n",
       "      <th>grossesses</th>\n",
       "      <th>glucose</th>\n",
       "      <th>pression</th>\n",
       "      <th>insuline</th>\n",
       "      <th>imc</th>\n",
       "      <th>K</th>\n",
       "      <th>age</th>\n",
       "    </tr>\n",
       "  </thead>\n",
       "  <tbody>\n",
       "    <tr>\n",
       "      <th>0</th>\n",
       "      <td>-0.516041</td>\n",
       "      <td>-0.109329</td>\n",
       "      <td>0.173414</td>\n",
       "      <td>-0.911304</td>\n",
       "      <td>0.743188</td>\n",
       "      <td>-0.663069</td>\n",
       "      <td>0.334579</td>\n",
       "    </tr>\n",
       "    <tr>\n",
       "      <th>1</th>\n",
       "      <td>1.752270</td>\n",
       "      <td>0.433723</td>\n",
       "      <td>-0.496492</td>\n",
       "      <td>2.570366</td>\n",
       "      <td>-0.122520</td>\n",
       "      <td>-0.642042</td>\n",
       "      <td>0.968852</td>\n",
       "    </tr>\n",
       "    <tr>\n",
       "      <th>2</th>\n",
       "      <td>-0.516041</td>\n",
       "      <td>1.455939</td>\n",
       "      <td>-0.800995</td>\n",
       "      <td>-0.491225</td>\n",
       "      <td>-0.576447</td>\n",
       "      <td>1.416869</td>\n",
       "      <td>-0.696115</td>\n",
       "    </tr>\n",
       "    <tr>\n",
       "      <th>3</th>\n",
       "      <td>1.468731</td>\n",
       "      <td>1.200385</td>\n",
       "      <td>-1.531801</td>\n",
       "      <td>0.498452</td>\n",
       "      <td>1.475133</td>\n",
       "      <td>-0.800832</td>\n",
       "      <td>0.493147</td>\n",
       "    </tr>\n",
       "    <tr>\n",
       "      <th>4</th>\n",
       "      <td>-0.232502</td>\n",
       "      <td>-0.173218</td>\n",
       "      <td>0.234315</td>\n",
       "      <td>1.132130</td>\n",
       "      <td>-0.364915</td>\n",
       "      <td>-0.746634</td>\n",
       "      <td>-0.775399</td>\n",
       "    </tr>\n",
       "    <tr>\n",
       "      <th>...</th>\n",
       "      <td>...</td>\n",
       "      <td>...</td>\n",
       "      <td>...</td>\n",
       "      <td>...</td>\n",
       "      <td>...</td>\n",
       "      <td>...</td>\n",
       "      <td>...</td>\n",
       "    </tr>\n",
       "    <tr>\n",
       "      <th>395</th>\n",
       "      <td>0.051037</td>\n",
       "      <td>-1.003768</td>\n",
       "      <td>-0.922796</td>\n",
       "      <td>-0.790264</td>\n",
       "      <td>-1.210104</td>\n",
       "      <td>0.315929</td>\n",
       "      <td>-0.696115</td>\n",
       "    </tr>\n",
       "    <tr>\n",
       "      <th>396</th>\n",
       "      <td>-0.799580</td>\n",
       "      <td>-1.163490</td>\n",
       "      <td>-1.105497</td>\n",
       "      <td>-0.932664</td>\n",
       "      <td>-1.078406</td>\n",
       "      <td>-0.583855</td>\n",
       "      <td>-0.696115</td>\n",
       "    </tr>\n",
       "    <tr>\n",
       "      <th>397</th>\n",
       "      <td>-0.799580</td>\n",
       "      <td>0.401779</td>\n",
       "      <td>0.538818</td>\n",
       "      <td>0.235013</td>\n",
       "      <td>-1.210369</td>\n",
       "      <td>-0.670262</td>\n",
       "      <td>-0.696115</td>\n",
       "    </tr>\n",
       "    <tr>\n",
       "      <th>398</th>\n",
       "      <td>-0.799580</td>\n",
       "      <td>-0.939880</td>\n",
       "      <td>-0.374691</td>\n",
       "      <td>-0.120986</td>\n",
       "      <td>-1.090458</td>\n",
       "      <td>-0.682149</td>\n",
       "      <td>-0.458262</td>\n",
       "    </tr>\n",
       "    <tr>\n",
       "      <th>399</th>\n",
       "      <td>-0.799580</td>\n",
       "      <td>0.912887</td>\n",
       "      <td>0.599718</td>\n",
       "      <td>-0.982504</td>\n",
       "      <td>-0.039462</td>\n",
       "      <td>-0.635427</td>\n",
       "      <td>0.017443</td>\n",
       "    </tr>\n",
       "  </tbody>\n",
       "</table>\n",
       "<p>400 rows × 7 columns</p>\n",
       "</div>"
      ],
      "text/plain": [
       "     grossesses   glucose  pression  insuline       imc         K       age\n",
       "0     -0.516041 -0.109329  0.173414 -0.911304  0.743188 -0.663069  0.334579\n",
       "1      1.752270  0.433723 -0.496492  2.570366 -0.122520 -0.642042  0.968852\n",
       "2     -0.516041  1.455939 -0.800995 -0.491225 -0.576447  1.416869 -0.696115\n",
       "3      1.468731  1.200385 -1.531801  0.498452  1.475133 -0.800832  0.493147\n",
       "4     -0.232502 -0.173218  0.234315  1.132130 -0.364915 -0.746634 -0.775399\n",
       "..          ...       ...       ...       ...       ...       ...       ...\n",
       "395    0.051037 -1.003768 -0.922796 -0.790264 -1.210104  0.315929 -0.696115\n",
       "396   -0.799580 -1.163490 -1.105497 -0.932664 -1.078406 -0.583855 -0.696115\n",
       "397   -0.799580  0.401779  0.538818  0.235013 -1.210369 -0.670262 -0.696115\n",
       "398   -0.799580 -0.939880 -0.374691 -0.120986 -1.090458 -0.682149 -0.458262\n",
       "399   -0.799580  0.912887  0.599718 -0.982504 -0.039462 -0.635427  0.017443\n",
       "\n",
       "[400 rows x 7 columns]"
      ]
     },
     "execution_count": 139,
     "metadata": {},
     "output_type": "execute_result"
    }
   ],
   "source": [
    "tn=(diab_pop[parametres]-moy)/sig\n",
    "tn"
   ]
  },
  {
   "cell_type": "markdown",
   "metadata": {},
   "source": [
    "5)Parmi les individus 0,1,2,3 et 4 lesquels ont un age supérieur à la moyenne?"
   ]
  },
  {
   "cell_type": "markdown",
   "metadata": {},
   "source": [
    "les individus 0,1,3 ont un age normalisé positif, cela signifie qu'ils ont un age supérieur à la moyenn"
   ]
  },
  {
   "cell_type": "markdown",
   "metadata": {},
   "source": [
    "6)représenter la boite à moustaches de chaque colonne colonne de data_norm"
   ]
  },
  {
   "cell_type": "code",
   "execution_count": 140,
   "metadata": {},
   "outputs": [
    {
     "data": {
      "image/png": "[encoded data removed]",
      "text/plain": [
       "<Figure size 864x288 with 1 Axes>"
      ]
     },
     "metadata": {
      "needs_background": "light"
     },
     "output_type": "display_data"
    }
   ],
   "source": [
    "plt.figure(figsize=(12,4)) \n",
    "boxplot(data=tn[parametres], color='lightblue', whis=[0,100])\n",
    "plt.show()"
   ]
  },
  {
   "cell_type": "markdown",
   "metadata": {},
   "source": [
    "7)quel est l'interet de normaliser chaque colonne?\n",
    "quelqe soit la variable sa valeur (en valeur absolue) est inférieur à 4.\n",
    "La normalisation permet d'avoir le même ordre de grandeur pour comparer entre les variables\n"
   ]
  },
  {
   "cell_type": "markdown",
   "metadata": {},
   "source": [
    "8)Normaliser les colonnes de diabete_patients.csv"
   ]
  },
  {
   "cell_type": "code",
   "execution_count": 141,
   "metadata": {},
   "outputs": [
    {
     "data": {
      "text/html": [
       "<div>\n",
       "<style scoped>\n",
       "    .dataframe tbody tr th:only-of-type {\n",
       "        vertical-align: middle;\n",
       "    }\n",
       "\n",
       "    .dataframe tbody tr th {\n",
       "        vertical-align: top;\n",
       "    }\n",
       "\n",
       "    .dataframe thead th {\n",
       "        text-align: right;\n",
       "    }\n",
       "</style>\n",
       "<table border=\"1\" class=\"dataframe\">\n",
       "  <thead>\n",
       "    <tr style=\"text-align: right;\">\n",
       "      <th></th>\n",
       "      <th>grossesses</th>\n",
       "      <th>glucose</th>\n",
       "      <th>pression</th>\n",
       "      <th>insuline</th>\n",
       "      <th>imc</th>\n",
       "      <th>K</th>\n",
       "      <th>age</th>\n",
       "    </tr>\n",
       "  </thead>\n",
       "  <tbody>\n",
       "    <tr>\n",
       "      <th>0</th>\n",
       "      <td>1.185192</td>\n",
       "      <td>-0.013496</td>\n",
       "      <td>-0.252890</td>\n",
       "      <td>0.128213</td>\n",
       "      <td>-0.705758</td>\n",
       "      <td>-0.710584</td>\n",
       "      <td>-0.696115</td>\n",
       "    </tr>\n",
       "    <tr>\n",
       "      <th>1</th>\n",
       "      <td>-1.083118</td>\n",
       "      <td>-1.131545</td>\n",
       "      <td>0.721519</td>\n",
       "      <td>0.690691</td>\n",
       "      <td>-0.231370</td>\n",
       "      <td>0.964289</td>\n",
       "      <td>1.048136</td>\n",
       "    </tr>\n",
       "    <tr>\n",
       "      <th>2</th>\n",
       "      <td>-0.516041</td>\n",
       "      <td>2.094824</td>\n",
       "      <td>0.051613</td>\n",
       "      <td>3.239644</td>\n",
       "      <td>-0.076123</td>\n",
       "      <td>1.582590</td>\n",
       "      <td>2.316683</td>\n",
       "    </tr>\n",
       "    <tr>\n",
       "      <th>3</th>\n",
       "      <td>-0.232502</td>\n",
       "      <td>-0.045441</td>\n",
       "      <td>0.112514</td>\n",
       "      <td>0.341812</td>\n",
       "      <td>-0.499606</td>\n",
       "      <td>-0.767300</td>\n",
       "      <td>-0.775399</td>\n",
       "    </tr>\n",
       "    <tr>\n",
       "      <th>4</th>\n",
       "      <td>1.468731</td>\n",
       "      <td>0.912887</td>\n",
       "      <td>-0.618293</td>\n",
       "      <td>-0.007067</td>\n",
       "      <td>0.651361</td>\n",
       "      <td>0.172326</td>\n",
       "      <td>-0.696115</td>\n",
       "    </tr>\n",
       "    <tr>\n",
       "      <th>...</th>\n",
       "      <td>...</td>\n",
       "      <td>...</td>\n",
       "      <td>...</td>\n",
       "      <td>...</td>\n",
       "      <td>...</td>\n",
       "      <td>...</td>\n",
       "      <td>...</td>\n",
       "    </tr>\n",
       "    <tr>\n",
       "      <th>95</th>\n",
       "      <td>0.618115</td>\n",
       "      <td>-0.556549</td>\n",
       "      <td>0.904221</td>\n",
       "      <td>-0.790264</td>\n",
       "      <td>-1.066785</td>\n",
       "      <td>-0.749308</td>\n",
       "      <td>-0.616831</td>\n",
       "    </tr>\n",
       "    <tr>\n",
       "      <th>96</th>\n",
       "      <td>-0.799580</td>\n",
       "      <td>2.158713</td>\n",
       "      <td>0.782420</td>\n",
       "      <td>-0.918424</td>\n",
       "      <td>-1.377615</td>\n",
       "      <td>0.171955</td>\n",
       "      <td>0.334579</td>\n",
       "    </tr>\n",
       "    <tr>\n",
       "      <th>97</th>\n",
       "      <td>-0.799580</td>\n",
       "      <td>-1.003768</td>\n",
       "      <td>0.477917</td>\n",
       "      <td>0.206533</td>\n",
       "      <td>1.425748</td>\n",
       "      <td>-0.390862</td>\n",
       "      <td>-0.775399</td>\n",
       "    </tr>\n",
       "    <tr>\n",
       "      <th>98</th>\n",
       "      <td>-1.083118</td>\n",
       "      <td>1.967047</td>\n",
       "      <td>0.051613</td>\n",
       "      <td>0.591012</td>\n",
       "      <td>-1.083417</td>\n",
       "      <td>-0.605248</td>\n",
       "      <td>-0.378978</td>\n",
       "    </tr>\n",
       "    <tr>\n",
       "      <th>99</th>\n",
       "      <td>0.618115</td>\n",
       "      <td>-0.875991</td>\n",
       "      <td>-0.861895</td>\n",
       "      <td>-0.177946</td>\n",
       "      <td>0.623283</td>\n",
       "      <td>1.283032</td>\n",
       "      <td>-0.616831</td>\n",
       "    </tr>\n",
       "  </tbody>\n",
       "</table>\n",
       "<p>100 rows × 7 columns</p>\n",
       "</div>"
      ],
      "text/plain": [
       "    grossesses   glucose  pression  insuline       imc         K       age\n",
       "0     1.185192 -0.013496 -0.252890  0.128213 -0.705758 -0.710584 -0.696115\n",
       "1    -1.083118 -1.131545  0.721519  0.690691 -0.231370  0.964289  1.048136\n",
       "2    -0.516041  2.094824  0.051613  3.239644 -0.076123  1.582590  2.316683\n",
       "3    -0.232502 -0.045441  0.112514  0.341812 -0.499606 -0.767300 -0.775399\n",
       "4     1.468731  0.912887 -0.618293 -0.007067  0.651361  0.172326 -0.696115\n",
       "..         ...       ...       ...       ...       ...       ...       ...\n",
       "95    0.618115 -0.556549  0.904221 -0.790264 -1.066785 -0.749308 -0.616831\n",
       "96   -0.799580  2.158713  0.782420 -0.918424 -1.377615  0.171955  0.334579\n",
       "97   -0.799580 -1.003768  0.477917  0.206533  1.425748 -0.390862 -0.775399\n",
       "98   -1.083118  1.967047  0.051613  0.591012 -1.083417 -0.605248 -0.378978\n",
       "99    0.618115 -0.875991 -0.861895 -0.177946  0.623283  1.283032 -0.616831\n",
       "\n",
       "[100 rows x 7 columns]"
      ]
     },
     "execution_count": 141,
     "metadata": {},
     "output_type": "execute_result"
    }
   ],
   "source": [
    "pn=(diab_pat[parametres]-moy)/sig\n",
    "pn"
   ]
  },
  {
   "cell_type": "markdown",
   "metadata": {},
   "source": [
    "9)A partir des trois colonnes insuline, glucose et pression, céer le nuage de points des individus dans l'espace muni d'un repère orthonormé. Chaque individu est représent par unpoint M(x, y,z). M sera de couleur grise s'il est malade et bleue si non."
   ]
  },
  {
   "cell_type": "code",
   "execution_count": 142,
   "metadata": {},
   "outputs": [
    {
     "data": {
      "text/html": [
       "<div>\n",
       "<style scoped>\n",
       "    .dataframe tbody tr th:only-of-type {\n",
       "        vertical-align: middle;\n",
       "    }\n",
       "\n",
       "    .dataframe tbody tr th {\n",
       "        vertical-align: top;\n",
       "    }\n",
       "\n",
       "    .dataframe thead th {\n",
       "        text-align: right;\n",
       "    }\n",
       "</style>\n",
       "<table border=\"1\" class=\"dataframe\">\n",
       "  <thead>\n",
       "    <tr style=\"text-align: right;\">\n",
       "      <th></th>\n",
       "      <th>grossesses</th>\n",
       "      <th>glucose</th>\n",
       "      <th>pression</th>\n",
       "      <th>insuline</th>\n",
       "      <th>imc</th>\n",
       "      <th>K</th>\n",
       "      <th>age</th>\n",
       "      <th>M</th>\n",
       "    </tr>\n",
       "  </thead>\n",
       "  <tbody>\n",
       "    <tr>\n",
       "      <th>0</th>\n",
       "      <td>-0.516041</td>\n",
       "      <td>-0.109329</td>\n",
       "      <td>0.173414</td>\n",
       "      <td>-0.911304</td>\n",
       "      <td>0.743188</td>\n",
       "      <td>-0.663069</td>\n",
       "      <td>0.334579</td>\n",
       "      <td>1</td>\n",
       "    </tr>\n",
       "    <tr>\n",
       "      <th>1</th>\n",
       "      <td>1.752270</td>\n",
       "      <td>0.433723</td>\n",
       "      <td>-0.496492</td>\n",
       "      <td>2.570366</td>\n",
       "      <td>-0.122520</td>\n",
       "      <td>-0.642042</td>\n",
       "      <td>0.968852</td>\n",
       "      <td>1</td>\n",
       "    </tr>\n",
       "    <tr>\n",
       "      <th>2</th>\n",
       "      <td>-0.516041</td>\n",
       "      <td>1.455939</td>\n",
       "      <td>-0.800995</td>\n",
       "      <td>-0.491225</td>\n",
       "      <td>-0.576447</td>\n",
       "      <td>1.416869</td>\n",
       "      <td>-0.696115</td>\n",
       "      <td>1</td>\n",
       "    </tr>\n",
       "    <tr>\n",
       "      <th>3</th>\n",
       "      <td>1.468731</td>\n",
       "      <td>1.200385</td>\n",
       "      <td>-1.531801</td>\n",
       "      <td>0.498452</td>\n",
       "      <td>1.475133</td>\n",
       "      <td>-0.800832</td>\n",
       "      <td>0.493147</td>\n",
       "      <td>1</td>\n",
       "    </tr>\n",
       "    <tr>\n",
       "      <th>4</th>\n",
       "      <td>-0.232502</td>\n",
       "      <td>-0.173218</td>\n",
       "      <td>0.234315</td>\n",
       "      <td>1.132130</td>\n",
       "      <td>-0.364915</td>\n",
       "      <td>-0.746634</td>\n",
       "      <td>-0.775399</td>\n",
       "      <td>1</td>\n",
       "    </tr>\n",
       "    <tr>\n",
       "      <th>...</th>\n",
       "      <td>...</td>\n",
       "      <td>...</td>\n",
       "      <td>...</td>\n",
       "      <td>...</td>\n",
       "      <td>...</td>\n",
       "      <td>...</td>\n",
       "      <td>...</td>\n",
       "      <td>...</td>\n",
       "    </tr>\n",
       "    <tr>\n",
       "      <th>395</th>\n",
       "      <td>0.051037</td>\n",
       "      <td>-1.003768</td>\n",
       "      <td>-0.922796</td>\n",
       "      <td>-0.790264</td>\n",
       "      <td>-1.210104</td>\n",
       "      <td>0.315929</td>\n",
       "      <td>-0.696115</td>\n",
       "      <td>0</td>\n",
       "    </tr>\n",
       "    <tr>\n",
       "      <th>396</th>\n",
       "      <td>-0.799580</td>\n",
       "      <td>-1.163490</td>\n",
       "      <td>-1.105497</td>\n",
       "      <td>-0.932664</td>\n",
       "      <td>-1.078406</td>\n",
       "      <td>-0.583855</td>\n",
       "      <td>-0.696115</td>\n",
       "      <td>0</td>\n",
       "    </tr>\n",
       "    <tr>\n",
       "      <th>397</th>\n",
       "      <td>-0.799580</td>\n",
       "      <td>0.401779</td>\n",
       "      <td>0.538818</td>\n",
       "      <td>0.235013</td>\n",
       "      <td>-1.210369</td>\n",
       "      <td>-0.670262</td>\n",
       "      <td>-0.696115</td>\n",
       "      <td>0</td>\n",
       "    </tr>\n",
       "    <tr>\n",
       "      <th>398</th>\n",
       "      <td>-0.799580</td>\n",
       "      <td>-0.939880</td>\n",
       "      <td>-0.374691</td>\n",
       "      <td>-0.120986</td>\n",
       "      <td>-1.090458</td>\n",
       "      <td>-0.682149</td>\n",
       "      <td>-0.458262</td>\n",
       "      <td>0</td>\n",
       "    </tr>\n",
       "    <tr>\n",
       "      <th>399</th>\n",
       "      <td>-0.799580</td>\n",
       "      <td>0.912887</td>\n",
       "      <td>0.599718</td>\n",
       "      <td>-0.982504</td>\n",
       "      <td>-0.039462</td>\n",
       "      <td>-0.635427</td>\n",
       "      <td>0.017443</td>\n",
       "      <td>0</td>\n",
       "    </tr>\n",
       "  </tbody>\n",
       "</table>\n",
       "<p>400 rows × 8 columns</p>\n",
       "</div>"
      ],
      "text/plain": [
       "     grossesses   glucose  pression  insuline       imc         K       age  M\n",
       "0     -0.516041 -0.109329  0.173414 -0.911304  0.743188 -0.663069  0.334579  1\n",
       "1      1.752270  0.433723 -0.496492  2.570366 -0.122520 -0.642042  0.968852  1\n",
       "2     -0.516041  1.455939 -0.800995 -0.491225 -0.576447  1.416869 -0.696115  1\n",
       "3      1.468731  1.200385 -1.531801  0.498452  1.475133 -0.800832  0.493147  1\n",
       "4     -0.232502 -0.173218  0.234315  1.132130 -0.364915 -0.746634 -0.775399  1\n",
       "..          ...       ...       ...       ...       ...       ...       ... ..\n",
       "395    0.051037 -1.003768 -0.922796 -0.790264 -1.210104  0.315929 -0.696115  0\n",
       "396   -0.799580 -1.163490 -1.105497 -0.932664 -1.078406 -0.583855 -0.696115  0\n",
       "397   -0.799580  0.401779  0.538818  0.235013 -1.210369 -0.670262 -0.696115  0\n",
       "398   -0.799580 -0.939880 -0.374691 -0.120986 -1.090458 -0.682149 -0.458262  0\n",
       "399   -0.799580  0.912887  0.599718 -0.982504 -0.039462 -0.635427  0.017443  0\n",
       "\n",
       "[400 rows x 8 columns]"
      ]
     },
     "execution_count": 142,
     "metadata": {},
     "output_type": "execute_result"
    }
   ],
   "source": [
    "#ajout de M à tn\n",
    "tn['M']=diab_pop['M']\n",
    "tn"
   ]
  },
  {
   "cell_type": "code",
   "execution_count": 143,
   "metadata": {},
   "outputs": [
    {
     "name": "stdout",
     "output_type": "stream",
     "text": [
      "Requirement already satisfied: plotly in c:\\users\\59013-37-01\\anaconda3\\lib\\site-packages (5.6.0)\n",
      "Requirement already satisfied: tenacity>=6.2.0 in c:\\users\\59013-37-01\\anaconda3\\lib\\site-packages (from plotly) (8.0.1)\n",
      "Requirement already satisfied: six in c:\\users\\59013-37-01\\anaconda3\\lib\\site-packages (from plotly) (1.16.0)\n",
      "Note: you may need to restart the kernel to use updated packages.\n"
     ]
    }
   ],
   "source": [
    "pip install plotly"
   ]
  },
  {
   "cell_type": "code",
   "execution_count": 144,
   "metadata": {},
   "outputs": [
    {
     "data": {
      "application/vnd.plotly.v1+json": {
       "config": {
        "plotlyServerURL": "https://plot.ly"
       },
       "data": [
        {
         "hovertemplate": "color=1<br>insuline=%{x}<br>glucose=%{y}<br>pression=%{z}<extra></extra>",
         "legendgroup": "1",
         "marker": {
          "color": "gray",
          "symbol": "circle"
         },
         "mode": "markers",
         "name": "1",
         "scene": "scene",
         "showlegend": true,
         "type": "scatter3d",
         "x": [
          -0.9113038706364603,
          2.5703657017308976,
          -0.49122512877618607,
          0.4984519071319178,
          1.132130009260128,
          -0.6834645530173286,
          0.7761310754802347,
          3.901801714067699,
          0.5198118431587114,
          3.367803313397859,
          0.6194915446170816,
          -0.5410649795053711,
          0.6194915446170816,
          4.286280562549984,
          -0.7048244890441221,
          0.8330909048850177,
          3.681082375124165,
          -0.5980248089101541,
          0.41301216302474336,
          -0.5980248089101541,
          -0.761784318448905,
          -0.9184238493120582,
          0.33469239759316677,
          -0.02842651486232454,
          1.2104497746917047,
          -0.07114638691591176,
          -0.9469037640144496,
          -0.7475443610977094,
          1.4382890923108365,
          0.7405311821022453,
          -0.9184238493120582,
          1.7800480687395344,
          5.339984006693545e-05,
          0.07125318659604563,
          0.7690110968046369,
          0.15669293070322007,
          -0.5766648728833604,
          -0.9540237426900475,
          0.21365276010800302,
          -0.7048244890441221,
          -0.605144787585752,
          1.5593287297960003,
          -0.03554649353792241,
          0.22789271745919876,
          -0.9967436147436348,
          -0.5268250221541754,
          -0.4769851714249903,
          -0.44850525672259883,
          -0.4841051501005882,
          -0.4841051501005882,
          -0.44850525672259883,
          0.4699719924295263,
          -0.6122647662613498,
          3.908921692743297,
          0.021413335866860544,
          0.9256506276677899,
          -0.9255438279876561,
          -0.71194446771972,
          0.45573203507833054,
          -0.03554649353792241,
          0.7547711394534411,
          1.352849348203662,
          -0.6621046169905349,
          -0.5125850648029796,
          0.45573203507833054,
          -0.9967436147436348,
          1.2958895187988793,
          -0.49122512877618607,
          -0.5837848515589583,
          0.9541305423701815,
          -0.8970639132852646,
          -0.07826636559150962,
          0.5340518005099071,
          -0.43426529937140307,
          1.4454090709864345,
          0.25637263216159023,
          -0.5268250221541754,
          -1.0109835720948306,
          -0.43426529937140307,
          -0.6763445743417307,
          0.2919725255395796,
          -0.5054650861273818,
          -0.5980248089101541,
          -0.4627452140737946,
          1.3670893055548579,
          0.6194915446170816,
          0.811730968858224,
          2.442206085570136,
          0.33469239759316677,
          -0.605144787585752,
          1.3314894121768686,
          0.4628520137539284,
          -0.9184238493120582,
          0.04989325056925202,
          -0.5909048302345562,
          -0.875703977258471,
          1.5664487084715981,
          -0.9397837853388518,
          0.3560523336199604,
          1.3243694335012706,
          1.2745295827720855,
          2.171646895897417,
          0.021413335866860544,
          -0.8899439346096667,
          0.377412269646754,
          -0.10674628029390111,
          0.014293357191262674,
          -0.8828239559340688,
          -0.605144787585752,
          0.17805286673001366,
          1.3599693268792599,
          1.950927556953883,
          -0.4841051501005882,
          0.8188509475338219,
          -0.04266647221352028,
          -0.8543440412316774,
          -0.605144787585752,
          1.4240491349596407,
          1.5094888790668153,
          -0.5054650861273818,
          0.32757241891756894,
          -0.014186557511128803,
          -0.04266647221352028,
          1.1748498813137154,
          1.2246897320429004,
          -1.0038635934192326,
          -0.5125850648029796,
          -0.5054650861273818,
          1.4026891989328472,
          0.16381290937881793,
          -0.548184958180969,
          -0.014186557511128803,
          0.42013214170034124,
          -0.021306536186726673,
          1.2745295827720855,
          -0.7261844250709157,
          0.3702922909711561,
          0.3987722056735476,
          -0.4841051501005882,
          0.3062124828907753,
          2.221486746626602,
          -0.6977045103685242,
          -0.5268250221541754,
          0.377412269646754,
          -0.014186557511128803,
          0.8259709262094198,
          -0.7902642331512966,
          0.9826104570725729,
          0.44149207772713484,
          2.598845616433289,
          1.3314894121768686,
          -0.71194446771972,
          -0.44850525672259883,
          0.08549314394724136,
          -0.6265047236125456,
          3.0972441237251402,
          2.12892702384383,
          3.745162183204546,
          -0.5054650861273818,
          0.5838916512390923,
          -1.0038635934192326,
          1.1463699666113238,
          -0.07826636559150962,
          -0.6407446809637413,
          -0.4627452140737946,
          0.3062124828907753,
          -0.7475443610977094,
          0.44149207772713484,
          0.1495729520276222,
          -0.6336247022881434,
          2.1431669811950256,
          1.3243694335012706,
          -0.5695448942077627,
          -0.44850525672259883,
          0.7191712460754517,
          0.7476511607778432,
          -0.5837848515589583,
          0.5198118431587114,
          1.6946083246323598,
          -0.9540237426900475,
          0.1495729520276222,
          0.41301216302474336,
          0.9541305423701815,
          0.6479714593194731,
          0.4058921843491455,
          -0.4841051501005882,
          0.9897304357481708,
          2.1075670878170363,
          -0.6265047236125456,
          1.3813292629060536,
          1.3101294761500748,
          0.8259709262094198,
          -0.4556252353981967,
          2.0790871731146447,
          -0.04266647221352028,
          -0.7333044037465136,
          0.2919725255395796,
          -0.43426529937140307,
          0.20653278143240514,
          -0.5410649795053711
         ],
         "y": [
          -0.1093292064649794,
          0.43372309737859993,
          1.4559391987312198,
          1.2003851733930648,
          -0.17321771279951814,
          0.27400183154225305,
          0.40177884421133053,
          -1.802374624330256,
          0.14622481887317557,
          -0.7801585229776362,
          -0.2051619659667875,
          0.3698345910440612,
          0.6892771227167549,
          -0.2690504723013263,
          -0.07738495329771003,
          0.6253886163822161,
          -0.3009947254685956,
          0.9128868948876405,
          -0.045440700130440666,
          -1.0996010546503299,
          -0.23710621913405688,
          0.30594608470952245,
          0.3378903378767918,
          -0.1093292064649794,
          2.1267685152438767,
          -1.4190435863230237,
          0.4656673505458693,
          2.158712768411146,
          2.094824262076607,
          0.3698345910440612,
          0.8809426417203711,
          0.9448311480549099,
          2.1267685152438767,
          0.1142805657059062,
          -0.7482142698103669,
          -1.1634895609848688,
          0.050392059371367454,
          0.5615001100476774,
          0.050392059371367454,
          1.2323294265603342,
          -0.23710621913405688,
          -0.3009947254685956,
          0.01844780620409808,
          -0.4287717381376731,
          -0.36488323180313437,
          -0.2690504723013263,
          -0.045440700130440666,
          0.3698345910440612,
          -0.2690504723013263,
          -0.2690504723013263,
          0.9448311480549099,
          -0.14127345963224877,
          2.062880008909338,
          -1.2593223204866768,
          0.40177884421133053,
          0.24205757837498368,
          -0.3009947254685956,
          1.998991502574799,
          0.7531656290512936,
          -0.332938978635865,
          0.9767754012221792,
          -0.8440470293121749,
          -1.898207383832064,
          -0.4287717381376731,
          -0.013496446963171291,
          -1.0676568014830605,
          1.3601064392294118,
          -0.1093292064649794,
          0.5615001100476774,
          0.01844780620409808,
          -0.013496446963171291,
          -1.2912665736539461,
          0.3378903378767918,
          -0.2690504723013263,
          0.27400183154225305,
          -0.2690504723013263,
          -0.332938978635865,
          -1.4190435863230237,
          -0.013496446963171291,
          0.8809426417203711,
          1.998991502574799,
          0.3698345910440612,
          -0.2690504723013263,
          -0.36488323180313437,
          0.5934443632149468,
          -0.013496446963171291,
          -0.17321771279951814,
          -1.7704303711629867,
          -0.013496446963171291,
          -0.2690504723013263,
          2.254545527912954,
          -1.898207383832064,
          0.1142805657059062,
          -0.8440470293121749,
          -1.2912665736539461,
          -0.045440700130440666,
          2.254545527912954,
          -0.14127345963224877,
          -1.898207383832064,
          -0.17321771279951814,
          -1.5787648521593705,
          -0.2051619659667875,
          -0.2051619659667875,
          -0.17321771279951814,
          -1.1954338141521381,
          0.3378903378767918,
          -0.17321771279951814,
          0.08233631253863682,
          -0.045440700130440666,
          -0.1093292064649794,
          -0.7162700166430974,
          1.2962179328948729,
          -1.8343188774975254,
          1.2962179328948729,
          -1.1954338141521381,
          -1.1315453078175992,
          -0.2051619659667875,
          -0.6843257634758281,
          -0.07738495329771003,
          0.050392059371367454,
          -0.36488323180313437,
          -1.5468205989921011,
          0.4656673505458693,
          1.2323294265603342,
          0.3378903378767918,
          0.3378903378767918,
          0.08233631253863682,
          -1.6745976116611787,
          0.4976116037131387,
          1.0087196543894486,
          2.6378765659201866,
          0.4656673505458693,
          2.3184340342474927,
          -1.5468205989921011,
          -0.23710621913405688,
          0.14622481887317557,
          -0.07738495329771003,
          1.9670472494075297,
          -1.5787648521593705,
          0.3698345910440612,
          2.5100995532511092,
          -1.3870993331557542,
          1.4559391987312198,
          2.254545527912954,
          0.1142805657059062,
          -0.07738495329771003,
          0.9767754012221792,
          0.9128868948876405,
          -0.2051619659667875,
          -0.6523815103085587,
          -0.7482142698103669,
          -0.3009947254685956,
          -0.3009947254685956,
          0.785109882218563,
          -0.23710621913405688,
          0.27400183154225305,
          -0.1093292064649794,
          0.3698345910440612,
          -0.2051619659667875,
          2.222601274745685,
          0.43372309737859993,
          0.17816907204044494,
          -0.17321771279951814,
          -0.8759912824794444,
          1.3281621860621422,
          -0.07738495329771003,
          -0.013496446963171291,
          0.14622481887317557,
          0.2101133252077143,
          -0.2051619659667875,
          -0.045440700130440666,
          0.050392059371367454,
          0.8489983885531017,
          0.1142805657059062,
          0.08233631253863682,
          0.7531656290512936,
          -0.013496446963171291,
          -1.9301516369993337,
          -0.013496446963171291,
          -0.9718240419812524,
          -0.3009947254685956,
          0.17816907204044494,
          2.2864897810802236,
          -1.5468205989921011,
          0.9767754012221792,
          -1.1954338141521381,
          -0.939879788813983,
          -0.14127345963224877,
          0.27400183154225305,
          0.050392059371367454,
          1.040663907556718,
          -0.6843257634758281,
          0.050392059371367454,
          -0.2051619659667875,
          0.4656673505458693,
          0.4976116037131387,
          0.40177884421133053,
          0.2101133252077143,
          0.14622481887317557,
          -1.8662631306647948
         ],
         "z": [
          0.17341434553123947,
          -0.49649181806617454,
          -0.8009946197013628,
          -1.5318013436258144,
          0.2343149058582771,
          0.6606188281475406,
          0.41701658683939,
          -0.31379013708506165,
          0.7824199488016158,
          0.11251378520420183,
          0.05161322487716419,
          0.2343149058582771,
          -0.49649181806617454,
          0.29521546618531475,
          -0.740094059374325,
          -0.922795740355438,
          0.9651216297827288,
          -0.31379013708506165,
          1.2087238710908792,
          0.29521546618531475,
          0.6606188281475406,
          -1.2272985419906262,
          1.6350277933801427,
          0.9042210694556911,
          0.599718267820503,
          -1.0445968610095133,
          1.0260221901097664,
          0.9042210694556911,
          1.2087238710908792,
          0.599718267820503,
          0.41701658683939,
          1.574127233053105,
          0.29521546618531475,
          -1.592701903952852,
          0.41701658683939,
          0.9042210694556911,
          0.2343149058582771,
          0.35611602651235236,
          0.2343149058582771,
          0.17341434553123947,
          0.8433205091286534,
          1.0260221901097664,
          0.47791714716642764,
          1.5132266727260675,
          -0.43559125773913693,
          1.1478233107638416,
          1.1478233107638416,
          -1.7145030246069273,
          -0.8009946197013628,
          -0.43559125773913693,
          0.2343149058582771,
          -1.3490996626447014,
          -0.31379013708506165,
          -0.6791934990472874,
          0.2343149058582771,
          -1.592701903952852,
          1.269624431417917,
          1.3914255520719923,
          -0.07018789577691108,
          0.35611602651235236,
          2.244033396650519,
          -0.37469069741209926,
          -1.6536024642798897,
          -0.8618951800284004,
          0.7824199488016158,
          -1.3490996626447014,
          0.17341434553123947,
          -0.37469069741209926,
          1.0260221901097664,
          0.9042210694556911,
          0.5388177074934652,
          1.6350277933801427,
          -1.5318013436258144,
          0.7215193884745782,
          1.4523261123990299,
          0.11251378520420183,
          -1.5318013436258144,
          0.05161322487716419,
          -1.410000222971739,
          -0.009287335449873447,
          0.17341434553123947,
          0.17341434553123947,
          -0.6791934990472874,
          -0.6182929387202498,
          0.29521546618531475,
          -0.6182929387202498,
          0.47791714716642764,
          -0.07018789577691108,
          -1.592701903952852,
          -0.13108845610394873,
          0.2343149058582771,
          0.2343149058582771,
          1.6959283537071803,
          1.4523261123990299,
          0.599718267820503,
          0.7824199488016158,
          0.5388177074934652,
          -0.49649181806617454,
          0.5388177074934652,
          -0.5573923783932122,
          -0.6791934990472874,
          -0.43559125773913693,
          0.05161322487716419,
          0.6606188281475406,
          0.29521546618531475,
          -0.922795740355438,
          -1.2272985419906262,
          -0.31379013708506165,
          0.41701658683939,
          -0.37469069741209926,
          0.17341434553123947,
          0.5388177074934652,
          -0.49649181806617454,
          -0.6182929387202498,
          0.47791714716642764,
          0.7824199488016158,
          0.7215193884745782,
          1.6350277933801427,
          -0.37469069741209926,
          -0.8009946197013628,
          1.574127233053105,
          1.5132266727260675,
          1.3914255520719923,
          -2.749812550166567,
          0.47791714716642764,
          -0.9836963006824756,
          -0.13108845610394873,
          0.41701658683939,
          0.8433205091286534,
          1.269624431417917,
          -0.6791934990472874,
          0.41701658683939,
          -1.105497421336551,
          -1.7145030246069273,
          -0.19198901643098637,
          0.6606188281475406,
          -1.6536024642798897,
          -1.7145030246069273,
          -0.49649181806617454,
          -0.07018789577691108,
          -0.5573923783932122,
          1.3305249917449546,
          0.7824199488016158,
          -0.31379013708506165,
          1.2087238710908792,
          -0.6791934990472874,
          0.5388177074934652,
          -0.6182929387202498,
          0.2343149058582771,
          -0.13108845610394873,
          1.1478233107638416,
          1.269624431417917,
          1.6350277933801427,
          -0.6791934990472874,
          0.29521546618531475,
          1.1478233107638416,
          0.599718267820503,
          -0.6182929387202498,
          -1.1663979816635885,
          -1.592701903952852,
          0.5388177074934652,
          0.35611602651235236,
          -0.37469069741209926,
          0.11251378520420183,
          0.6606188281475406,
          -0.19198901643098637,
          -0.13108845610394873,
          -0.8009946197013628,
          -0.5573923783932122,
          -0.31379013708506165,
          0.6606188281475406,
          -0.31379013708506165,
          0.9042210694556911,
          0.9651216297827288,
          -1.8363041452610025,
          -0.009287335449873447,
          -0.6791934990472874,
          -0.43559125773913693,
          1.086922750436804,
          0.2343149058582771,
          -0.13108845610394873,
          -0.37469069741209926,
          -0.43559125773913693,
          1.6350277933801427,
          -0.5573923783932122,
          -0.009287335449873447,
          -1.410000222971739,
          1.5132266727260675,
          0.35611602651235236,
          0.35611602651235236,
          -0.6791934990472874,
          0.11251378520420183,
          -0.252889576758024,
          1.6350277933801427,
          -0.6791934990472874,
          -0.922795740355438,
          1.4523261123990299,
          0.599718267820503,
          0.29521546618531475,
          -0.740094059374325
         ]
        },
        {
         "hovertemplate": "color=0<br>insuline=%{x}<br>glucose=%{y}<br>pression=%{z}<extra></extra>",
         "legendgroup": "0",
         "marker": {
          "color": "blue",
          "symbol": "circle"
         },
         "mode": "markers",
         "name": "0",
         "scene": "scene",
         "showlegend": true,
         "type": "scatter3d",
         "x": [
          -0.22778591777906487,
          -0.548184958180969,
          -0.8543440412316774,
          -0.8116241691780902,
          0.2421326748103945,
          -1.0109835720948306,
          -0.875703977258471,
          -0.9113038706364603,
          0.05701322924484989,
          -0.7831442544756987,
          -0.9397837853388518,
          -0.5339450008297733,
          -0.8970639132852646,
          -0.6977045103685242,
          -0.8685839985828732,
          -0.818744147853688,
          -0.761784318448905,
          -0.9967436147436348,
          -0.8685839985828732,
          -0.6122647662613498,
          -0.9611437213656454,
          -0.7760242758001008,
          -0.654984638314937,
          0.7262912247510496,
          0.3062124828907753,
          0.6337315019682773,
          -0.8685839985828732,
          -0.7760242758001008,
          -0.5268250221541754,
          -0.7475443610977094,
          0.7262912247510496,
          0.8046109901826262,
          -0.8045041905024923,
          -0.8258641265292859,
          0.270612589512786,
          -0.7973842118268945,
          -0.9753836787168412,
          -0.9469037640144496,
          0.44149207772713484,
          -0.8970639132852646,
          -0.9041838919608625,
          0.18517284540561155,
          -0.8401040838804816,
          0.08549314394724136,
          -0.8401040838804816,
          0.1495729520276222,
          -0.9896236360680369,
          -0.22778591777906487,
          0.4984519071319178,
          0.20653278143240514,
          -0.7973842118268945,
          0.13533299467642645,
          -0.8828239559340688,
          -0.09250632294270536,
          0.1709328880544158,
          -0.7902642331512966,
          -0.8614640199072753,
          -0.9967436147436348,
          -0.7973842118268945,
          -0.9825036573924391,
          -0.007066578835530934,
          0.3702922909711561,
          2.1004471091414385,
          -0.7689042971245029,
          0.035653293218056284,
          -0.8116241691780902,
          -0.7261844250709157,
          -0.8401040838804816,
          0.42725212037593907,
          -0.7475443610977094,
          -0.9397837853388518,
          -0.8329841052048838,
          -0.18506604572547766,
          -0.22778591777906487,
          -0.7760242758001008,
          1.5094888790668153,
          -0.9113038706364603,
          -0.8045041905024923,
          -0.21354596042786914,
          -0.7831442544756987,
          2.2642066186801895,
          0.9256506276677899,
          -0.818744147853688,
          -0.4983451074517839,
          -0.818744147853688,
          0.704931288724256,
          -0.8543440412316774,
          -0.5339450008297733,
          -0.8614640199072753,
          -0.875703977258471,
          0.43437209905153695,
          -0.8329841052048838,
          -0.7475443610977094,
          -0.14234617367189045,
          0.09261312262283923,
          0.6479714593194731,
          -0.05690642956471602,
          -0.22778591777906487,
          0.1424529733520243,
          0.4842119497807221,
          -0.9540237426900475,
          -0.8828239559340688,
          -0.7831442544756987,
          0.6906913313730603,
          0.5198118431587114,
          -0.605144787585752,
          -0.761784318448905,
          -0.11386625896949898,
          -0.6977045103685242,
          -0.818744147853688,
          -0.19218602440107554,
          -0.9967436147436348,
          -0.7760242758001008,
          -0.8543440412316774,
          0.18517284540561155,
          -0.9255438279876561,
          0.761891118129039,
          0.5910116299146901,
          0.3845322483223519,
          -0.9255438279876561,
          0.20653278143240514,
          -0.8472240625560795,
          0.25637263216159023,
          -0.9896236360680369,
          -0.8329841052048838,
          -0.7831442544756987,
          -0.8970639132852646,
          0.7832510541558325,
          -0.8614640199072753,
          -0.9113038706364603,
          -0.818744147853688,
          0.04989325056925202,
          0.06413320792044776,
          -0.9611437213656454,
          -0.10674628029390111,
          -0.14234617367189045,
          0.05701322924484989,
          -0.818744147853688,
          -0.6621046169905349,
          -0.03554649353792241,
          0.021413335866860544,
          -0.8329841052048838,
          0.6123715659414837,
          -0.7973842118268945,
          0.08549314394724136,
          -0.7475443610977094,
          -1.0038635934192326,
          1.3599693268792599,
          -0.11386625896949898,
          -0.9540237426900475,
          0.19941280275680728,
          -0.6407446809637413,
          -0.8045041905024923,
          0.10685307997403498,
          -0.7404243824221115,
          -0.8401040838804816,
          0.6337315019682773,
          -0.12810621632069472,
          -0.9967436147436348,
          -0.8472240625560795,
          -0.9611437213656454,
          0.24925265348599235,
          0.21365276010800302,
          0.33469239759316677,
          -0.8472240625560795,
          -0.9255438279876561,
          -0.6193847449369477,
          -0.1779460670498798,
          -1.0109835720948306,
          -0.9255438279876561,
          3.552922758963404,
          0.704931288724256,
          -0.9397837853388518,
          -0.9825036573924391,
          -0.22778591777906487,
          -0.007066578835530934,
          0.07125318659604563,
          -0.7689042971245029,
          0.1424529733520243,
          -0.7475443610977094,
          -0.9113038706364603,
          0.2634926108371881,
          0.12109303732523072,
          0.6123715659414837,
          -1.0109835720948306,
          3.609882588368187,
          0.17805286673001366,
          -0.8899439346096667,
          -0.09962630161830323,
          -0.9469037640144496,
          -0.8045041905024923,
          1.2887695401232813,
          5.339984006693545e-05,
          3.6597224390973713,
          -0.818744147853688,
          -0.7902642331512966,
          -0.932663806663254,
          0.2350126961347966,
          -0.12098623764509685,
          -0.9825036573924391
         ],
         "y": [
          -0.9718240419812524,
          -0.4287717381376731,
          0.40177884421133053,
          1.8073259835711828,
          -1.0996010546503299,
          -0.4607159913049425,
          0.4976116037131387,
          1.1364966670585261,
          -0.7482142698103669,
          -1.2593223204866768,
          -0.36488323180313437,
          -0.3009947254685956,
          0.5934443632149468,
          -1.0037682951485218,
          -0.7801585229776362,
          0.43372309737859993,
          1.998991502574799,
          0.9767754012221792,
          -1.2273780673194075,
          0.08233631253863682,
          -1.6107091053266398,
          -0.8759912824794444,
          -0.939879788813983,
          -0.7801585229776362,
          -0.7482142698103669,
          1.9670472494075297,
          -0.7482142698103669,
          -0.5565487508067506,
          -1.7384861179957174,
          -1.0037682951485218,
          0.24205757837498368,
          1.2003851733930648,
          0.27400183154225305,
          0.3698345910440612,
          -0.39682748497040377,
          0.6253886163822161,
          -0.5246044976394812,
          -0.7482142698103669,
          -0.939879788813983,
          2.062880008909338,
          -0.6204372571412894,
          0.8170541353858324,
          -0.14127345963224877,
          -0.5884930039740199,
          1.0087196543894486,
          1.2962179328948729,
          0.6253886163822161,
          0.24205757837498368,
          -0.36488323180313437,
          1.5198277050657585,
          -0.5884930039740199,
          0.1142805657059062,
          0.3378903378767918,
          1.4559391987312198,
          -0.36488323180313437,
          -0.7162700166430974,
          -0.5884930039740199,
          0.6892771227167549,
          1.5837162114002974,
          -1.0676568014830605,
          -0.9079355356467137,
          -0.7162700166430974,
          -1.0676568014830605,
          0.3698345910440612,
          -0.49266024447221185,
          0.8489983885531017,
          -0.9718240419812524,
          -1.2273780673194075,
          -1.2912665736539461,
          0.8809426417203711,
          2.5100995532511092,
          0.8489983885531017,
          -0.9079355356467137,
          -1.1634895609848688,
          -1.0357125483157912,
          1.5198277050657585,
          -0.1093292064649794,
          -0.9079355356467137,
          0.5295558568804081,
          -0.5565487508067506,
          1.2323294265603342,
          0.30594608470952245,
          -0.39682748497040377,
          -1.7704303711629867,
          -1.2273780673194075,
          0.6253886163822161,
          0.24205757837498368,
          -1.7704303711629867,
          -1.2912665736539461,
          0.785109882218563,
          -0.5884930039740199,
          -0.8759912824794444,
          0.9448311480549099,
          -0.6843257634758281,
          0.40177884421133053,
          -0.9718240419812524,
          -0.6523815103085587,
          0.3378903378767918,
          1.647604717734836,
          0.9767754012221792,
          0.2101133252077143,
          -0.4287717381376731,
          0.050392059371367454,
          -0.7801585229776362,
          -1.5787648521593705,
          -0.4287717381376731,
          -0.7801585229776362,
          0.5295558568804081,
          -1.7384861179957174,
          -0.7162700166430974,
          1.0087196543894486,
          -1.9940401433338724,
          0.5615001100476774,
          -0.49266024447221185,
          -0.23710621913405688,
          -1.2593223204866768,
          -0.4287717381376731,
          1.903158743072991,
          -0.4607159913049425,
          -1.2593223204866768,
          -0.49266024447221185,
          -1.7384861179957174,
          -1.5787648521593705,
          -0.7162700166430974,
          1.4559391987312198,
          0.5615001100476774,
          -1.8343188774975254,
          -0.5884930039740199,
          1.2003851733930648,
          -0.4607159913049425,
          -0.7162700166430974,
          -1.6107091053266398,
          -0.7162700166430974,
          -0.332938978635865,
          0.5295558568804081,
          -0.4607159913049425,
          0.8170541353858324,
          -0.045440700130440666,
          -0.5565487508067506,
          -0.6204372571412894,
          1.647604717734836,
          1.3601064392294118,
          -1.6107091053266398,
          0.9448311480549099,
          1.0726081607239872,
          2.0309357557420684,
          0.24205757837498368,
          -0.8759912824794444,
          1.8392702367384524,
          1.040663907556718,
          -1.8343188774975254,
          -1.1954338141521381,
          1.2962179328948729,
          -0.939879788813983,
          -1.0996010546503299,
          0.40177884421133053,
          0.785109882218563,
          0.1142805657059062,
          -1.2593223204866768,
          -0.1093292064649794,
          0.43372309737859993,
          0.9128868948876405,
          0.27400183154225305,
          1.6156604645675667,
          -1.6745976116611787,
          -0.9079355356467137,
          -0.9079355356467137,
          1.392050692396681,
          -1.0996010546503299,
          1.5198277050657585,
          1.040663907556718,
          -0.9718240419812524,
          1.998991502574799,
          0.785109882218563,
          -0.7801585229776362,
          1.4239949455639505,
          -0.5884930039740199,
          0.3698345910440612,
          1.0726081607239872,
          2.414266793749301,
          -0.49266024447221185,
          0.3378903378767918,
          1.1364966670585261,
          0.27400183154225305,
          1.6795489709021054,
          0.8809426417203711,
          -0.5565487508067506,
          0.2101133252077143,
          -0.7801585229776362,
          -0.6843257634758281,
          -0.14127345963224877,
          -0.17321771279951814,
          -1.1954338141521381,
          -1.0996010546503299,
          -0.8121027761449056,
          -1.0037682951485218,
          -1.1634895609848688,
          0.40177884421133053,
          -0.939879788813983,
          0.9128868948876405
         ],
         "z": [
          -0.8618951800284004,
          0.35611602651235236,
          1.3305249917449546,
          -0.31379013708506165,
          -0.740094059374325,
          -1.410000222971739,
          -1.5318013436258144,
          1.4523261123990299,
          0.599718267820503,
          -0.6791934990472874,
          -1.0445968610095133,
          -1.3490996626447014,
          -0.5573923783932122,
          -1.105497421336551,
          1.3914255520719923,
          0.5388177074934652,
          1.8177294743612558,
          -0.8009946197013628,
          1.574127233053105,
          0.5388177074934652,
          -2.5671108691854543,
          1.2087238710908792,
          -0.6791934990472874,
          0.7215193884745782,
          1.0260221901097664,
          1.939530595015331,
          1.1478233107638416,
          0.29521546618531475,
          -0.740094059374325,
          -1.2881991023176638,
          0.8433205091286534,
          0.599718267820503,
          -0.8009946197013628,
          0.6606188281475406,
          -0.6791934990472874,
          0.7824199488016158,
          -1.7145030246069273,
          0.6606188281475406,
          0.7215193884745782,
          -1.3490996626447014,
          0.47791714716642764,
          1.086922750436804,
          0.9042210694556911,
          -1.2272985419906262,
          -0.8009946197013628,
          -1.410000222971739,
          2.6703373189397825,
          -0.6182929387202498,
          1.2087238710908792,
          -0.8009946197013628,
          0.9651216297827288,
          0.7824199488016158,
          -0.49649181806617454,
          0.5388177074934652,
          1.3914255520719923,
          1.4523261123990299,
          0.35611602651235236,
          -0.8618951800284004,
          0.47791714716642764,
          -1.7754035849339649,
          -1.6536024642798897,
          -0.31379013708506165,
          -1.5318013436258144,
          -1.105497421336551,
          -0.8009946197013628,
          0.7215193884745782,
          -1.3490996626447014,
          -0.740094059374325,
          -1.2272985419906262,
          -0.922795740355438,
          0.6606188281475406,
          -1.7754035849339649,
          -1.1663979816635885,
          0.41701658683939,
          -0.252889576758024,
          -0.922795740355438,
          1.4523261123990299,
          0.7215193884745782,
          1.3305249917449546,
          0.47791714716642764,
          2.6703373189397825,
          -1.89720470558804,
          -0.6791934990472874,
          0.8433205091286534,
          1.3914255520719923,
          -0.43559125773913693,
          -1.1663979816635885,
          -0.07018789577691108,
          -1.0445968610095133,
          1.3914255520719923,
          -0.252889576758024,
          -0.49649181806617454,
          -0.8618951800284004,
          -0.37469069741209926,
          -1.7145030246069273,
          -1.7145030246069273,
          0.35611602651235236,
          1.2087238710908792,
          -1.410000222971739,
          0.41701658683939,
          -1.6536024642798897,
          -1.3490996626447014,
          0.35611602651235236,
          0.9651216297827288,
          -1.9581052659150777,
          0.599718267820503,
          0.41701658683939,
          -0.922795740355438,
          -0.009287335449873447,
          0.7215193884745782,
          -0.8009946197013628,
          0.9651216297827288,
          -1.2881991023176638,
          0.599718267820503,
          -0.43559125773913693,
          -1.3490996626447014,
          1.269624431417917,
          0.9042210694556911,
          -0.9836963006824756,
          0.35611602651235236,
          -0.49649181806617454,
          0.7215193884745782,
          0.5388177074934652,
          0.41701658683939,
          1.1478233107638416,
          -1.4709007832987768,
          -0.6791934990472874,
          -1.2272985419906262,
          -0.6791934990472874,
          1.2087238710908792,
          -0.922795740355438,
          -0.07018789577691108,
          0.599718267820503,
          0.9651216297827288,
          0.6606188281475406,
          -0.31379013708506165,
          0.7215193884745782,
          -0.9836963006824756,
          -1.105497421336551,
          -0.252889576758024,
          0.5388177074934652,
          2.3658345173045943,
          1.5132266727260675,
          0.9042210694556911,
          -1.3490996626447014,
          1.3914255520719923,
          -0.37469069741209926,
          1.3305249917449546,
          -1.2272985419906262,
          0.7215193884745782,
          0.41701658683939,
          0.5388177074934652,
          -0.31379013708506165,
          0.8433205091286534,
          1.086922750436804,
          -1.2881991023176638,
          -1.2272985419906262,
          0.05161322487716419,
          -0.6791934990472874,
          -1.3490996626447014,
          -0.31379013708506165,
          0.7215193884745782,
          1.4523261123990299,
          -1.1663979816635885,
          -0.9836963006824756,
          0.7824199488016158,
          0.5388177074934652,
          -1.1663979816635885,
          -1.410000222971739,
          0.8433205091286534,
          -2.749812550166567,
          1.4523261123990299,
          -1.0445968610095133,
          -0.740094059374325,
          0.9042210694556911,
          1.5132266727260675,
          -1.8363041452610025,
          1.3305249917449546,
          -0.740094059374325,
          -1.3490996626447014,
          0.05161322487716419,
          0.8433205091286534,
          -0.37469069741209926,
          -0.922795740355438,
          0.41701658683939,
          0.6606188281475406,
          -1.3490996626447014,
          -0.6182929387202498,
          0.7824199488016158,
          1.1478233107638416,
          0.8433205091286534,
          -0.740094059374325,
          -1.0445968610095133,
          0.35611602651235236,
          -1.7754035849339649,
          -0.922795740355438,
          -1.105497421336551,
          0.5388177074934652,
          -0.37469069741209926,
          0.599718267820503
         ]
        }
       ],
       "layout": {
        "legend": {
         "title": {
          "text": "color"
         },
         "tracegroupgap": 0
        },
        "margin": {
         "t": 60
        },
        "scene": {
         "domain": {
          "x": [
           0,
           1
          ],
          "y": [
           0,
           1
          ]
         },
         "xaxis": {
          "title": {
           "text": "insuline"
          }
         },
         "yaxis": {
          "title": {
           "text": "glucose"
          }
         },
         "zaxis": {
          "title": {
           "text": "pression"
          }
         }
        },
        "template": {
         "data": {
          "bar": [
           {
            "error_x": {
             "color": "#2a3f5f"
            },
            "error_y": {
             "color": "#2a3f5f"
            },
            "marker": {
             "line": {
              "color": "#E5ECF6",
              "width": 0.5
             },
             "pattern": {
              "fillmode": "overlay",
              "size": 10,
              "solidity": 0.2
             }
            },
            "type": "bar"
           }
          ],
          "barpolar": [
           {
            "marker": {
             "line": {
              "color": "#E5ECF6",
              "width": 0.5
             },
             "pattern": {
              "fillmode": "overlay",
              "size": 10,
              "solidity": 0.2
             }
            },
            "type": "barpolar"
           }
          ],
          "carpet": [
           {
            "aaxis": {
             "endlinecolor": "#2a3f5f",
             "gridcolor": "white",
             "linecolor": "white",
             "minorgridcolor": "white",
             "startlinecolor": "#2a3f5f"
            },
            "baxis": {
             "endlinecolor": "#2a3f5f",
             "gridcolor": "white",
             "linecolor": "white",
             "minorgridcolor": "white",
             "startlinecolor": "#2a3f5f"
            },
            "type": "carpet"
           }
          ],
          "choropleth": [
           {
            "colorbar": {
             "outlinewidth": 0,
             "ticks": ""
            },
            "type": "choropleth"
           }
          ],
          "contour": [
           {
            "colorbar": {
             "outlinewidth": 0,
             "ticks": ""
            },
            "colorscale": [
             [
              0,
              "#0d0887"
             ],
             [
              0.1111111111111111,
              "#46039f"
             ],
             [
              0.2222222222222222,
              "#7201a8"
             ],
             [
              0.3333333333333333,
              "#9c179e"
             ],
             [
              0.4444444444444444,
              "#bd3786"
             ],
             [
              0.5555555555555556,
              "#d8576b"
             ],
             [
              0.6666666666666666,
              "#ed7953"
             ],
             [
              0.7777777777777778,
              "#fb9f3a"
             ],
             [
              0.8888888888888888,
              "#fdca26"
             ],
             [
              1,
              "#f0f921"
             ]
            ],
            "type": "contour"
           }
          ],
          "contourcarpet": [
           {
            "colorbar": {
             "outlinewidth": 0,
             "ticks": ""
            },
            "type": "contourcarpet"
           }
          ],
          "heatmap": [
           {
            "colorbar": {
             "outlinewidth": 0,
             "ticks": ""
            },
            "colorscale": [
             [
              0,
              "#0d0887"
             ],
             [
              0.1111111111111111,
              "#46039f"
             ],
             [
              0.2222222222222222,
              "#7201a8"
             ],
             [
              0.3333333333333333,
              "#9c179e"
             ],
             [
              0.4444444444444444,
              "#bd3786"
             ],
             [
              0.5555555555555556,
              "#d8576b"
             ],
             [
              0.6666666666666666,
              "#ed7953"
             ],
             [
              0.7777777777777778,
              "#fb9f3a"
             ],
             [
              0.8888888888888888,
              "#fdca26"
             ],
             [
              1,
              "#f0f921"
             ]
            ],
            "type": "heatmap"
           }
          ],
          "heatmapgl": [
           {
            "colorbar": {
             "outlinewidth": 0,
             "ticks": ""
            },
            "colorscale": [
             [
              0,
              "#0d0887"
             ],
             [
              0.1111111111111111,
              "#46039f"
             ],
             [
              0.2222222222222222,
              "#7201a8"
             ],
             [
              0.3333333333333333,
              "#9c179e"
             ],
             [
              0.4444444444444444,
              "#bd3786"
             ],
             [
              0.5555555555555556,
              "#d8576b"
             ],
             [
              0.6666666666666666,
              "#ed7953"
             ],
             [
              0.7777777777777778,
              "#fb9f3a"
             ],
             [
              0.8888888888888888,
              "#fdca26"
             ],
             [
              1,
              "#f0f921"
             ]
            ],
            "type": "heatmapgl"
           }
          ],
          "histogram": [
           {
            "marker": {
             "pattern": {
              "fillmode": "overlay",
              "size": 10,
              "solidity": 0.2
             }
            },
            "type": "histogram"
           }
          ],
          "histogram2d": [
           {
            "colorbar": {
             "outlinewidth": 0,
             "ticks": ""
            },
            "colorscale": [
             [
              0,
              "#0d0887"
             ],
             [
              0.1111111111111111,
              "#46039f"
             ],
             [
              0.2222222222222222,
              "#7201a8"
             ],
             [
              0.3333333333333333,
              "#9c179e"
             ],
             [
              0.4444444444444444,
              "#bd3786"
             ],
             [
              0.5555555555555556,
              "#d8576b"
             ],
             [
              0.6666666666666666,
              "#ed7953"
             ],
             [
              0.7777777777777778,
              "#fb9f3a"
             ],
             [
              0.8888888888888888,
              "#fdca26"
             ],
             [
              1,
              "#f0f921"
             ]
            ],
            "type": "histogram2d"
           }
          ],
          "histogram2dcontour": [
           {
            "colorbar": {
             "outlinewidth": 0,
             "ticks": ""
            },
            "colorscale": [
             [
              0,
              "#0d0887"
             ],
             [
              0.1111111111111111,
              "#46039f"
             ],
             [
              0.2222222222222222,
              "#7201a8"
             ],
             [
              0.3333333333333333,
              "#9c179e"
             ],
             [
              0.4444444444444444,
              "#bd3786"
             ],
             [
              0.5555555555555556,
              "#d8576b"
             ],
             [
              0.6666666666666666,
              "#ed7953"
             ],
             [
              0.7777777777777778,
              "#fb9f3a"
             ],
             [
              0.8888888888888888,
              "#fdca26"
             ],
             [
              1,
              "#f0f921"
             ]
            ],
            "type": "histogram2dcontour"
           }
          ],
          "mesh3d": [
           {
            "colorbar": {
             "outlinewidth": 0,
             "ticks": ""
            },
            "type": "mesh3d"
           }
          ],
          "parcoords": [
           {
            "line": {
             "colorbar": {
              "outlinewidth": 0,
              "ticks": ""
             }
            },
            "type": "parcoords"
           }
          ],
          "pie": [
           {
            "automargin": true,
            "type": "pie"
           }
          ],
          "scatter": [
           {
            "marker": {
             "colorbar": {
              "outlinewidth": 0,
              "ticks": ""
             }
            },
            "type": "scatter"
           }
          ],
          "scatter3d": [
           {
            "line": {
             "colorbar": {
              "outlinewidth": 0,
              "ticks": ""
             }
            },
            "marker": {
             "colorbar": {
              "outlinewidth": 0,
              "ticks": ""
             }
            },
            "type": "scatter3d"
           }
          ],
          "scattercarpet": [
           {
            "marker": {
             "colorbar": {
              "outlinewidth": 0,
              "ticks": ""
             }
            },
            "type": "scattercarpet"
           }
          ],
          "scattergeo": [
           {
            "marker": {
             "colorbar": {
              "outlinewidth": 0,
              "ticks": ""
             }
            },
            "type": "scattergeo"
           }
          ],
          "scattergl": [
           {
            "marker": {
             "colorbar": {
              "outlinewidth": 0,
              "ticks": ""
             }
            },
            "type": "scattergl"
           }
          ],
          "scattermapbox": [
           {
            "marker": {
             "colorbar": {
              "outlinewidth": 0,
              "ticks": ""
             }
            },
            "type": "scattermapbox"
           }
          ],
          "scatterpolar": [
           {
            "marker": {
             "colorbar": {
              "outlinewidth": 0,
              "ticks": ""
             }
            },
            "type": "scatterpolar"
           }
          ],
          "scatterpolargl": [
           {
            "marker": {
             "colorbar": {
              "outlinewidth": 0,
              "ticks": ""
             }
            },
            "type": "scatterpolargl"
           }
          ],
          "scatterternary": [
           {
            "marker": {
             "colorbar": {
              "outlinewidth": 0,
              "ticks": ""
             }
            },
            "type": "scatterternary"
           }
          ],
          "surface": [
           {
            "colorbar": {
             "outlinewidth": 0,
             "ticks": ""
            },
            "colorscale": [
             [
              0,
              "#0d0887"
             ],
             [
              0.1111111111111111,
              "#46039f"
             ],
             [
              0.2222222222222222,
              "#7201a8"
             ],
             [
              0.3333333333333333,
              "#9c179e"
             ],
             [
              0.4444444444444444,
              "#bd3786"
             ],
             [
              0.5555555555555556,
              "#d8576b"
             ],
             [
              0.6666666666666666,
              "#ed7953"
             ],
             [
              0.7777777777777778,
              "#fb9f3a"
             ],
             [
              0.8888888888888888,
              "#fdca26"
             ],
             [
              1,
              "#f0f921"
             ]
            ],
            "type": "surface"
           }
          ],
          "table": [
           {
            "cells": {
             "fill": {
              "color": "#EBF0F8"
             },
             "line": {
              "color": "white"
             }
            },
            "header": {
             "fill": {
              "color": "#C8D4E3"
             },
             "line": {
              "color": "white"
             }
            },
            "type": "table"
           }
          ]
         },
         "layout": {
          "annotationdefaults": {
           "arrowcolor": "#2a3f5f",
           "arrowhead": 0,
           "arrowwidth": 1
          },
          "autotypenumbers": "strict",
          "coloraxis": {
           "colorbar": {
            "outlinewidth": 0,
            "ticks": ""
           }
          },
          "colorscale": {
           "diverging": [
            [
             0,
             "#8e0152"
            ],
            [
             0.1,
             "#c51b7d"
            ],
            [
             0.2,
             "#de77ae"
            ],
            [
             0.3,
             "#f1b6da"
            ],
            [
             0.4,
             "#fde0ef"
            ],
            [
             0.5,
             "#f7f7f7"
            ],
            [
             0.6,
             "#e6f5d0"
            ],
            [
             0.7,
             "#b8e186"
            ],
            [
             0.8,
             "#7fbc41"
            ],
            [
             0.9,
             "#4d9221"
            ],
            [
             1,
             "#276419"
            ]
           ],
           "sequential": [
            [
             0,
             "#0d0887"
            ],
            [
             0.1111111111111111,
             "#46039f"
            ],
            [
             0.2222222222222222,
             "#7201a8"
            ],
            [
             0.3333333333333333,
             "#9c179e"
            ],
            [
             0.4444444444444444,
             "#bd3786"
            ],
            [
             0.5555555555555556,
             "#d8576b"
            ],
            [
             0.6666666666666666,
             "#ed7953"
            ],
            [
             0.7777777777777778,
             "#fb9f3a"
            ],
            [
             0.8888888888888888,
             "#fdca26"
            ],
            [
             1,
             "#f0f921"
            ]
           ],
           "sequentialminus": [
            [
             0,
             "#0d0887"
            ],
            [
             0.1111111111111111,
             "#46039f"
            ],
            [
             0.2222222222222222,
             "#7201a8"
            ],
            [
             0.3333333333333333,
             "#9c179e"
            ],
            [
             0.4444444444444444,
             "#bd3786"
            ],
            [
             0.5555555555555556,
             "#d8576b"
            ],
            [
             0.6666666666666666,
             "#ed7953"
            ],
            [
             0.7777777777777778,
             "#fb9f3a"
            ],
            [
             0.8888888888888888,
             "#fdca26"
            ],
            [
             1,
             "#f0f921"
            ]
           ]
          },
          "colorway": [
           "#636efa",
           "#EF553B",
           "#00cc96",
           "#ab63fa",
           "#FFA15A",
           "#19d3f3",
           "#FF6692",
           "#B6E880",
           "#FF97FF",
           "#FECB52"
          ],
          "font": {
           "color": "#2a3f5f"
          },
          "geo": {
           "bgcolor": "white",
           "lakecolor": "white",
           "landcolor": "#E5ECF6",
           "showlakes": true,
           "showland": true,
           "subunitcolor": "white"
          },
          "hoverlabel": {
           "align": "left"
          },
          "hovermode": "closest",
          "mapbox": {
           "style": "light"
          },
          "paper_bgcolor": "white",
          "plot_bgcolor": "#E5ECF6",
          "polar": {
           "angularaxis": {
            "gridcolor": "white",
            "linecolor": "white",
            "ticks": ""
           },
           "bgcolor": "#E5ECF6",
           "radialaxis": {
            "gridcolor": "white",
            "linecolor": "white",
            "ticks": ""
           }
          },
          "scene": {
           "xaxis": {
            "backgroundcolor": "#E5ECF6",
            "gridcolor": "white",
            "gridwidth": 2,
            "linecolor": "white",
            "showbackground": true,
            "ticks": "",
            "zerolinecolor": "white"
           },
           "yaxis": {
            "backgroundcolor": "#E5ECF6",
            "gridcolor": "white",
            "gridwidth": 2,
            "linecolor": "white",
            "showbackground": true,
            "ticks": "",
            "zerolinecolor": "white"
           },
           "zaxis": {
            "backgroundcolor": "#E5ECF6",
            "gridcolor": "white",
            "gridwidth": 2,
            "linecolor": "white",
            "showbackground": true,
            "ticks": "",
            "zerolinecolor": "white"
           }
          },
          "shapedefaults": {
           "line": {
            "color": "#2a3f5f"
           }
          },
          "ternary": {
           "aaxis": {
            "gridcolor": "white",
            "linecolor": "white",
            "ticks": ""
           },
           "baxis": {
            "gridcolor": "white",
            "linecolor": "white",
            "ticks": ""
           },
           "bgcolor": "#E5ECF6",
           "caxis": {
            "gridcolor": "white",
            "linecolor": "white",
            "ticks": ""
           }
          },
          "title": {
           "x": 0.05
          },
          "xaxis": {
           "automargin": true,
           "gridcolor": "white",
           "linecolor": "white",
           "ticks": "",
           "title": {
            "standoff": 15
           },
           "zerolinecolor": "white",
           "zerolinewidth": 2
          },
          "yaxis": {
           "automargin": true,
           "gridcolor": "white",
           "linecolor": "white",
           "ticks": "",
           "title": {
            "standoff": 15
           },
           "zerolinecolor": "white",
           "zerolinewidth": 2
          }
         }
        }
       }
      },
      "text/html": [
       "<div>                            <div id=\"3c3f14d0-1ef9-4926-acf0-d7aa2f22cc8c\" class=\"plotly-graph-div\" style=\"height:525px; width:100%;\"></div>            <script type=\"text/javascript\">                require([\"plotly\"], function(Plotly) {                    window.PLOTLYENV=window.PLOTLYENV || {};                                    if (document.getElementById(\"3c3f14d0-1ef9-4926-acf0-d7aa2f22cc8c\")) {                    Plotly.newPlot(                        \"3c3f14d0-1ef9-4926-acf0-d7aa2f22cc8c\",                        [{\"hovertemplate\":\"color=1<br>insuline=%{x}<br>glucose=%{y}<br>pression=%{z}<extra></extra>\",\"legendgroup\":\"1\",\"marker\":{\"color\":\"gray\",\"symbol\":\"circle\"},\"mode\":\"markers\",\"name\":\"1\",\"scene\":\"scene\",\"showlegend\":true,\"x\":[-0.9113038706364603,2.5703657017308976,-0.49122512877618607,0.4984519071319178,1.132130009260128,-0.6834645530173286,0.7761310754802347,3.901801714067699,0.5198118431587114,3.367803313397859,0.6194915446170816,-0.5410649795053711,0.6194915446170816,4.286280562549984,-0.7048244890441221,0.8330909048850177,3.681082375124165,-0.5980248089101541,0.41301216302474336,-0.5980248089101541,-0.761784318448905,-0.9184238493120582,0.33469239759316677,-0.02842651486232454,1.2104497746917047,-0.07114638691591176,-0.9469037640144496,-0.7475443610977094,1.4382890923108365,0.7405311821022453,-0.9184238493120582,1.7800480687395344,5.339984006693545e-05,0.07125318659604563,0.7690110968046369,0.15669293070322007,-0.5766648728833604,-0.9540237426900475,0.21365276010800302,-0.7048244890441221,-0.605144787585752,1.5593287297960003,-0.03554649353792241,0.22789271745919876,-0.9967436147436348,-0.5268250221541754,-0.4769851714249903,-0.44850525672259883,-0.4841051501005882,-0.4841051501005882,-0.44850525672259883,0.4699719924295263,-0.6122647662613498,3.908921692743297,0.021413335866860544,0.9256506276677899,-0.9255438279876561,-0.71194446771972,0.45573203507833054,-0.03554649353792241,0.7547711394534411,1.352849348203662,-0.6621046169905349,-0.5125850648029796,0.45573203507833054,-0.9967436147436348,1.2958895187988793,-0.49122512877618607,-0.5837848515589583,0.9541305423701815,-0.8970639132852646,-0.07826636559150962,0.5340518005099071,-0.43426529937140307,1.4454090709864345,0.25637263216159023,-0.5268250221541754,-1.0109835720948306,-0.43426529937140307,-0.6763445743417307,0.2919725255395796,-0.5054650861273818,-0.5980248089101541,-0.4627452140737946,1.3670893055548579,0.6194915446170816,0.811730968858224,2.442206085570136,0.33469239759316677,-0.605144787585752,1.3314894121768686,0.4628520137539284,-0.9184238493120582,0.04989325056925202,-0.5909048302345562,-0.875703977258471,1.5664487084715981,-0.9397837853388518,0.3560523336199604,1.3243694335012706,1.2745295827720855,2.171646895897417,0.021413335866860544,-0.8899439346096667,0.377412269646754,-0.10674628029390111,0.014293357191262674,-0.8828239559340688,-0.605144787585752,0.17805286673001366,1.3599693268792599,1.950927556953883,-0.4841051501005882,0.8188509475338219,-0.04266647221352028,-0.8543440412316774,-0.605144787585752,1.4240491349596407,1.5094888790668153,-0.5054650861273818,0.32757241891756894,-0.014186557511128803,-0.04266647221352028,1.1748498813137154,1.2246897320429004,-1.0038635934192326,-0.5125850648029796,-0.5054650861273818,1.4026891989328472,0.16381290937881793,-0.548184958180969,-0.014186557511128803,0.42013214170034124,-0.021306536186726673,1.2745295827720855,-0.7261844250709157,0.3702922909711561,0.3987722056735476,-0.4841051501005882,0.3062124828907753,2.221486746626602,-0.6977045103685242,-0.5268250221541754,0.377412269646754,-0.014186557511128803,0.8259709262094198,-0.7902642331512966,0.9826104570725729,0.44149207772713484,2.598845616433289,1.3314894121768686,-0.71194446771972,-0.44850525672259883,0.08549314394724136,-0.6265047236125456,3.0972441237251402,2.12892702384383,3.745162183204546,-0.5054650861273818,0.5838916512390923,-1.0038635934192326,1.1463699666113238,-0.07826636559150962,-0.6407446809637413,-0.4627452140737946,0.3062124828907753,-0.7475443610977094,0.44149207772713484,0.1495729520276222,-0.6336247022881434,2.1431669811950256,1.3243694335012706,-0.5695448942077627,-0.44850525672259883,0.7191712460754517,0.7476511607778432,-0.5837848515589583,0.5198118431587114,1.6946083246323598,-0.9540237426900475,0.1495729520276222,0.41301216302474336,0.9541305423701815,0.6479714593194731,0.4058921843491455,-0.4841051501005882,0.9897304357481708,2.1075670878170363,-0.6265047236125456,1.3813292629060536,1.3101294761500748,0.8259709262094198,-0.4556252353981967,2.0790871731146447,-0.04266647221352028,-0.7333044037465136,0.2919725255395796,-0.43426529937140307,0.20653278143240514,-0.5410649795053711],\"y\":[-0.1093292064649794,0.43372309737859993,1.4559391987312198,1.2003851733930648,-0.17321771279951814,0.27400183154225305,0.40177884421133053,-1.802374624330256,0.14622481887317557,-0.7801585229776362,-0.2051619659667875,0.3698345910440612,0.6892771227167549,-0.2690504723013263,-0.07738495329771003,0.6253886163822161,-0.3009947254685956,0.9128868948876405,-0.045440700130440666,-1.0996010546503299,-0.23710621913405688,0.30594608470952245,0.3378903378767918,-0.1093292064649794,2.1267685152438767,-1.4190435863230237,0.4656673505458693,2.158712768411146,2.094824262076607,0.3698345910440612,0.8809426417203711,0.9448311480549099,2.1267685152438767,0.1142805657059062,-0.7482142698103669,-1.1634895609848688,0.050392059371367454,0.5615001100476774,0.050392059371367454,1.2323294265603342,-0.23710621913405688,-0.3009947254685956,0.01844780620409808,-0.4287717381376731,-0.36488323180313437,-0.2690504723013263,-0.045440700130440666,0.3698345910440612,-0.2690504723013263,-0.2690504723013263,0.9448311480549099,-0.14127345963224877,2.062880008909338,-1.2593223204866768,0.40177884421133053,0.24205757837498368,-0.3009947254685956,1.998991502574799,0.7531656290512936,-0.332938978635865,0.9767754012221792,-0.8440470293121749,-1.898207383832064,-0.4287717381376731,-0.013496446963171291,-1.0676568014830605,1.3601064392294118,-0.1093292064649794,0.5615001100476774,0.01844780620409808,-0.013496446963171291,-1.2912665736539461,0.3378903378767918,-0.2690504723013263,0.27400183154225305,-0.2690504723013263,-0.332938978635865,-1.4190435863230237,-0.013496446963171291,0.8809426417203711,1.998991502574799,0.3698345910440612,-0.2690504723013263,-0.36488323180313437,0.5934443632149468,-0.013496446963171291,-0.17321771279951814,-1.7704303711629867,-0.013496446963171291,-0.2690504723013263,2.254545527912954,-1.898207383832064,0.1142805657059062,-0.8440470293121749,-1.2912665736539461,-0.045440700130440666,2.254545527912954,-0.14127345963224877,-1.898207383832064,-0.17321771279951814,-1.5787648521593705,-0.2051619659667875,-0.2051619659667875,-0.17321771279951814,-1.1954338141521381,0.3378903378767918,-0.17321771279951814,0.08233631253863682,-0.045440700130440666,-0.1093292064649794,-0.7162700166430974,1.2962179328948729,-1.8343188774975254,1.2962179328948729,-1.1954338141521381,-1.1315453078175992,-0.2051619659667875,-0.6843257634758281,-0.07738495329771003,0.050392059371367454,-0.36488323180313437,-1.5468205989921011,0.4656673505458693,1.2323294265603342,0.3378903378767918,0.3378903378767918,0.08233631253863682,-1.6745976116611787,0.4976116037131387,1.0087196543894486,2.6378765659201866,0.4656673505458693,2.3184340342474927,-1.5468205989921011,-0.23710621913405688,0.14622481887317557,-0.07738495329771003,1.9670472494075297,-1.5787648521593705,0.3698345910440612,2.5100995532511092,-1.3870993331557542,1.4559391987312198,2.254545527912954,0.1142805657059062,-0.07738495329771003,0.9767754012221792,0.9128868948876405,-0.2051619659667875,-0.6523815103085587,-0.7482142698103669,-0.3009947254685956,-0.3009947254685956,0.785109882218563,-0.23710621913405688,0.27400183154225305,-0.1093292064649794,0.3698345910440612,-0.2051619659667875,2.222601274745685,0.43372309737859993,0.17816907204044494,-0.17321771279951814,-0.8759912824794444,1.3281621860621422,-0.07738495329771003,-0.013496446963171291,0.14622481887317557,0.2101133252077143,-0.2051619659667875,-0.045440700130440666,0.050392059371367454,0.8489983885531017,0.1142805657059062,0.08233631253863682,0.7531656290512936,-0.013496446963171291,-1.9301516369993337,-0.013496446963171291,-0.9718240419812524,-0.3009947254685956,0.17816907204044494,2.2864897810802236,-1.5468205989921011,0.9767754012221792,-1.1954338141521381,-0.939879788813983,-0.14127345963224877,0.27400183154225305,0.050392059371367454,1.040663907556718,-0.6843257634758281,0.050392059371367454,-0.2051619659667875,0.4656673505458693,0.4976116037131387,0.40177884421133053,0.2101133252077143,0.14622481887317557,-1.8662631306647948],\"z\":[0.17341434553123947,-0.49649181806617454,-0.8009946197013628,-1.5318013436258144,0.2343149058582771,0.6606188281475406,0.41701658683939,-0.31379013708506165,0.7824199488016158,0.11251378520420183,0.05161322487716419,0.2343149058582771,-0.49649181806617454,0.29521546618531475,-0.740094059374325,-0.922795740355438,0.9651216297827288,-0.31379013708506165,1.2087238710908792,0.29521546618531475,0.6606188281475406,-1.2272985419906262,1.6350277933801427,0.9042210694556911,0.599718267820503,-1.0445968610095133,1.0260221901097664,0.9042210694556911,1.2087238710908792,0.599718267820503,0.41701658683939,1.574127233053105,0.29521546618531475,-1.592701903952852,0.41701658683939,0.9042210694556911,0.2343149058582771,0.35611602651235236,0.2343149058582771,0.17341434553123947,0.8433205091286534,1.0260221901097664,0.47791714716642764,1.5132266727260675,-0.43559125773913693,1.1478233107638416,1.1478233107638416,-1.7145030246069273,-0.8009946197013628,-0.43559125773913693,0.2343149058582771,-1.3490996626447014,-0.31379013708506165,-0.6791934990472874,0.2343149058582771,-1.592701903952852,1.269624431417917,1.3914255520719923,-0.07018789577691108,0.35611602651235236,2.244033396650519,-0.37469069741209926,-1.6536024642798897,-0.8618951800284004,0.7824199488016158,-1.3490996626447014,0.17341434553123947,-0.37469069741209926,1.0260221901097664,0.9042210694556911,0.5388177074934652,1.6350277933801427,-1.5318013436258144,0.7215193884745782,1.4523261123990299,0.11251378520420183,-1.5318013436258144,0.05161322487716419,-1.410000222971739,-0.009287335449873447,0.17341434553123947,0.17341434553123947,-0.6791934990472874,-0.6182929387202498,0.29521546618531475,-0.6182929387202498,0.47791714716642764,-0.07018789577691108,-1.592701903952852,-0.13108845610394873,0.2343149058582771,0.2343149058582771,1.6959283537071803,1.4523261123990299,0.599718267820503,0.7824199488016158,0.5388177074934652,-0.49649181806617454,0.5388177074934652,-0.5573923783932122,-0.6791934990472874,-0.43559125773913693,0.05161322487716419,0.6606188281475406,0.29521546618531475,-0.922795740355438,-1.2272985419906262,-0.31379013708506165,0.41701658683939,-0.37469069741209926,0.17341434553123947,0.5388177074934652,-0.49649181806617454,-0.6182929387202498,0.47791714716642764,0.7824199488016158,0.7215193884745782,1.6350277933801427,-0.37469069741209926,-0.8009946197013628,1.574127233053105,1.5132266727260675,1.3914255520719923,-2.749812550166567,0.47791714716642764,-0.9836963006824756,-0.13108845610394873,0.41701658683939,0.8433205091286534,1.269624431417917,-0.6791934990472874,0.41701658683939,-1.105497421336551,-1.7145030246069273,-0.19198901643098637,0.6606188281475406,-1.6536024642798897,-1.7145030246069273,-0.49649181806617454,-0.07018789577691108,-0.5573923783932122,1.3305249917449546,0.7824199488016158,-0.31379013708506165,1.2087238710908792,-0.6791934990472874,0.5388177074934652,-0.6182929387202498,0.2343149058582771,-0.13108845610394873,1.1478233107638416,1.269624431417917,1.6350277933801427,-0.6791934990472874,0.29521546618531475,1.1478233107638416,0.599718267820503,-0.6182929387202498,-1.1663979816635885,-1.592701903952852,0.5388177074934652,0.35611602651235236,-0.37469069741209926,0.11251378520420183,0.6606188281475406,-0.19198901643098637,-0.13108845610394873,-0.8009946197013628,-0.5573923783932122,-0.31379013708506165,0.6606188281475406,-0.31379013708506165,0.9042210694556911,0.9651216297827288,-1.8363041452610025,-0.009287335449873447,-0.6791934990472874,-0.43559125773913693,1.086922750436804,0.2343149058582771,-0.13108845610394873,-0.37469069741209926,-0.43559125773913693,1.6350277933801427,-0.5573923783932122,-0.009287335449873447,-1.410000222971739,1.5132266727260675,0.35611602651235236,0.35611602651235236,-0.6791934990472874,0.11251378520420183,-0.252889576758024,1.6350277933801427,-0.6791934990472874,-0.922795740355438,1.4523261123990299,0.599718267820503,0.29521546618531475,-0.740094059374325],\"type\":\"scatter3d\"},{\"hovertemplate\":\"color=0<br>insuline=%{x}<br>glucose=%{y}<br>pression=%{z}<extra></extra>\",\"legendgroup\":\"0\",\"marker\":{\"color\":\"blue\",\"symbol\":\"circle\"},\"mode\":\"markers\",\"name\":\"0\",\"scene\":\"scene\",\"showlegend\":true,\"x\":[-0.22778591777906487,-0.548184958180969,-0.8543440412316774,-0.8116241691780902,0.2421326748103945,-1.0109835720948306,-0.875703977258471,-0.9113038706364603,0.05701322924484989,-0.7831442544756987,-0.9397837853388518,-0.5339450008297733,-0.8970639132852646,-0.6977045103685242,-0.8685839985828732,-0.818744147853688,-0.761784318448905,-0.9967436147436348,-0.8685839985828732,-0.6122647662613498,-0.9611437213656454,-0.7760242758001008,-0.654984638314937,0.7262912247510496,0.3062124828907753,0.6337315019682773,-0.8685839985828732,-0.7760242758001008,-0.5268250221541754,-0.7475443610977094,0.7262912247510496,0.8046109901826262,-0.8045041905024923,-0.8258641265292859,0.270612589512786,-0.7973842118268945,-0.9753836787168412,-0.9469037640144496,0.44149207772713484,-0.8970639132852646,-0.9041838919608625,0.18517284540561155,-0.8401040838804816,0.08549314394724136,-0.8401040838804816,0.1495729520276222,-0.9896236360680369,-0.22778591777906487,0.4984519071319178,0.20653278143240514,-0.7973842118268945,0.13533299467642645,-0.8828239559340688,-0.09250632294270536,0.1709328880544158,-0.7902642331512966,-0.8614640199072753,-0.9967436147436348,-0.7973842118268945,-0.9825036573924391,-0.007066578835530934,0.3702922909711561,2.1004471091414385,-0.7689042971245029,0.035653293218056284,-0.8116241691780902,-0.7261844250709157,-0.8401040838804816,0.42725212037593907,-0.7475443610977094,-0.9397837853388518,-0.8329841052048838,-0.18506604572547766,-0.22778591777906487,-0.7760242758001008,1.5094888790668153,-0.9113038706364603,-0.8045041905024923,-0.21354596042786914,-0.7831442544756987,2.2642066186801895,0.9256506276677899,-0.818744147853688,-0.4983451074517839,-0.818744147853688,0.704931288724256,-0.8543440412316774,-0.5339450008297733,-0.8614640199072753,-0.875703977258471,0.43437209905153695,-0.8329841052048838,-0.7475443610977094,-0.14234617367189045,0.09261312262283923,0.6479714593194731,-0.05690642956471602,-0.22778591777906487,0.1424529733520243,0.4842119497807221,-0.9540237426900475,-0.8828239559340688,-0.7831442544756987,0.6906913313730603,0.5198118431587114,-0.605144787585752,-0.761784318448905,-0.11386625896949898,-0.6977045103685242,-0.818744147853688,-0.19218602440107554,-0.9967436147436348,-0.7760242758001008,-0.8543440412316774,0.18517284540561155,-0.9255438279876561,0.761891118129039,0.5910116299146901,0.3845322483223519,-0.9255438279876561,0.20653278143240514,-0.8472240625560795,0.25637263216159023,-0.9896236360680369,-0.8329841052048838,-0.7831442544756987,-0.8970639132852646,0.7832510541558325,-0.8614640199072753,-0.9113038706364603,-0.818744147853688,0.04989325056925202,0.06413320792044776,-0.9611437213656454,-0.10674628029390111,-0.14234617367189045,0.05701322924484989,-0.818744147853688,-0.6621046169905349,-0.03554649353792241,0.021413335866860544,-0.8329841052048838,0.6123715659414837,-0.7973842118268945,0.08549314394724136,-0.7475443610977094,-1.0038635934192326,1.3599693268792599,-0.11386625896949898,-0.9540237426900475,0.19941280275680728,-0.6407446809637413,-0.8045041905024923,0.10685307997403498,-0.7404243824221115,-0.8401040838804816,0.6337315019682773,-0.12810621632069472,-0.9967436147436348,-0.8472240625560795,-0.9611437213656454,0.24925265348599235,0.21365276010800302,0.33469239759316677,-0.8472240625560795,-0.9255438279876561,-0.6193847449369477,-0.1779460670498798,-1.0109835720948306,-0.9255438279876561,3.552922758963404,0.704931288724256,-0.9397837853388518,-0.9825036573924391,-0.22778591777906487,-0.007066578835530934,0.07125318659604563,-0.7689042971245029,0.1424529733520243,-0.7475443610977094,-0.9113038706364603,0.2634926108371881,0.12109303732523072,0.6123715659414837,-1.0109835720948306,3.609882588368187,0.17805286673001366,-0.8899439346096667,-0.09962630161830323,-0.9469037640144496,-0.8045041905024923,1.2887695401232813,5.339984006693545e-05,3.6597224390973713,-0.818744147853688,-0.7902642331512966,-0.932663806663254,0.2350126961347966,-0.12098623764509685,-0.9825036573924391],\"y\":[-0.9718240419812524,-0.4287717381376731,0.40177884421133053,1.8073259835711828,-1.0996010546503299,-0.4607159913049425,0.4976116037131387,1.1364966670585261,-0.7482142698103669,-1.2593223204866768,-0.36488323180313437,-0.3009947254685956,0.5934443632149468,-1.0037682951485218,-0.7801585229776362,0.43372309737859993,1.998991502574799,0.9767754012221792,-1.2273780673194075,0.08233631253863682,-1.6107091053266398,-0.8759912824794444,-0.939879788813983,-0.7801585229776362,-0.7482142698103669,1.9670472494075297,-0.7482142698103669,-0.5565487508067506,-1.7384861179957174,-1.0037682951485218,0.24205757837498368,1.2003851733930648,0.27400183154225305,0.3698345910440612,-0.39682748497040377,0.6253886163822161,-0.5246044976394812,-0.7482142698103669,-0.939879788813983,2.062880008909338,-0.6204372571412894,0.8170541353858324,-0.14127345963224877,-0.5884930039740199,1.0087196543894486,1.2962179328948729,0.6253886163822161,0.24205757837498368,-0.36488323180313437,1.5198277050657585,-0.5884930039740199,0.1142805657059062,0.3378903378767918,1.4559391987312198,-0.36488323180313437,-0.7162700166430974,-0.5884930039740199,0.6892771227167549,1.5837162114002974,-1.0676568014830605,-0.9079355356467137,-0.7162700166430974,-1.0676568014830605,0.3698345910440612,-0.49266024447221185,0.8489983885531017,-0.9718240419812524,-1.2273780673194075,-1.2912665736539461,0.8809426417203711,2.5100995532511092,0.8489983885531017,-0.9079355356467137,-1.1634895609848688,-1.0357125483157912,1.5198277050657585,-0.1093292064649794,-0.9079355356467137,0.5295558568804081,-0.5565487508067506,1.2323294265603342,0.30594608470952245,-0.39682748497040377,-1.7704303711629867,-1.2273780673194075,0.6253886163822161,0.24205757837498368,-1.7704303711629867,-1.2912665736539461,0.785109882218563,-0.5884930039740199,-0.8759912824794444,0.9448311480549099,-0.6843257634758281,0.40177884421133053,-0.9718240419812524,-0.6523815103085587,0.3378903378767918,1.647604717734836,0.9767754012221792,0.2101133252077143,-0.4287717381376731,0.050392059371367454,-0.7801585229776362,-1.5787648521593705,-0.4287717381376731,-0.7801585229776362,0.5295558568804081,-1.7384861179957174,-0.7162700166430974,1.0087196543894486,-1.9940401433338724,0.5615001100476774,-0.49266024447221185,-0.23710621913405688,-1.2593223204866768,-0.4287717381376731,1.903158743072991,-0.4607159913049425,-1.2593223204866768,-0.49266024447221185,-1.7384861179957174,-1.5787648521593705,-0.7162700166430974,1.4559391987312198,0.5615001100476774,-1.8343188774975254,-0.5884930039740199,1.2003851733930648,-0.4607159913049425,-0.7162700166430974,-1.6107091053266398,-0.7162700166430974,-0.332938978635865,0.5295558568804081,-0.4607159913049425,0.8170541353858324,-0.045440700130440666,-0.5565487508067506,-0.6204372571412894,1.647604717734836,1.3601064392294118,-1.6107091053266398,0.9448311480549099,1.0726081607239872,2.0309357557420684,0.24205757837498368,-0.8759912824794444,1.8392702367384524,1.040663907556718,-1.8343188774975254,-1.1954338141521381,1.2962179328948729,-0.939879788813983,-1.0996010546503299,0.40177884421133053,0.785109882218563,0.1142805657059062,-1.2593223204866768,-0.1093292064649794,0.43372309737859993,0.9128868948876405,0.27400183154225305,1.6156604645675667,-1.6745976116611787,-0.9079355356467137,-0.9079355356467137,1.392050692396681,-1.0996010546503299,1.5198277050657585,1.040663907556718,-0.9718240419812524,1.998991502574799,0.785109882218563,-0.7801585229776362,1.4239949455639505,-0.5884930039740199,0.3698345910440612,1.0726081607239872,2.414266793749301,-0.49266024447221185,0.3378903378767918,1.1364966670585261,0.27400183154225305,1.6795489709021054,0.8809426417203711,-0.5565487508067506,0.2101133252077143,-0.7801585229776362,-0.6843257634758281,-0.14127345963224877,-0.17321771279951814,-1.1954338141521381,-1.0996010546503299,-0.8121027761449056,-1.0037682951485218,-1.1634895609848688,0.40177884421133053,-0.939879788813983,0.9128868948876405],\"z\":[-0.8618951800284004,0.35611602651235236,1.3305249917449546,-0.31379013708506165,-0.740094059374325,-1.410000222971739,-1.5318013436258144,1.4523261123990299,0.599718267820503,-0.6791934990472874,-1.0445968610095133,-1.3490996626447014,-0.5573923783932122,-1.105497421336551,1.3914255520719923,0.5388177074934652,1.8177294743612558,-0.8009946197013628,1.574127233053105,0.5388177074934652,-2.5671108691854543,1.2087238710908792,-0.6791934990472874,0.7215193884745782,1.0260221901097664,1.939530595015331,1.1478233107638416,0.29521546618531475,-0.740094059374325,-1.2881991023176638,0.8433205091286534,0.599718267820503,-0.8009946197013628,0.6606188281475406,-0.6791934990472874,0.7824199488016158,-1.7145030246069273,0.6606188281475406,0.7215193884745782,-1.3490996626447014,0.47791714716642764,1.086922750436804,0.9042210694556911,-1.2272985419906262,-0.8009946197013628,-1.410000222971739,2.6703373189397825,-0.6182929387202498,1.2087238710908792,-0.8009946197013628,0.9651216297827288,0.7824199488016158,-0.49649181806617454,0.5388177074934652,1.3914255520719923,1.4523261123990299,0.35611602651235236,-0.8618951800284004,0.47791714716642764,-1.7754035849339649,-1.6536024642798897,-0.31379013708506165,-1.5318013436258144,-1.105497421336551,-0.8009946197013628,0.7215193884745782,-1.3490996626447014,-0.740094059374325,-1.2272985419906262,-0.922795740355438,0.6606188281475406,-1.7754035849339649,-1.1663979816635885,0.41701658683939,-0.252889576758024,-0.922795740355438,1.4523261123990299,0.7215193884745782,1.3305249917449546,0.47791714716642764,2.6703373189397825,-1.89720470558804,-0.6791934990472874,0.8433205091286534,1.3914255520719923,-0.43559125773913693,-1.1663979816635885,-0.07018789577691108,-1.0445968610095133,1.3914255520719923,-0.252889576758024,-0.49649181806617454,-0.8618951800284004,-0.37469069741209926,-1.7145030246069273,-1.7145030246069273,0.35611602651235236,1.2087238710908792,-1.410000222971739,0.41701658683939,-1.6536024642798897,-1.3490996626447014,0.35611602651235236,0.9651216297827288,-1.9581052659150777,0.599718267820503,0.41701658683939,-0.922795740355438,-0.009287335449873447,0.7215193884745782,-0.8009946197013628,0.9651216297827288,-1.2881991023176638,0.599718267820503,-0.43559125773913693,-1.3490996626447014,1.269624431417917,0.9042210694556911,-0.9836963006824756,0.35611602651235236,-0.49649181806617454,0.7215193884745782,0.5388177074934652,0.41701658683939,1.1478233107638416,-1.4709007832987768,-0.6791934990472874,-1.2272985419906262,-0.6791934990472874,1.2087238710908792,-0.922795740355438,-0.07018789577691108,0.599718267820503,0.9651216297827288,0.6606188281475406,-0.31379013708506165,0.7215193884745782,-0.9836963006824756,-1.105497421336551,-0.252889576758024,0.5388177074934652,2.3658345173045943,1.5132266727260675,0.9042210694556911,-1.3490996626447014,1.3914255520719923,-0.37469069741209926,1.3305249917449546,-1.2272985419906262,0.7215193884745782,0.41701658683939,0.5388177074934652,-0.31379013708506165,0.8433205091286534,1.086922750436804,-1.2881991023176638,-1.2272985419906262,0.05161322487716419,-0.6791934990472874,-1.3490996626447014,-0.31379013708506165,0.7215193884745782,1.4523261123990299,-1.1663979816635885,-0.9836963006824756,0.7824199488016158,0.5388177074934652,-1.1663979816635885,-1.410000222971739,0.8433205091286534,-2.749812550166567,1.4523261123990299,-1.0445968610095133,-0.740094059374325,0.9042210694556911,1.5132266727260675,-1.8363041452610025,1.3305249917449546,-0.740094059374325,-1.3490996626447014,0.05161322487716419,0.8433205091286534,-0.37469069741209926,-0.922795740355438,0.41701658683939,0.6606188281475406,-1.3490996626447014,-0.6182929387202498,0.7824199488016158,1.1478233107638416,0.8433205091286534,-0.740094059374325,-1.0445968610095133,0.35611602651235236,-1.7754035849339649,-0.922795740355438,-1.105497421336551,0.5388177074934652,-0.37469069741209926,0.599718267820503],\"type\":\"scatter3d\"}],                        {\"template\":{\"data\":{\"bar\":[{\"error_x\":{\"color\":\"#2a3f5f\"},\"error_y\":{\"color\":\"#2a3f5f\"},\"marker\":{\"line\":{\"color\":\"#E5ECF6\",\"width\":0.5},\"pattern\":{\"fillmode\":\"overlay\",\"size\":10,\"solidity\":0.2}},\"type\":\"bar\"}],\"barpolar\":[{\"marker\":{\"line\":{\"color\":\"#E5ECF6\",\"width\":0.5},\"pattern\":{\"fillmode\":\"overlay\",\"size\":10,\"solidity\":0.2}},\"type\":\"barpolar\"}],\"carpet\":[{\"aaxis\":{\"endlinecolor\":\"#2a3f5f\",\"gridcolor\":\"white\",\"linecolor\":\"white\",\"minorgridcolor\":\"white\",\"startlinecolor\":\"#2a3f5f\"},\"baxis\":{\"endlinecolor\":\"#2a3f5f\",\"gridcolor\":\"white\",\"linecolor\":\"white\",\"minorgridcolor\":\"white\",\"startlinecolor\":\"#2a3f5f\"},\"type\":\"carpet\"}],\"choropleth\":[{\"colorbar\":{\"outlinewidth\":0,\"ticks\":\"\"},\"type\":\"choropleth\"}],\"contour\":[{\"colorbar\":{\"outlinewidth\":0,\"ticks\":\"\"},\"colorscale\":[[0.0,\"#0d0887\"],[0.1111111111111111,\"#46039f\"],[0.2222222222222222,\"#7201a8\"],[0.3333333333333333,\"#9c179e\"],[0.4444444444444444,\"#bd3786\"],[0.5555555555555556,\"#d8576b\"],[0.6666666666666666,\"#ed7953\"],[0.7777777777777778,\"#fb9f3a\"],[0.8888888888888888,\"#fdca26\"],[1.0,\"#f0f921\"]],\"type\":\"contour\"}],\"contourcarpet\":[{\"colorbar\":{\"outlinewidth\":0,\"ticks\":\"\"},\"type\":\"contourcarpet\"}],\"heatmap\":[{\"colorbar\":{\"outlinewidth\":0,\"ticks\":\"\"},\"colorscale\":[[0.0,\"#0d0887\"],[0.1111111111111111,\"#46039f\"],[0.2222222222222222,\"#7201a8\"],[0.3333333333333333,\"#9c179e\"],[0.4444444444444444,\"#bd3786\"],[0.5555555555555556,\"#d8576b\"],[0.6666666666666666,\"#ed7953\"],[0.7777777777777778,\"#fb9f3a\"],[0.8888888888888888,\"#fdca26\"],[1.0,\"#f0f921\"]],\"type\":\"heatmap\"}],\"heatmapgl\":[{\"colorbar\":{\"outlinewidth\":0,\"ticks\":\"\"},\"colorscale\":[[0.0,\"#0d0887\"],[0.1111111111111111,\"#46039f\"],[0.2222222222222222,\"#7201a8\"],[0.3333333333333333,\"#9c179e\"],[0.4444444444444444,\"#bd3786\"],[0.5555555555555556,\"#d8576b\"],[0.6666666666666666,\"#ed7953\"],[0.7777777777777778,\"#fb9f3a\"],[0.8888888888888888,\"#fdca26\"],[1.0,\"#f0f921\"]],\"type\":\"heatmapgl\"}],\"histogram\":[{\"marker\":{\"pattern\":{\"fillmode\":\"overlay\",\"size\":10,\"solidity\":0.2}},\"type\":\"histogram\"}],\"histogram2d\":[{\"colorbar\":{\"outlinewidth\":0,\"ticks\":\"\"},\"colorscale\":[[0.0,\"#0d0887\"],[0.1111111111111111,\"#46039f\"],[0.2222222222222222,\"#7201a8\"],[0.3333333333333333,\"#9c179e\"],[0.4444444444444444,\"#bd3786\"],[0.5555555555555556,\"#d8576b\"],[0.6666666666666666,\"#ed7953\"],[0.7777777777777778,\"#fb9f3a\"],[0.8888888888888888,\"#fdca26\"],[1.0,\"#f0f921\"]],\"type\":\"histogram2d\"}],\"histogram2dcontour\":[{\"colorbar\":{\"outlinewidth\":0,\"ticks\":\"\"},\"colorscale\":[[0.0,\"#0d0887\"],[0.1111111111111111,\"#46039f\"],[0.2222222222222222,\"#7201a8\"],[0.3333333333333333,\"#9c179e\"],[0.4444444444444444,\"#bd3786\"],[0.5555555555555556,\"#d8576b\"],[0.6666666666666666,\"#ed7953\"],[0.7777777777777778,\"#fb9f3a\"],[0.8888888888888888,\"#fdca26\"],[1.0,\"#f0f921\"]],\"type\":\"histogram2dcontour\"}],\"mesh3d\":[{\"colorbar\":{\"outlinewidth\":0,\"ticks\":\"\"},\"type\":\"mesh3d\"}],\"parcoords\":[{\"line\":{\"colorbar\":{\"outlinewidth\":0,\"ticks\":\"\"}},\"type\":\"parcoords\"}],\"pie\":[{\"automargin\":true,\"type\":\"pie\"}],\"scatter\":[{\"marker\":{\"colorbar\":{\"outlinewidth\":0,\"ticks\":\"\"}},\"type\":\"scatter\"}],\"scatter3d\":[{\"line\":{\"colorbar\":{\"outlinewidth\":0,\"ticks\":\"\"}},\"marker\":{\"colorbar\":{\"outlinewidth\":0,\"ticks\":\"\"}},\"type\":\"scatter3d\"}],\"scattercarpet\":[{\"marker\":{\"colorbar\":{\"outlinewidth\":0,\"ticks\":\"\"}},\"type\":\"scattercarpet\"}],\"scattergeo\":[{\"marker\":{\"colorbar\":{\"outlinewidth\":0,\"ticks\":\"\"}},\"type\":\"scattergeo\"}],\"scattergl\":[{\"marker\":{\"colorbar\":{\"outlinewidth\":0,\"ticks\":\"\"}},\"type\":\"scattergl\"}],\"scattermapbox\":[{\"marker\":{\"colorbar\":{\"outlinewidth\":0,\"ticks\":\"\"}},\"type\":\"scattermapbox\"}],\"scatterpolar\":[{\"marker\":{\"colorbar\":{\"outlinewidth\":0,\"ticks\":\"\"}},\"type\":\"scatterpolar\"}],\"scatterpolargl\":[{\"marker\":{\"colorbar\":{\"outlinewidth\":0,\"ticks\":\"\"}},\"type\":\"scatterpolargl\"}],\"scatterternary\":[{\"marker\":{\"colorbar\":{\"outlinewidth\":0,\"ticks\":\"\"}},\"type\":\"scatterternary\"}],\"surface\":[{\"colorbar\":{\"outlinewidth\":0,\"ticks\":\"\"},\"colorscale\":[[0.0,\"#0d0887\"],[0.1111111111111111,\"#46039f\"],[0.2222222222222222,\"#7201a8\"],[0.3333333333333333,\"#9c179e\"],[0.4444444444444444,\"#bd3786\"],[0.5555555555555556,\"#d8576b\"],[0.6666666666666666,\"#ed7953\"],[0.7777777777777778,\"#fb9f3a\"],[0.8888888888888888,\"#fdca26\"],[1.0,\"#f0f921\"]],\"type\":\"surface\"}],\"table\":[{\"cells\":{\"fill\":{\"color\":\"#EBF0F8\"},\"line\":{\"color\":\"white\"}},\"header\":{\"fill\":{\"color\":\"#C8D4E3\"},\"line\":{\"color\":\"white\"}},\"type\":\"table\"}]},\"layout\":{\"annotationdefaults\":{\"arrowcolor\":\"#2a3f5f\",\"arrowhead\":0,\"arrowwidth\":1},\"autotypenumbers\":\"strict\",\"coloraxis\":{\"colorbar\":{\"outlinewidth\":0,\"ticks\":\"\"}},\"colorscale\":{\"diverging\":[[0,\"#8e0152\"],[0.1,\"#c51b7d\"],[0.2,\"#de77ae\"],[0.3,\"#f1b6da\"],[0.4,\"#fde0ef\"],[0.5,\"#f7f7f7\"],[0.6,\"#e6f5d0\"],[0.7,\"#b8e186\"],[0.8,\"#7fbc41\"],[0.9,\"#4d9221\"],[1,\"#276419\"]],\"sequential\":[[0.0,\"#0d0887\"],[0.1111111111111111,\"#46039f\"],[0.2222222222222222,\"#7201a8\"],[0.3333333333333333,\"#9c179e\"],[0.4444444444444444,\"#bd3786\"],[0.5555555555555556,\"#d8576b\"],[0.6666666666666666,\"#ed7953\"],[0.7777777777777778,\"#fb9f3a\"],[0.8888888888888888,\"#fdca26\"],[1.0,\"#f0f921\"]],\"sequentialminus\":[[0.0,\"#0d0887\"],[0.1111111111111111,\"#46039f\"],[0.2222222222222222,\"#7201a8\"],[0.3333333333333333,\"#9c179e\"],[0.4444444444444444,\"#bd3786\"],[0.5555555555555556,\"#d8576b\"],[0.6666666666666666,\"#ed7953\"],[0.7777777777777778,\"#fb9f3a\"],[0.8888888888888888,\"#fdca26\"],[1.0,\"#f0f921\"]]},\"colorway\":[\"#636efa\",\"#EF553B\",\"#00cc96\",\"#ab63fa\",\"#FFA15A\",\"#19d3f3\",\"#FF6692\",\"#B6E880\",\"#FF97FF\",\"#FECB52\"],\"font\":{\"color\":\"#2a3f5f\"},\"geo\":{\"bgcolor\":\"white\",\"lakecolor\":\"white\",\"landcolor\":\"#E5ECF6\",\"showlakes\":true,\"showland\":true,\"subunitcolor\":\"white\"},\"hoverlabel\":{\"align\":\"left\"},\"hovermode\":\"closest\",\"mapbox\":{\"style\":\"light\"},\"paper_bgcolor\":\"white\",\"plot_bgcolor\":\"#E5ECF6\",\"polar\":{\"angularaxis\":{\"gridcolor\":\"white\",\"linecolor\":\"white\",\"ticks\":\"\"},\"bgcolor\":\"#E5ECF6\",\"radialaxis\":{\"gridcolor\":\"white\",\"linecolor\":\"white\",\"ticks\":\"\"}},\"scene\":{\"xaxis\":{\"backgroundcolor\":\"#E5ECF6\",\"gridcolor\":\"white\",\"gridwidth\":2,\"linecolor\":\"white\",\"showbackground\":true,\"ticks\":\"\",\"zerolinecolor\":\"white\"},\"yaxis\":{\"backgroundcolor\":\"#E5ECF6\",\"gridcolor\":\"white\",\"gridwidth\":2,\"linecolor\":\"white\",\"showbackground\":true,\"ticks\":\"\",\"zerolinecolor\":\"white\"},\"zaxis\":{\"backgroundcolor\":\"#E5ECF6\",\"gridcolor\":\"white\",\"gridwidth\":2,\"linecolor\":\"white\",\"showbackground\":true,\"ticks\":\"\",\"zerolinecolor\":\"white\"}},\"shapedefaults\":{\"line\":{\"color\":\"#2a3f5f\"}},\"ternary\":{\"aaxis\":{\"gridcolor\":\"white\",\"linecolor\":\"white\",\"ticks\":\"\"},\"baxis\":{\"gridcolor\":\"white\",\"linecolor\":\"white\",\"ticks\":\"\"},\"bgcolor\":\"#E5ECF6\",\"caxis\":{\"gridcolor\":\"white\",\"linecolor\":\"white\",\"ticks\":\"\"}},\"title\":{\"x\":0.05},\"xaxis\":{\"automargin\":true,\"gridcolor\":\"white\",\"linecolor\":\"white\",\"ticks\":\"\",\"title\":{\"standoff\":15},\"zerolinecolor\":\"white\",\"zerolinewidth\":2},\"yaxis\":{\"automargin\":true,\"gridcolor\":\"white\",\"linecolor\":\"white\",\"ticks\":\"\",\"title\":{\"standoff\":15},\"zerolinecolor\":\"white\",\"zerolinewidth\":2}}},\"scene\":{\"domain\":{\"x\":[0.0,1.0],\"y\":[0.0,1.0]},\"xaxis\":{\"title\":{\"text\":\"insuline\"}},\"yaxis\":{\"title\":{\"text\":\"glucose\"}},\"zaxis\":{\"title\":{\"text\":\"pression\"}}},\"legend\":{\"title\":{\"text\":\"color\"},\"tracegroupgap\":0},\"margin\":{\"t\":60}},                        {\"responsive\": true}                    ).then(function(){\n",
       "                            \n",
       "var gd = document.getElementById('3c3f14d0-1ef9-4926-acf0-d7aa2f22cc8c');\n",
       "var x = new MutationObserver(function (mutations, observer) {{\n",
       "        var display = window.getComputedStyle(gd).display;\n",
       "        if (!display || display === 'none') {{\n",
       "            console.log([gd, 'removed!']);\n",
       "            Plotly.purge(gd);\n",
       "            observer.disconnect();\n",
       "        }}\n",
       "}});\n",
       "\n",
       "// Listen for the removal of the full notebook cells\n",
       "var notebookContainer = gd.closest('#notebook-container');\n",
       "if (notebookContainer) {{\n",
       "    x.observe(notebookContainer, {childList: true});\n",
       "}}\n",
       "\n",
       "// Listen for the clearing of the current output cell\n",
       "var outputEl = gd.closest('.output');\n",
       "if (outputEl) {{\n",
       "    x.observe(outputEl, {childList: true});\n",
       "}}\n",
       "\n",
       "                        })                };                });            </script>        </div>"
      ]
     },
     "metadata": {},
     "output_type": "display_data"
    }
   ],
   "source": [
    "import plotly.express as px\n",
    "fig=px.scatter_3d(data_frame=tn, x='insuline', y='glucose', z='pression', color=tn['M'].astype(str), color_discrete_map={'1':'gray', '0':'blue'})\n",
    "fig.show()"
   ]
  },
  {
   "cell_type": "markdown",
   "metadata": {},
   "source": [
    "10)A partir des trois colonnes insuline, grossesse , age céerle nuage de points des individus dans l'espace muni d'un repère orthonormé. Chaque individu est représent par unpoint M(x, y,z). M sera de couleur grise s'il est malade et bleue si non"
   ]
  },
  {
   "cell_type": "code",
   "execution_count": 145,
   "metadata": {},
   "outputs": [
    {
     "data": {
      "application/vnd.plotly.v1+json": {
       "config": {
        "plotlyServerURL": "https://plot.ly"
       },
       "data": [
        {
         "hovertemplate": "color=1<br>insuline=%{x}<br>grossesses=%{y}<br>age=%{z}<extra></extra>",
         "legendgroup": "1",
         "marker": {
          "color": "gray",
          "symbol": "circle"
         },
         "mode": "markers",
         "name": "1",
         "scene": "scene",
         "showlegend": true,
         "type": "scatter3d",
         "x": [
          -0.9113038706364603,
          2.5703657017308976,
          -0.49122512877618607,
          0.4984519071319178,
          1.132130009260128,
          -0.6834645530173286,
          0.7761310754802347,
          3.901801714067699,
          0.5198118431587114,
          3.367803313397859,
          0.6194915446170816,
          -0.5410649795053711,
          0.6194915446170816,
          4.286280562549984,
          -0.7048244890441221,
          0.8330909048850177,
          3.681082375124165,
          -0.5980248089101541,
          0.41301216302474336,
          -0.5980248089101541,
          -0.761784318448905,
          -0.9184238493120582,
          0.33469239759316677,
          -0.02842651486232454,
          1.2104497746917047,
          -0.07114638691591176,
          -0.9469037640144496,
          -0.7475443610977094,
          1.4382890923108365,
          0.7405311821022453,
          -0.9184238493120582,
          1.7800480687395344,
          5.339984006693545e-05,
          0.07125318659604563,
          0.7690110968046369,
          0.15669293070322007,
          -0.5766648728833604,
          -0.9540237426900475,
          0.21365276010800302,
          -0.7048244890441221,
          -0.605144787585752,
          1.5593287297960003,
          -0.03554649353792241,
          0.22789271745919876,
          -0.9967436147436348,
          -0.5268250221541754,
          -0.4769851714249903,
          -0.44850525672259883,
          -0.4841051501005882,
          -0.4841051501005882,
          -0.44850525672259883,
          0.4699719924295263,
          -0.6122647662613498,
          3.908921692743297,
          0.021413335866860544,
          0.9256506276677899,
          -0.9255438279876561,
          -0.71194446771972,
          0.45573203507833054,
          -0.03554649353792241,
          0.7547711394534411,
          1.352849348203662,
          -0.6621046169905349,
          -0.5125850648029796,
          0.45573203507833054,
          -0.9967436147436348,
          1.2958895187988793,
          -0.49122512877618607,
          -0.5837848515589583,
          0.9541305423701815,
          -0.8970639132852646,
          -0.07826636559150962,
          0.5340518005099071,
          -0.43426529937140307,
          1.4454090709864345,
          0.25637263216159023,
          -0.5268250221541754,
          -1.0109835720948306,
          -0.43426529937140307,
          -0.6763445743417307,
          0.2919725255395796,
          -0.5054650861273818,
          -0.5980248089101541,
          -0.4627452140737946,
          1.3670893055548579,
          0.6194915446170816,
          0.811730968858224,
          2.442206085570136,
          0.33469239759316677,
          -0.605144787585752,
          1.3314894121768686,
          0.4628520137539284,
          -0.9184238493120582,
          0.04989325056925202,
          -0.5909048302345562,
          -0.875703977258471,
          1.5664487084715981,
          -0.9397837853388518,
          0.3560523336199604,
          1.3243694335012706,
          1.2745295827720855,
          2.171646895897417,
          0.021413335866860544,
          -0.8899439346096667,
          0.377412269646754,
          -0.10674628029390111,
          0.014293357191262674,
          -0.8828239559340688,
          -0.605144787585752,
          0.17805286673001366,
          1.3599693268792599,
          1.950927556953883,
          -0.4841051501005882,
          0.8188509475338219,
          -0.04266647221352028,
          -0.8543440412316774,
          -0.605144787585752,
          1.4240491349596407,
          1.5094888790668153,
          -0.5054650861273818,
          0.32757241891756894,
          -0.014186557511128803,
          -0.04266647221352028,
          1.1748498813137154,
          1.2246897320429004,
          -1.0038635934192326,
          -0.5125850648029796,
          -0.5054650861273818,
          1.4026891989328472,
          0.16381290937881793,
          -0.548184958180969,
          -0.014186557511128803,
          0.42013214170034124,
          -0.021306536186726673,
          1.2745295827720855,
          -0.7261844250709157,
          0.3702922909711561,
          0.3987722056735476,
          -0.4841051501005882,
          0.3062124828907753,
          2.221486746626602,
          -0.6977045103685242,
          -0.5268250221541754,
          0.377412269646754,
          -0.014186557511128803,
          0.8259709262094198,
          -0.7902642331512966,
          0.9826104570725729,
          0.44149207772713484,
          2.598845616433289,
          1.3314894121768686,
          -0.71194446771972,
          -0.44850525672259883,
          0.08549314394724136,
          -0.6265047236125456,
          3.0972441237251402,
          2.12892702384383,
          3.745162183204546,
          -0.5054650861273818,
          0.5838916512390923,
          -1.0038635934192326,
          1.1463699666113238,
          -0.07826636559150962,
          -0.6407446809637413,
          -0.4627452140737946,
          0.3062124828907753,
          -0.7475443610977094,
          0.44149207772713484,
          0.1495729520276222,
          -0.6336247022881434,
          2.1431669811950256,
          1.3243694335012706,
          -0.5695448942077627,
          -0.44850525672259883,
          0.7191712460754517,
          0.7476511607778432,
          -0.5837848515589583,
          0.5198118431587114,
          1.6946083246323598,
          -0.9540237426900475,
          0.1495729520276222,
          0.41301216302474336,
          0.9541305423701815,
          0.6479714593194731,
          0.4058921843491455,
          -0.4841051501005882,
          0.9897304357481708,
          2.1075670878170363,
          -0.6265047236125456,
          1.3813292629060536,
          1.3101294761500748,
          0.8259709262094198,
          -0.4556252353981967,
          2.0790871731146447,
          -0.04266647221352028,
          -0.7333044037465136,
          0.2919725255395796,
          -0.43426529937140307,
          0.20653278143240514,
          -0.5410649795053711
         ],
         "y": [
          -0.5160406910093366,
          1.752270038702033,
          -0.5160406910093366,
          1.4687311974881117,
          -0.23250184979541533,
          0.3345758326324271,
          0.05103699141850586,
          1.1851923562741906,
          0.05103699141850586,
          -0.5160406910093366,
          -0.23250184979541533,
          0.6181146738463482,
          0.6181146738463482,
          0.3345758326324271,
          -0.5160406910093366,
          0.3345758326324271,
          -0.7995795322232577,
          1.4687311974881117,
          0.9016535150602695,
          -0.5160406910093366,
          0.05103699141850586,
          2.035808879915954,
          -0.23250184979541533,
          0.6181146738463482,
          1.1851923562741906,
          -0.23250184979541533,
          -0.23250184979541533,
          -0.5160406910093366,
          0.6181146738463482,
          -0.5160406910093366,
          -0.5160406910093366,
          -0.5160406910093366,
          -0.7995795322232577,
          -0.5160406910093366,
          0.05103699141850586,
          -0.5160406910093366,
          0.3345758326324271,
          -0.23250184979541533,
          0.05103699141850586,
          2.886425403557718,
          -0.5160406910093366,
          -0.23250184979541533,
          0.6181146738463482,
          -0.7995795322232577,
          0.3345758326324271,
          0.6181146738463482,
          -0.5160406910093366,
          -0.23250184979541533,
          0.3345758326324271,
          0.3345758326324271,
          0.3345758326324271,
          1.4687311974881117,
          0.6181146738463482,
          0.05103699141850586,
          -0.23250184979541533,
          -0.5160406910093366,
          1.4687311974881117,
          1.1851923562741906,
          1.1851923562741906,
          1.1851923562741906,
          1.1851923562741906,
          -0.7995795322232577,
          0.3345758326324271,
          1.1851923562741906,
          0.3345758326324271,
          -0.5160406910093366,
          -0.23250184979541533,
          -0.23250184979541533,
          1.4687311974881117,
          -0.7995795322232577,
          -0.5160406910093366,
          -0.23250184979541533,
          -0.23250184979541533,
          1.1851923562741906,
          0.3345758326324271,
          -0.23250184979541533,
          0.3345758326324271,
          1.4687311974881117,
          -0.5160406910093366,
          1.4687311974881117,
          1.4687311974881117,
          0.6181146738463482,
          0.6181146738463482,
          2.035808879915954,
          1.4687311974881117,
          -0.5160406910093366,
          -0.23250184979541533,
          0.6181146738463482,
          1.1851923562741906,
          1.1851923562741906,
          -0.5160406910093366,
          2.3193477211298754,
          0.3345758326324271,
          -0.23250184979541533,
          1.1851923562741906,
          -0.23250184979541533,
          0.3345758326324271,
          0.3345758326324271,
          0.05103699141850586,
          2.6028865623437967,
          0.3345758326324271,
          -0.5160406910093366,
          0.9016535150602695,
          0.6181146738463482,
          2.035808879915954,
          1.4687311974881117,
          -0.5160406910093366,
          0.05103699141850586,
          0.05103699141850586,
          -0.5160406910093366,
          2.035808879915954,
          -0.5160406910093366,
          0.05103699141850586,
          1.4687311974881117,
          2.3193477211298754,
          -0.7995795322232577,
          0.05103699141850586,
          1.1851923562741906,
          -1.083118373437179,
          2.6028865623437967,
          0.3345758326324271,
          1.4687311974881117,
          0.9016535150602695,
          1.1851923562741906,
          0.9016535150602695,
          1.4687311974881117,
          0.3345758326324271,
          1.1851923562741906,
          0.3345758326324271,
          0.6181146738463482,
          0.3345758326324271,
          1.4687311974881117,
          0.05103699141850586,
          1.752270038702033,
          0.05103699141850586,
          -0.7995795322232577,
          -0.23250184979541533,
          -0.23250184979541533,
          1.752270038702033,
          -0.5160406910093366,
          0.3345758326324271,
          0.05103699141850586,
          0.6181146738463482,
          -0.7995795322232577,
          1.752270038702033,
          0.05103699141850586,
          1.1851923562741906,
          1.1851923562741906,
          0.05103699141850586,
          -0.23250184979541533,
          -0.23250184979541533,
          1.4687311974881117,
          -0.5160406910093366,
          0.6181146738463482,
          1.752270038702033,
          -0.5160406910093366,
          1.1851923562741906,
          2.886425403557718,
          2.035808879915954,
          -0.23250184979541533,
          1.752270038702033,
          0.05103699141850586,
          1.1851923562741906,
          0.05103699141850586,
          -0.23250184979541533,
          1.4687311974881117,
          -0.23250184979541533,
          -0.7995795322232577,
          1.4687311974881117,
          1.4687311974881117,
          -0.23250184979541533,
          -0.5160406910093366,
          -0.23250184979541533,
          0.6181146738463482,
          1.752270038702033,
          -0.23250184979541533,
          2.6028865623437967,
          1.4687311974881117,
          0.6181146738463482,
          0.3345758326324271,
          0.6181146738463482,
          1.1851923562741906,
          2.035808879915954,
          0.05103699141850586,
          -0.5160406910093366,
          -0.23250184979541533,
          -0.5160406910093366,
          -0.23250184979541533,
          1.1851923562741906,
          -0.5160406910093366,
          -0.5160406910093366,
          2.035808879915954,
          0.3345758326324271,
          -0.23250184979541533,
          -0.5160406910093366,
          0.05103699141850586,
          1.752270038702033,
          0.3345758326324271,
          2.035808879915954,
          0.05103699141850586
         ],
         "z": [
          0.3345790745715914,
          0.968852201721528,
          -0.6961147570470555,
          0.4931473563590756,
          -0.7753988979407975,
          0.6517156381465598,
          -0.6168306161533134,
          -0.7753988979407975,
          2.4752508787026275,
          1.2067046244027542,
          -0.6961147570470555,
          -0.6961147570470555,
          1.127420483509012,
          2.395966737808885,
          0.6517156381465598,
          0.1760107927841073,
          -0.7753988979407975,
          0.968852201721528,
          1.9202618924464327,
          -0.7753988979407975,
          0.889568060827786,
          -0.6168306161533134,
          1.0481363426152701,
          -0.6961147570470555,
          -0.14112577079086097,
          1.2859887652964963,
          2.395966737808885,
          1.127420483509012,
          0.5724314972528176,
          -0.6961147570470555,
          -0.6961147570470555,
          1.0481363426152701,
          0.4931473563590756,
          -0.7753988979407975,
          0.968852201721528,
          0.5724314972528176,
          -0.7753988979407975,
          0.6517156381465598,
          -0.7753988979407975,
          -0.6961147570470555,
          -0.6961147570470555,
          -0.7753988979407975,
          1.8409777515526908,
          1.0481363426152701,
          -0.14112577079086097,
          -0.6961147570470555,
          2.395966737808885,
          -0.6961147570470555,
          -0.6168306161533134,
          0.5724314972528176,
          -0.6961147570470555,
          -0.6168306161533134,
          2.237398456021401,
          -0.7753988979407975,
          2.158114315127659,
          -0.6961147570470555,
          -0.6168306161533134,
          1.127420483509012,
          -0.6961147570470555,
          -0.7753988979407975,
          1.8409777515526908,
          2.6338191604901113,
          1.9202618924464327,
          2.316682596915143,
          -0.6168306161533134,
          0.968852201721528,
          0.3345790745715914,
          0.8102839199340438,
          -0.7753988979407975,
          1.2067046244027542,
          -0.7753988979407975,
          -0.6168306161533134,
          0.889568060827786,
          0.968852201721528,
          -0.6961147570470555,
          1.0481363426152701,
          0.5724314972528176,
          1.2859887652964963,
          -0.7753988979407975,
          2.316682596915143,
          -0.7753988979407975,
          -0.6168306161533134,
          2.078830174233917,
          -0.14112577079086097,
          1.2067046244027542,
          -0.6961147570470555,
          1.9202618924464327,
          -0.6168306161533134,
          0.968852201721528,
          -0.0618416298971189,
          0.3345790745715914,
          2.4752508787026275,
          -0.0618416298971189,
          -0.6168306161533134,
          2.078830174233917,
          1.7616936106589487,
          -0.7753988979407975,
          1.0481363426152701,
          1.9202618924464327,
          -0.7753988979407975,
          0.4931473563590756,
          1.127420483509012,
          -0.7753988979407975,
          -0.7753988979407975,
          0.968852201721528,
          -0.7753988979407975,
          1.127420483509012,
          1.127420483509012,
          -0.7753988979407975,
          1.6824094697652066,
          -0.6961147570470555,
          -0.6168306161533134,
          0.1760107927841073,
          -0.6168306161533134,
          1.127420483509012,
          0.7309997790403018,
          -0.7753988979407975,
          1.0481363426152701,
          -0.7753988979407975,
          -0.6168306161533134,
          2.237398456021401,
          2.395966737808885,
          1.0481363426152701,
          -0.6168306161533134,
          -0.7753988979407975,
          0.4138632154653335,
          1.0481363426152701,
          -0.6961147570470555,
          1.8409777515526908,
          -0.6961147570470555,
          0.968852201721528,
          -0.6961147570470555,
          -0.6168306161533134,
          1.127420483509012,
          -0.6168306161533134,
          -0.6168306161533134,
          -0.6168306161533134,
          -0.7753988979407975,
          1.2067046244027542,
          1.127420483509012,
          1.127420483509012,
          -0.6961147570470555,
          -0.6961147570470555,
          -0.6961147570470555,
          -0.6961147570470555,
          1.127420483509012,
          0.4138632154653335,
          -0.6961147570470555,
          0.968852201721528,
          -0.7753988979407975,
          0.2552949336778494,
          0.968852201721528,
          -0.6961147570470555,
          -0.7753988979407975,
          -0.7753988979407975,
          -0.6961147570470555,
          -0.7753988979407975,
          -0.6168306161533134,
          2.395966737808885,
          -0.7753988979407975,
          0.017442510996623164,
          -0.7753988979407975,
          -0.6961147570470555,
          -0.7753988979407975,
          0.5724314972528176,
          -0.7753988979407975,
          -0.6961147570470555,
          -0.7753988979407975,
          0.4138632154653335,
          1.9202618924464327,
          2.237398456021401,
          0.5724314972528176,
          -0.6168306161533134,
          -0.6961147570470555,
          1.0481363426152701,
          -0.7753988979407975,
          2.7923874422775956,
          -0.0618416298971189,
          2.4752508787026275,
          -0.6961147570470555,
          -0.7753988979407975,
          -0.6961147570470555,
          0.3345790745715914,
          1.127420483509012,
          1.8409777515526908,
          -0.7753988979407975,
          0.889568060827786,
          -0.6961147570470555,
          -0.6961147570470555,
          0.4931473563590756,
          1.0481363426152701,
          2.316682596915143,
          1.2859887652964963,
          2.237398456021401,
          0.968852201721528,
          -0.6168306161533134,
          -0.7753988979407975,
          0.889568060827786,
          -0.6961147570470555,
          -0.6961147570470555
         ]
        },
        {
         "hovertemplate": "color=0<br>insuline=%{x}<br>grossesses=%{y}<br>age=%{z}<extra></extra>",
         "legendgroup": "0",
         "marker": {
          "color": "blue",
          "symbol": "circle"
         },
         "mode": "markers",
         "name": "0",
         "scene": "scene",
         "showlegend": true,
         "type": "scatter3d",
         "x": [
          -0.22778591777906487,
          -0.548184958180969,
          -0.8543440412316774,
          -0.8116241691780902,
          0.2421326748103945,
          -1.0109835720948306,
          -0.875703977258471,
          -0.9113038706364603,
          0.05701322924484989,
          -0.7831442544756987,
          -0.9397837853388518,
          -0.5339450008297733,
          -0.8970639132852646,
          -0.6977045103685242,
          -0.8685839985828732,
          -0.818744147853688,
          -0.761784318448905,
          -0.9967436147436348,
          -0.8685839985828732,
          -0.6122647662613498,
          -0.9611437213656454,
          -0.7760242758001008,
          -0.654984638314937,
          0.7262912247510496,
          0.3062124828907753,
          0.6337315019682773,
          -0.8685839985828732,
          -0.7760242758001008,
          -0.5268250221541754,
          -0.7475443610977094,
          0.7262912247510496,
          0.8046109901826262,
          -0.8045041905024923,
          -0.8258641265292859,
          0.270612589512786,
          -0.7973842118268945,
          -0.9753836787168412,
          -0.9469037640144496,
          0.44149207772713484,
          -0.8970639132852646,
          -0.9041838919608625,
          0.18517284540561155,
          -0.8401040838804816,
          0.08549314394724136,
          -0.8401040838804816,
          0.1495729520276222,
          -0.9896236360680369,
          -0.22778591777906487,
          0.4984519071319178,
          0.20653278143240514,
          -0.7973842118268945,
          0.13533299467642645,
          -0.8828239559340688,
          -0.09250632294270536,
          0.1709328880544158,
          -0.7902642331512966,
          -0.8614640199072753,
          -0.9967436147436348,
          -0.7973842118268945,
          -0.9825036573924391,
          -0.007066578835530934,
          0.3702922909711561,
          2.1004471091414385,
          -0.7689042971245029,
          0.035653293218056284,
          -0.8116241691780902,
          -0.7261844250709157,
          -0.8401040838804816,
          0.42725212037593907,
          -0.7475443610977094,
          -0.9397837853388518,
          -0.8329841052048838,
          -0.18506604572547766,
          -0.22778591777906487,
          -0.7760242758001008,
          1.5094888790668153,
          -0.9113038706364603,
          -0.8045041905024923,
          -0.21354596042786914,
          -0.7831442544756987,
          2.2642066186801895,
          0.9256506276677899,
          -0.818744147853688,
          -0.4983451074517839,
          -0.818744147853688,
          0.704931288724256,
          -0.8543440412316774,
          -0.5339450008297733,
          -0.8614640199072753,
          -0.875703977258471,
          0.43437209905153695,
          -0.8329841052048838,
          -0.7475443610977094,
          -0.14234617367189045,
          0.09261312262283923,
          0.6479714593194731,
          -0.05690642956471602,
          -0.22778591777906487,
          0.1424529733520243,
          0.4842119497807221,
          -0.9540237426900475,
          -0.8828239559340688,
          -0.7831442544756987,
          0.6906913313730603,
          0.5198118431587114,
          -0.605144787585752,
          -0.761784318448905,
          -0.11386625896949898,
          -0.6977045103685242,
          -0.818744147853688,
          -0.19218602440107554,
          -0.9967436147436348,
          -0.7760242758001008,
          -0.8543440412316774,
          0.18517284540561155,
          -0.9255438279876561,
          0.761891118129039,
          0.5910116299146901,
          0.3845322483223519,
          -0.9255438279876561,
          0.20653278143240514,
          -0.8472240625560795,
          0.25637263216159023,
          -0.9896236360680369,
          -0.8329841052048838,
          -0.7831442544756987,
          -0.8970639132852646,
          0.7832510541558325,
          -0.8614640199072753,
          -0.9113038706364603,
          -0.818744147853688,
          0.04989325056925202,
          0.06413320792044776,
          -0.9611437213656454,
          -0.10674628029390111,
          -0.14234617367189045,
          0.05701322924484989,
          -0.818744147853688,
          -0.6621046169905349,
          -0.03554649353792241,
          0.021413335866860544,
          -0.8329841052048838,
          0.6123715659414837,
          -0.7973842118268945,
          0.08549314394724136,
          -0.7475443610977094,
          -1.0038635934192326,
          1.3599693268792599,
          -0.11386625896949898,
          -0.9540237426900475,
          0.19941280275680728,
          -0.6407446809637413,
          -0.8045041905024923,
          0.10685307997403498,
          -0.7404243824221115,
          -0.8401040838804816,
          0.6337315019682773,
          -0.12810621632069472,
          -0.9967436147436348,
          -0.8472240625560795,
          -0.9611437213656454,
          0.24925265348599235,
          0.21365276010800302,
          0.33469239759316677,
          -0.8472240625560795,
          -0.9255438279876561,
          -0.6193847449369477,
          -0.1779460670498798,
          -1.0109835720948306,
          -0.9255438279876561,
          3.552922758963404,
          0.704931288724256,
          -0.9397837853388518,
          -0.9825036573924391,
          -0.22778591777906487,
          -0.007066578835530934,
          0.07125318659604563,
          -0.7689042971245029,
          0.1424529733520243,
          -0.7475443610977094,
          -0.9113038706364603,
          0.2634926108371881,
          0.12109303732523072,
          0.6123715659414837,
          -1.0109835720948306,
          3.609882588368187,
          0.17805286673001366,
          -0.8899439346096667,
          -0.09962630161830323,
          -0.9469037640144496,
          -0.8045041905024923,
          1.2887695401232813,
          5.339984006693545e-05,
          3.6597224390973713,
          -0.818744147853688,
          -0.7902642331512966,
          -0.932663806663254,
          0.2350126961347966,
          -0.12098623764509685,
          -0.9825036573924391
         ],
         "y": [
          -0.7995795322232577,
          -1.083118373437179,
          0.9016535150602695,
          -1.083118373437179,
          1.4687311974881117,
          1.752270038702033,
          -0.7995795322232577,
          1.4687311974881117,
          -1.083118373437179,
          -0.5160406910093366,
          -1.083118373437179,
          0.05103699141850586,
          -1.083118373437179,
          0.6181146738463482,
          -0.7995795322232577,
          -0.7995795322232577,
          -1.083118373437179,
          -0.7995795322232577,
          -1.083118373437179,
          -1.083118373437179,
          -1.083118373437179,
          -0.23250184979541533,
          -0.7995795322232577,
          -0.23250184979541533,
          -1.083118373437179,
          -1.083118373437179,
          -1.083118373437179,
          -0.7995795322232577,
          -1.083118373437179,
          -0.7995795322232577,
          -1.083118373437179,
          -0.7995795322232577,
          -0.7995795322232577,
          -0.7995795322232577,
          -1.083118373437179,
          -0.7995795322232577,
          -1.083118373437179,
          -1.083118373437179,
          -1.083118373437179,
          -0.7995795322232577,
          -1.083118373437179,
          -0.7995795322232577,
          -1.083118373437179,
          -1.083118373437179,
          -1.083118373437179,
          -0.7995795322232577,
          -1.083118373437179,
          0.6181146738463482,
          -0.7995795322232577,
          1.4687311974881117,
          -0.7995795322232577,
          -1.083118373437179,
          -0.7995795322232577,
          -1.083118373437179,
          -1.083118373437179,
          -1.083118373437179,
          -0.23250184979541533,
          0.9016535150602695,
          -0.7995795322232577,
          -1.083118373437179,
          -1.083118373437179,
          -0.7995795322232577,
          -0.7995795322232577,
          -0.7995795322232577,
          -0.7995795322232577,
          1.4687311974881117,
          0.6181146738463482,
          -1.083118373437179,
          -0.7995795322232577,
          1.4687311974881117,
          -1.083118373437179,
          -0.7995795322232577,
          -1.083118373437179,
          0.9016535150602695,
          -1.083118373437179,
          -0.7995795322232577,
          -0.7995795322232577,
          -1.083118373437179,
          -1.083118373437179,
          1.4687311974881117,
          -1.083118373437179,
          -0.7995795322232577,
          0.6181146738463482,
          -1.083118373437179,
          -1.083118373437179,
          -1.083118373437179,
          -0.7995795322232577,
          0.9016535150602695,
          -0.7995795322232577,
          0.9016535150602695,
          -1.083118373437179,
          -0.7995795322232577,
          -1.083118373437179,
          -1.083118373437179,
          0.9016535150602695,
          0.3345758326324271,
          1.4687311974881117,
          -1.083118373437179,
          -0.7995795322232577,
          -0.23250184979541533,
          -0.7995795322232577,
          -1.083118373437179,
          -1.083118373437179,
          -0.7995795322232577,
          -1.083118373437179,
          -1.083118373437179,
          -0.7995795322232577,
          -1.083118373437179,
          -1.083118373437179,
          1.4687311974881117,
          -1.083118373437179,
          1.1851923562741906,
          -1.083118373437179,
          -1.083118373437179,
          0.6181146738463482,
          -1.083118373437179,
          1.1851923562741906,
          -1.083118373437179,
          -1.083118373437179,
          -0.7995795322232577,
          0.3345758326324271,
          -1.083118373437179,
          -0.7995795322232577,
          -0.7995795322232577,
          -0.7995795322232577,
          -0.23250184979541533,
          -0.7995795322232577,
          -1.083118373437179,
          -1.083118373437179,
          -1.083118373437179,
          0.9016535150602695,
          -0.7995795322232577,
          1.752270038702033,
          -1.083118373437179,
          0.6181146738463482,
          -0.7995795322232577,
          -1.083118373437179,
          1.1851923562741906,
          -0.7995795322232577,
          1.752270038702033,
          0.9016535150602695,
          -0.7995795322232577,
          -1.083118373437179,
          -0.23250184979541533,
          -0.7995795322232577,
          -1.083118373437179,
          -0.7995795322232577,
          -1.083118373437179,
          -1.083118373437179,
          -1.083118373437179,
          -1.083118373437179,
          -0.7995795322232577,
          -0.7995795322232577,
          -1.083118373437179,
          0.9016535150602695,
          -0.23250184979541533,
          -1.083118373437179,
          -1.083118373437179,
          -0.5160406910093366,
          -1.083118373437179,
          0.6181146738463482,
          0.9016535150602695,
          -1.083118373437179,
          1.4687311974881117,
          -0.7995795322232577,
          -0.7995795322232577,
          -0.7995795322232577,
          0.6181146738463482,
          -1.083118373437179,
          0.6181146738463482,
          -0.7995795322232577,
          0.9016535150602695,
          -1.083118373437179,
          -1.083118373437179,
          -1.083118373437179,
          1.4687311974881117,
          -1.083118373437179,
          -0.7995795322232577,
          1.1851923562741906,
          0.9016535150602695,
          1.4687311974881117,
          0.6181146738463482,
          -0.7995795322232577,
          -1.083118373437179,
          -0.7995795322232577,
          0.9016535150602695,
          1.752270038702033,
          1.4687311974881117,
          -1.083118373437179,
          -0.7995795322232577,
          -1.083118373437179,
          -1.083118373437179,
          0.6181146738463482,
          -1.083118373437179,
          -0.7995795322232577,
          0.05103699141850586,
          -0.7995795322232577,
          -0.7995795322232577,
          -0.7995795322232577,
          -0.7995795322232577
         ],
         "z": [
          -0.6961147570470555,
          -0.7753988979407975,
          -0.45826233436582925,
          -0.6168306161533134,
          -0.7753988979407975,
          -0.5375464752595713,
          -0.7753988979407975,
          -0.5375464752595713,
          -0.37897819347208717,
          -0.5375464752595713,
          -0.37897819347208717,
          0.3345790745715914,
          -0.6168306161533134,
          -0.6168306161533134,
          -0.37897819347208717,
          1.6824094697652066,
          -0.5375464752595713,
          -0.7753988979407975,
          -0.7753988979407975,
          -0.6168306161533134,
          -0.7753988979407975,
          -0.37897819347208717,
          -0.6168306161533134,
          -0.7753988979407975,
          -0.6961147570470555,
          -0.6168306161533134,
          1.5238411879777225,
          -0.6961147570470555,
          -0.37897819347208717,
          -0.37897819347208717,
          -0.6168306161533134,
          -0.6961147570470555,
          -0.7753988979407975,
          -0.6961147570470555,
          -0.45826233436582925,
          -0.37897819347208717,
          -0.45826233436582925,
          -0.6961147570470555,
          -0.6961147570470555,
          -0.45826233436582925,
          -0.6168306161533134,
          -0.45826233436582925,
          -0.6168306161533134,
          -0.45826233436582925,
          -0.37897819347208717,
          0.09672665189036524,
          -0.6168306161533134,
          0.1760107927841073,
          0.017442510996623164,
          -0.6168306161533134,
          -0.6961147570470555,
          -0.6168306161533134,
          -0.7753988979407975,
          0.1760107927841073,
          -0.37897819347208717,
          -0.5375464752595713,
          -0.6168306161533134,
          -0.6961147570470555,
          -0.6168306161533134,
          -0.45826233436582925,
          -0.7753988979407975,
          -0.7753988979407975,
          -0.37897819347208717,
          -0.7753988979407975,
          1.2067046244027542,
          -0.6168306161533134,
          -0.6961147570470555,
          -0.37897819347208717,
          -0.6168306161533134,
          -0.45826233436582925,
          -0.6168306161533134,
          0.1760107927841073,
          -0.5375464752595713,
          -0.37897819347208717,
          -0.5375464752595713,
          0.3345790745715914,
          -0.45826233436582925,
          -0.6961147570470555,
          -0.6961147570470555,
          -0.7753988979407975,
          -0.37897819347208717,
          -0.6168306161533134,
          -0.37897819347208717,
          -0.7753988979407975,
          -0.37897819347208717,
          -0.7753988979407975,
          1.0481363426152701,
          -0.6961147570470555,
          -0.6168306161533134,
          -0.37897819347208717,
          1.0481363426152701,
          2.237398456021401,
          -0.37897819347208717,
          1.6031253288714646,
          -0.37897819347208717,
          -0.6168306161533134,
          -0.6168306161533134,
          -0.6961147570470555,
          -0.7753988979407975,
          -0.45826233436582925,
          -0.7753988979407975,
          -0.5375464752595713,
          -0.5375464752595713,
          -0.7753988979407975,
          -0.7753988979407975,
          0.1760107927841073,
          -0.45826233436582925,
          -0.6168306161533134,
          -0.6168306161533134,
          -0.6961147570470555,
          -0.7753988979407975,
          -0.45826233436582925,
          -0.6168306161533134,
          -0.45826233436582925,
          -0.6168306161533134,
          2.316682596915143,
          3.188808146746306,
          -0.7753988979407975,
          -0.6961147570470555,
          -0.5375464752595713,
          -0.7753988979407975,
          -0.37897819347208717,
          -0.37897819347208717,
          -0.6168306161533134,
          1.127420483509012,
          2.95095572406508,
          -0.6961147570470555,
          2.237398456021401,
          -0.6168306161533134,
          -0.37897819347208717,
          -0.45826233436582925,
          -0.37897819347208717,
          -0.45826233436582925,
          -0.5375464752595713,
          -0.37897819347208717,
          -0.6961147570470555,
          -0.6168306161533134,
          -0.7753988979407975,
          -0.5375464752595713,
          3.1095240058525637,
          -0.6168306161533134,
          2.95095572406508,
          -0.7753988979407975,
          -0.37897819347208717,
          2.8716715831713375,
          -0.7753988979407975,
          -0.5375464752595713,
          -0.37897819347208717,
          -0.6961147570470555,
          -0.45826233436582925,
          0.3345790745715914,
          -0.6168306161533134,
          -0.6961147570470555,
          -0.5375464752595713,
          -0.7753988979407975,
          -0.6961147570470555,
          -0.6168306161533134,
          -0.7753988979407975,
          -0.6961147570470555,
          -0.45826233436582925,
          -0.6961147570470555,
          -0.37897819347208717,
          -0.37897819347208717,
          -0.5375464752595713,
          -0.37897819347208717,
          -0.6168306161533134,
          -0.0618416298971189,
          -0.45826233436582925,
          -0.6168306161533134,
          -0.7753988979407975,
          -0.45826233436582925,
          0.8102839199340438,
          -0.45826233436582925,
          -0.45826233436582925,
          -0.7753988979407975,
          -0.5375464752595713,
          -0.7753988979407975,
          1.2859887652964963,
          -0.6168306161533134,
          -0.5375464752595713,
          2.158114315127659,
          -0.7753988979407975,
          1.2067046244027542,
          -0.6961147570470555,
          -0.45826233436582925,
          -0.5375464752595713,
          -0.6961147570470555,
          -0.5375464752595713,
          -0.6168306161533134,
          -0.37897819347208717,
          1.2067046244027542,
          -0.6961147570470555,
          -0.6961147570470555,
          -0.6961147570470555,
          -0.45826233436582925,
          -0.6961147570470555,
          -0.6961147570470555,
          -0.6961147570470555,
          -0.45826233436582925,
          0.017442510996623164
         ]
        }
       ],
       "layout": {
        "legend": {
         "title": {
          "text": "color"
         },
         "tracegroupgap": 0
        },
        "margin": {
         "t": 60
        },
        "scene": {
         "domain": {
          "x": [
           0,
           1
          ],
          "y": [
           0,
           1
          ]
         },
         "xaxis": {
          "title": {
           "text": "insuline"
          }
         },
         "yaxis": {
          "title": {
           "text": "grossesses"
          }
         },
         "zaxis": {
          "title": {
           "text": "age"
          }
         }
        },
        "template": {
         "data": {
          "bar": [
           {
            "error_x": {
             "color": "#2a3f5f"
            },
            "error_y": {
             "color": "#2a3f5f"
            },
            "marker": {
             "line": {
              "color": "#E5ECF6",
              "width": 0.5
             },
             "pattern": {
              "fillmode": "overlay",
              "size": 10,
              "solidity": 0.2
             }
            },
            "type": "bar"
           }
          ],
          "barpolar": [
           {
            "marker": {
             "line": {
              "color": "#E5ECF6",
              "width": 0.5
             },
             "pattern": {
              "fillmode": "overlay",
              "size": 10,
              "solidity": 0.2
             }
            },
            "type": "barpolar"
           }
          ],
          "carpet": [
           {
            "aaxis": {
             "endlinecolor": "#2a3f5f",
             "gridcolor": "white",
             "linecolor": "white",
             "minorgridcolor": "white",
             "startlinecolor": "#2a3f5f"
            },
            "baxis": {
             "endlinecolor": "#2a3f5f",
             "gridcolor": "white",
             "linecolor": "white",
             "minorgridcolor": "white",
             "startlinecolor": "#2a3f5f"
            },
            "type": "carpet"
           }
          ],
          "choropleth": [
           {
            "colorbar": {
             "outlinewidth": 0,
             "ticks": ""
            },
            "type": "choropleth"
           }
          ],
          "contour": [
           {
            "colorbar": {
             "outlinewidth": 0,
             "ticks": ""
            },
            "colorscale": [
             [
              0,
              "#0d0887"
             ],
             [
              0.1111111111111111,
              "#46039f"
             ],
             [
              0.2222222222222222,
              "#7201a8"
             ],
             [
              0.3333333333333333,
              "#9c179e"
             ],
             [
              0.4444444444444444,
              "#bd3786"
             ],
             [
              0.5555555555555556,
              "#d8576b"
             ],
             [
              0.6666666666666666,
              "#ed7953"
             ],
             [
              0.7777777777777778,
              "#fb9f3a"
             ],
             [
              0.8888888888888888,
              "#fdca26"
             ],
             [
              1,
              "#f0f921"
             ]
            ],
            "type": "contour"
           }
          ],
          "contourcarpet": [
           {
            "colorbar": {
             "outlinewidth": 0,
             "ticks": ""
            },
            "type": "contourcarpet"
           }
          ],
          "heatmap": [
           {
            "colorbar": {
             "outlinewidth": 0,
             "ticks": ""
            },
            "colorscale": [
             [
              0,
              "#0d0887"
             ],
             [
              0.1111111111111111,
              "#46039f"
             ],
             [
              0.2222222222222222,
              "#7201a8"
             ],
             [
              0.3333333333333333,
              "#9c179e"
             ],
             [
              0.4444444444444444,
              "#bd3786"
             ],
             [
              0.5555555555555556,
              "#d8576b"
             ],
             [
              0.6666666666666666,
              "#ed7953"
             ],
             [
              0.7777777777777778,
              "#fb9f3a"
             ],
             [
              0.8888888888888888,
              "#fdca26"
             ],
             [
              1,
              "#f0f921"
             ]
            ],
            "type": "heatmap"
           }
          ],
          "heatmapgl": [
           {
            "colorbar": {
             "outlinewidth": 0,
             "ticks": ""
            },
            "colorscale": [
             [
              0,
              "#0d0887"
             ],
             [
              0.1111111111111111,
              "#46039f"
             ],
             [
              0.2222222222222222,
              "#7201a8"
             ],
             [
              0.3333333333333333,
              "#9c179e"
             ],
             [
              0.4444444444444444,
              "#bd3786"
             ],
             [
              0.5555555555555556,
              "#d8576b"
             ],
             [
              0.6666666666666666,
              "#ed7953"
             ],
             [
              0.7777777777777778,
              "#fb9f3a"
             ],
             [
              0.8888888888888888,
              "#fdca26"
             ],
             [
              1,
              "#f0f921"
             ]
            ],
            "type": "heatmapgl"
           }
          ],
          "histogram": [
           {
            "marker": {
             "pattern": {
              "fillmode": "overlay",
              "size": 10,
              "solidity": 0.2
             }
            },
            "type": "histogram"
           }
          ],
          "histogram2d": [
           {
            "colorbar": {
             "outlinewidth": 0,
             "ticks": ""
            },
            "colorscale": [
             [
              0,
              "#0d0887"
             ],
             [
              0.1111111111111111,
              "#46039f"
             ],
             [
              0.2222222222222222,
              "#7201a8"
             ],
             [
              0.3333333333333333,
              "#9c179e"
             ],
             [
              0.4444444444444444,
              "#bd3786"
             ],
             [
              0.5555555555555556,
              "#d8576b"
             ],
             [
              0.6666666666666666,
              "#ed7953"
             ],
             [
              0.7777777777777778,
              "#fb9f3a"
             ],
             [
              0.8888888888888888,
              "#fdca26"
             ],
             [
              1,
              "#f0f921"
             ]
            ],
            "type": "histogram2d"
           }
          ],
          "histogram2dcontour": [
           {
            "colorbar": {
             "outlinewidth": 0,
             "ticks": ""
            },
            "colorscale": [
             [
              0,
              "#0d0887"
             ],
             [
              0.1111111111111111,
              "#46039f"
             ],
             [
              0.2222222222222222,
              "#7201a8"
             ],
             [
              0.3333333333333333,
              "#9c179e"
             ],
             [
              0.4444444444444444,
              "#bd3786"
             ],
             [
              0.5555555555555556,
              "#d8576b"
             ],
             [
              0.6666666666666666,
              "#ed7953"
             ],
             [
              0.7777777777777778,
              "#fb9f3a"
             ],
             [
              0.8888888888888888,
              "#fdca26"
             ],
             [
              1,
              "#f0f921"
             ]
            ],
            "type": "histogram2dcontour"
           }
          ],
          "mesh3d": [
           {
            "colorbar": {
             "outlinewidth": 0,
             "ticks": ""
            },
            "type": "mesh3d"
           }
          ],
          "parcoords": [
           {
            "line": {
             "colorbar": {
              "outlinewidth": 0,
              "ticks": ""
             }
            },
            "type": "parcoords"
           }
          ],
          "pie": [
           {
            "automargin": true,
            "type": "pie"
           }
          ],
          "scatter": [
           {
            "marker": {
             "colorbar": {
              "outlinewidth": 0,
              "ticks": ""
             }
            },
            "type": "scatter"
           }
          ],
          "scatter3d": [
           {
            "line": {
             "colorbar": {
              "outlinewidth": 0,
              "ticks": ""
             }
            },
            "marker": {
             "colorbar": {
              "outlinewidth": 0,
              "ticks": ""
             }
            },
            "type": "scatter3d"
           }
          ],
          "scattercarpet": [
           {
            "marker": {
             "colorbar": {
              "outlinewidth": 0,
              "ticks": ""
             }
            },
            "type": "scattercarpet"
           }
          ],
          "scattergeo": [
           {
            "marker": {
             "colorbar": {
              "outlinewidth": 0,
              "ticks": ""
             }
            },
            "type": "scattergeo"
           }
          ],
          "scattergl": [
           {
            "marker": {
             "colorbar": {
              "outlinewidth": 0,
              "ticks": ""
             }
            },
            "type": "scattergl"
           }
          ],
          "scattermapbox": [
           {
            "marker": {
             "colorbar": {
              "outlinewidth": 0,
              "ticks": ""
             }
            },
            "type": "scattermapbox"
           }
          ],
          "scatterpolar": [
           {
            "marker": {
             "colorbar": {
              "outlinewidth": 0,
              "ticks": ""
             }
            },
            "type": "scatterpolar"
           }
          ],
          "scatterpolargl": [
           {
            "marker": {
             "colorbar": {
              "outlinewidth": 0,
              "ticks": ""
             }
            },
            "type": "scatterpolargl"
           }
          ],
          "scatterternary": [
           {
            "marker": {
             "colorbar": {
              "outlinewidth": 0,
              "ticks": ""
             }
            },
            "type": "scatterternary"
           }
          ],
          "surface": [
           {
            "colorbar": {
             "outlinewidth": 0,
             "ticks": ""
            },
            "colorscale": [
             [
              0,
              "#0d0887"
             ],
             [
              0.1111111111111111,
              "#46039f"
             ],
             [
              0.2222222222222222,
              "#7201a8"
             ],
             [
              0.3333333333333333,
              "#9c179e"
             ],
             [
              0.4444444444444444,
              "#bd3786"
             ],
             [
              0.5555555555555556,
              "#d8576b"
             ],
             [
              0.6666666666666666,
              "#ed7953"
             ],
             [
              0.7777777777777778,
              "#fb9f3a"
             ],
             [
              0.8888888888888888,
              "#fdca26"
             ],
             [
              1,
              "#f0f921"
             ]
            ],
            "type": "surface"
           }
          ],
          "table": [
           {
            "cells": {
             "fill": {
              "color": "#EBF0F8"
             },
             "line": {
              "color": "white"
             }
            },
            "header": {
             "fill": {
              "color": "#C8D4E3"
             },
             "line": {
              "color": "white"
             }
            },
            "type": "table"
           }
          ]
         },
         "layout": {
          "annotationdefaults": {
           "arrowcolor": "#2a3f5f",
           "arrowhead": 0,
           "arrowwidth": 1
          },
          "autotypenumbers": "strict",
          "coloraxis": {
           "colorbar": {
            "outlinewidth": 0,
            "ticks": ""
           }
          },
          "colorscale": {
           "diverging": [
            [
             0,
             "#8e0152"
            ],
            [
             0.1,
             "#c51b7d"
            ],
            [
             0.2,
             "#de77ae"
            ],
            [
             0.3,
             "#f1b6da"
            ],
            [
             0.4,
             "#fde0ef"
            ],
            [
             0.5,
             "#f7f7f7"
            ],
            [
             0.6,
             "#e6f5d0"
            ],
            [
             0.7,
             "#b8e186"
            ],
            [
             0.8,
             "#7fbc41"
            ],
            [
             0.9,
             "#4d9221"
            ],
            [
             1,
             "#276419"
            ]
           ],
           "sequential": [
            [
             0,
             "#0d0887"
            ],
            [
             0.1111111111111111,
             "#46039f"
            ],
            [
             0.2222222222222222,
             "#7201a8"
            ],
            [
             0.3333333333333333,
             "#9c179e"
            ],
            [
             0.4444444444444444,
             "#bd3786"
            ],
            [
             0.5555555555555556,
             "#d8576b"
            ],
            [
             0.6666666666666666,
             "#ed7953"
            ],
            [
             0.7777777777777778,
             "#fb9f3a"
            ],
            [
             0.8888888888888888,
             "#fdca26"
            ],
            [
             1,
             "#f0f921"
            ]
           ],
           "sequentialminus": [
            [
             0,
             "#0d0887"
            ],
            [
             0.1111111111111111,
             "#46039f"
            ],
            [
             0.2222222222222222,
             "#7201a8"
            ],
            [
             0.3333333333333333,
             "#9c179e"
            ],
            [
             0.4444444444444444,
             "#bd3786"
            ],
            [
             0.5555555555555556,
             "#d8576b"
            ],
            [
             0.6666666666666666,
             "#ed7953"
            ],
            [
             0.7777777777777778,
             "#fb9f3a"
            ],
            [
             0.8888888888888888,
             "#fdca26"
            ],
            [
             1,
             "#f0f921"
            ]
           ]
          },
          "colorway": [
           "#636efa",
           "#EF553B",
           "#00cc96",
           "#ab63fa",
           "#FFA15A",
           "#19d3f3",
           "#FF6692",
           "#B6E880",
           "#FF97FF",
           "#FECB52"
          ],
          "font": {
           "color": "#2a3f5f"
          },
          "geo": {
           "bgcolor": "white",
           "lakecolor": "white",
           "landcolor": "#E5ECF6",
           "showlakes": true,
           "showland": true,
           "subunitcolor": "white"
          },
          "hoverlabel": {
           "align": "left"
          },
          "hovermode": "closest",
          "mapbox": {
           "style": "light"
          },
          "paper_bgcolor": "white",
          "plot_bgcolor": "#E5ECF6",
          "polar": {
           "angularaxis": {
            "gridcolor": "white",
            "linecolor": "white",
            "ticks": ""
           },
           "bgcolor": "#E5ECF6",
           "radialaxis": {
            "gridcolor": "white",
            "linecolor": "white",
            "ticks": ""
           }
          },
          "scene": {
           "xaxis": {
            "backgroundcolor": "#E5ECF6",
            "gridcolor": "white",
            "gridwidth": 2,
            "linecolor": "white",
            "showbackground": true,
            "ticks": "",
            "zerolinecolor": "white"
           },
           "yaxis": {
            "backgroundcolor": "#E5ECF6",
            "gridcolor": "white",
            "gridwidth": 2,
            "linecolor": "white",
            "showbackground": true,
            "ticks": "",
            "zerolinecolor": "white"
           },
           "zaxis": {
            "backgroundcolor": "#E5ECF6",
            "gridcolor": "white",
            "gridwidth": 2,
            "linecolor": "white",
            "showbackground": true,
            "ticks": "",
            "zerolinecolor": "white"
           }
          },
          "shapedefaults": {
           "line": {
            "color": "#2a3f5f"
           }
          },
          "ternary": {
           "aaxis": {
            "gridcolor": "white",
            "linecolor": "white",
            "ticks": ""
           },
           "baxis": {
            "gridcolor": "white",
            "linecolor": "white",
            "ticks": ""
           },
           "bgcolor": "#E5ECF6",
           "caxis": {
            "gridcolor": "white",
            "linecolor": "white",
            "ticks": ""
           }
          },
          "title": {
           "x": 0.05
          },
          "xaxis": {
           "automargin": true,
           "gridcolor": "white",
           "linecolor": "white",
           "ticks": "",
           "title": {
            "standoff": 15
           },
           "zerolinecolor": "white",
           "zerolinewidth": 2
          },
          "yaxis": {
           "automargin": true,
           "gridcolor": "white",
           "linecolor": "white",
           "ticks": "",
           "title": {
            "standoff": 15
           },
           "zerolinecolor": "white",
           "zerolinewidth": 2
          }
         }
        }
       }
      },
      "text/html": [
       "<div>                            <div id=\"a71bb40f-9220-487a-88f5-39a78c1b698d\" class=\"plotly-graph-div\" style=\"height:525px; width:100%;\"></div>            <script type=\"text/javascript\">                require([\"plotly\"], function(Plotly) {                    window.PLOTLYENV=window.PLOTLYENV || {};                                    if (document.getElementById(\"a71bb40f-9220-487a-88f5-39a78c1b698d\")) {                    Plotly.newPlot(                        \"a71bb40f-9220-487a-88f5-39a78c1b698d\",                        [{\"hovertemplate\":\"color=1<br>insuline=%{x}<br>grossesses=%{y}<br>age=%{z}<extra></extra>\",\"legendgroup\":\"1\",\"marker\":{\"color\":\"gray\",\"symbol\":\"circle\"},\"mode\":\"markers\",\"name\":\"1\",\"scene\":\"scene\",\"showlegend\":true,\"x\":[-0.9113038706364603,2.5703657017308976,-0.49122512877618607,0.4984519071319178,1.132130009260128,-0.6834645530173286,0.7761310754802347,3.901801714067699,0.5198118431587114,3.367803313397859,0.6194915446170816,-0.5410649795053711,0.6194915446170816,4.286280562549984,-0.7048244890441221,0.8330909048850177,3.681082375124165,-0.5980248089101541,0.41301216302474336,-0.5980248089101541,-0.761784318448905,-0.9184238493120582,0.33469239759316677,-0.02842651486232454,1.2104497746917047,-0.07114638691591176,-0.9469037640144496,-0.7475443610977094,1.4382890923108365,0.7405311821022453,-0.9184238493120582,1.7800480687395344,5.339984006693545e-05,0.07125318659604563,0.7690110968046369,0.15669293070322007,-0.5766648728833604,-0.9540237426900475,0.21365276010800302,-0.7048244890441221,-0.605144787585752,1.5593287297960003,-0.03554649353792241,0.22789271745919876,-0.9967436147436348,-0.5268250221541754,-0.4769851714249903,-0.44850525672259883,-0.4841051501005882,-0.4841051501005882,-0.44850525672259883,0.4699719924295263,-0.6122647662613498,3.908921692743297,0.021413335866860544,0.9256506276677899,-0.9255438279876561,-0.71194446771972,0.45573203507833054,-0.03554649353792241,0.7547711394534411,1.352849348203662,-0.6621046169905349,-0.5125850648029796,0.45573203507833054,-0.9967436147436348,1.2958895187988793,-0.49122512877618607,-0.5837848515589583,0.9541305423701815,-0.8970639132852646,-0.07826636559150962,0.5340518005099071,-0.43426529937140307,1.4454090709864345,0.25637263216159023,-0.5268250221541754,-1.0109835720948306,-0.43426529937140307,-0.6763445743417307,0.2919725255395796,-0.5054650861273818,-0.5980248089101541,-0.4627452140737946,1.3670893055548579,0.6194915446170816,0.811730968858224,2.442206085570136,0.33469239759316677,-0.605144787585752,1.3314894121768686,0.4628520137539284,-0.9184238493120582,0.04989325056925202,-0.5909048302345562,-0.875703977258471,1.5664487084715981,-0.9397837853388518,0.3560523336199604,1.3243694335012706,1.2745295827720855,2.171646895897417,0.021413335866860544,-0.8899439346096667,0.377412269646754,-0.10674628029390111,0.014293357191262674,-0.8828239559340688,-0.605144787585752,0.17805286673001366,1.3599693268792599,1.950927556953883,-0.4841051501005882,0.8188509475338219,-0.04266647221352028,-0.8543440412316774,-0.605144787585752,1.4240491349596407,1.5094888790668153,-0.5054650861273818,0.32757241891756894,-0.014186557511128803,-0.04266647221352028,1.1748498813137154,1.2246897320429004,-1.0038635934192326,-0.5125850648029796,-0.5054650861273818,1.4026891989328472,0.16381290937881793,-0.548184958180969,-0.014186557511128803,0.42013214170034124,-0.021306536186726673,1.2745295827720855,-0.7261844250709157,0.3702922909711561,0.3987722056735476,-0.4841051501005882,0.3062124828907753,2.221486746626602,-0.6977045103685242,-0.5268250221541754,0.377412269646754,-0.014186557511128803,0.8259709262094198,-0.7902642331512966,0.9826104570725729,0.44149207772713484,2.598845616433289,1.3314894121768686,-0.71194446771972,-0.44850525672259883,0.08549314394724136,-0.6265047236125456,3.0972441237251402,2.12892702384383,3.745162183204546,-0.5054650861273818,0.5838916512390923,-1.0038635934192326,1.1463699666113238,-0.07826636559150962,-0.6407446809637413,-0.4627452140737946,0.3062124828907753,-0.7475443610977094,0.44149207772713484,0.1495729520276222,-0.6336247022881434,2.1431669811950256,1.3243694335012706,-0.5695448942077627,-0.44850525672259883,0.7191712460754517,0.7476511607778432,-0.5837848515589583,0.5198118431587114,1.6946083246323598,-0.9540237426900475,0.1495729520276222,0.41301216302474336,0.9541305423701815,0.6479714593194731,0.4058921843491455,-0.4841051501005882,0.9897304357481708,2.1075670878170363,-0.6265047236125456,1.3813292629060536,1.3101294761500748,0.8259709262094198,-0.4556252353981967,2.0790871731146447,-0.04266647221352028,-0.7333044037465136,0.2919725255395796,-0.43426529937140307,0.20653278143240514,-0.5410649795053711],\"y\":[-0.5160406910093366,1.752270038702033,-0.5160406910093366,1.4687311974881117,-0.23250184979541533,0.3345758326324271,0.05103699141850586,1.1851923562741906,0.05103699141850586,-0.5160406910093366,-0.23250184979541533,0.6181146738463482,0.6181146738463482,0.3345758326324271,-0.5160406910093366,0.3345758326324271,-0.7995795322232577,1.4687311974881117,0.9016535150602695,-0.5160406910093366,0.05103699141850586,2.035808879915954,-0.23250184979541533,0.6181146738463482,1.1851923562741906,-0.23250184979541533,-0.23250184979541533,-0.5160406910093366,0.6181146738463482,-0.5160406910093366,-0.5160406910093366,-0.5160406910093366,-0.7995795322232577,-0.5160406910093366,0.05103699141850586,-0.5160406910093366,0.3345758326324271,-0.23250184979541533,0.05103699141850586,2.886425403557718,-0.5160406910093366,-0.23250184979541533,0.6181146738463482,-0.7995795322232577,0.3345758326324271,0.6181146738463482,-0.5160406910093366,-0.23250184979541533,0.3345758326324271,0.3345758326324271,0.3345758326324271,1.4687311974881117,0.6181146738463482,0.05103699141850586,-0.23250184979541533,-0.5160406910093366,1.4687311974881117,1.1851923562741906,1.1851923562741906,1.1851923562741906,1.1851923562741906,-0.7995795322232577,0.3345758326324271,1.1851923562741906,0.3345758326324271,-0.5160406910093366,-0.23250184979541533,-0.23250184979541533,1.4687311974881117,-0.7995795322232577,-0.5160406910093366,-0.23250184979541533,-0.23250184979541533,1.1851923562741906,0.3345758326324271,-0.23250184979541533,0.3345758326324271,1.4687311974881117,-0.5160406910093366,1.4687311974881117,1.4687311974881117,0.6181146738463482,0.6181146738463482,2.035808879915954,1.4687311974881117,-0.5160406910093366,-0.23250184979541533,0.6181146738463482,1.1851923562741906,1.1851923562741906,-0.5160406910093366,2.3193477211298754,0.3345758326324271,-0.23250184979541533,1.1851923562741906,-0.23250184979541533,0.3345758326324271,0.3345758326324271,0.05103699141850586,2.6028865623437967,0.3345758326324271,-0.5160406910093366,0.9016535150602695,0.6181146738463482,2.035808879915954,1.4687311974881117,-0.5160406910093366,0.05103699141850586,0.05103699141850586,-0.5160406910093366,2.035808879915954,-0.5160406910093366,0.05103699141850586,1.4687311974881117,2.3193477211298754,-0.7995795322232577,0.05103699141850586,1.1851923562741906,-1.083118373437179,2.6028865623437967,0.3345758326324271,1.4687311974881117,0.9016535150602695,1.1851923562741906,0.9016535150602695,1.4687311974881117,0.3345758326324271,1.1851923562741906,0.3345758326324271,0.6181146738463482,0.3345758326324271,1.4687311974881117,0.05103699141850586,1.752270038702033,0.05103699141850586,-0.7995795322232577,-0.23250184979541533,-0.23250184979541533,1.752270038702033,-0.5160406910093366,0.3345758326324271,0.05103699141850586,0.6181146738463482,-0.7995795322232577,1.752270038702033,0.05103699141850586,1.1851923562741906,1.1851923562741906,0.05103699141850586,-0.23250184979541533,-0.23250184979541533,1.4687311974881117,-0.5160406910093366,0.6181146738463482,1.752270038702033,-0.5160406910093366,1.1851923562741906,2.886425403557718,2.035808879915954,-0.23250184979541533,1.752270038702033,0.05103699141850586,1.1851923562741906,0.05103699141850586,-0.23250184979541533,1.4687311974881117,-0.23250184979541533,-0.7995795322232577,1.4687311974881117,1.4687311974881117,-0.23250184979541533,-0.5160406910093366,-0.23250184979541533,0.6181146738463482,1.752270038702033,-0.23250184979541533,2.6028865623437967,1.4687311974881117,0.6181146738463482,0.3345758326324271,0.6181146738463482,1.1851923562741906,2.035808879915954,0.05103699141850586,-0.5160406910093366,-0.23250184979541533,-0.5160406910093366,-0.23250184979541533,1.1851923562741906,-0.5160406910093366,-0.5160406910093366,2.035808879915954,0.3345758326324271,-0.23250184979541533,-0.5160406910093366,0.05103699141850586,1.752270038702033,0.3345758326324271,2.035808879915954,0.05103699141850586],\"z\":[0.3345790745715914,0.968852201721528,-0.6961147570470555,0.4931473563590756,-0.7753988979407975,0.6517156381465598,-0.6168306161533134,-0.7753988979407975,2.4752508787026275,1.2067046244027542,-0.6961147570470555,-0.6961147570470555,1.127420483509012,2.395966737808885,0.6517156381465598,0.1760107927841073,-0.7753988979407975,0.968852201721528,1.9202618924464327,-0.7753988979407975,0.889568060827786,-0.6168306161533134,1.0481363426152701,-0.6961147570470555,-0.14112577079086097,1.2859887652964963,2.395966737808885,1.127420483509012,0.5724314972528176,-0.6961147570470555,-0.6961147570470555,1.0481363426152701,0.4931473563590756,-0.7753988979407975,0.968852201721528,0.5724314972528176,-0.7753988979407975,0.6517156381465598,-0.7753988979407975,-0.6961147570470555,-0.6961147570470555,-0.7753988979407975,1.8409777515526908,1.0481363426152701,-0.14112577079086097,-0.6961147570470555,2.395966737808885,-0.6961147570470555,-0.6168306161533134,0.5724314972528176,-0.6961147570470555,-0.6168306161533134,2.237398456021401,-0.7753988979407975,2.158114315127659,-0.6961147570470555,-0.6168306161533134,1.127420483509012,-0.6961147570470555,-0.7753988979407975,1.8409777515526908,2.6338191604901113,1.9202618924464327,2.316682596915143,-0.6168306161533134,0.968852201721528,0.3345790745715914,0.8102839199340438,-0.7753988979407975,1.2067046244027542,-0.7753988979407975,-0.6168306161533134,0.889568060827786,0.968852201721528,-0.6961147570470555,1.0481363426152701,0.5724314972528176,1.2859887652964963,-0.7753988979407975,2.316682596915143,-0.7753988979407975,-0.6168306161533134,2.078830174233917,-0.14112577079086097,1.2067046244027542,-0.6961147570470555,1.9202618924464327,-0.6168306161533134,0.968852201721528,-0.0618416298971189,0.3345790745715914,2.4752508787026275,-0.0618416298971189,-0.6168306161533134,2.078830174233917,1.7616936106589487,-0.7753988979407975,1.0481363426152701,1.9202618924464327,-0.7753988979407975,0.4931473563590756,1.127420483509012,-0.7753988979407975,-0.7753988979407975,0.968852201721528,-0.7753988979407975,1.127420483509012,1.127420483509012,-0.7753988979407975,1.6824094697652066,-0.6961147570470555,-0.6168306161533134,0.1760107927841073,-0.6168306161533134,1.127420483509012,0.7309997790403018,-0.7753988979407975,1.0481363426152701,-0.7753988979407975,-0.6168306161533134,2.237398456021401,2.395966737808885,1.0481363426152701,-0.6168306161533134,-0.7753988979407975,0.4138632154653335,1.0481363426152701,-0.6961147570470555,1.8409777515526908,-0.6961147570470555,0.968852201721528,-0.6961147570470555,-0.6168306161533134,1.127420483509012,-0.6168306161533134,-0.6168306161533134,-0.6168306161533134,-0.7753988979407975,1.2067046244027542,1.127420483509012,1.127420483509012,-0.6961147570470555,-0.6961147570470555,-0.6961147570470555,-0.6961147570470555,1.127420483509012,0.4138632154653335,-0.6961147570470555,0.968852201721528,-0.7753988979407975,0.2552949336778494,0.968852201721528,-0.6961147570470555,-0.7753988979407975,-0.7753988979407975,-0.6961147570470555,-0.7753988979407975,-0.6168306161533134,2.395966737808885,-0.7753988979407975,0.017442510996623164,-0.7753988979407975,-0.6961147570470555,-0.7753988979407975,0.5724314972528176,-0.7753988979407975,-0.6961147570470555,-0.7753988979407975,0.4138632154653335,1.9202618924464327,2.237398456021401,0.5724314972528176,-0.6168306161533134,-0.6961147570470555,1.0481363426152701,-0.7753988979407975,2.7923874422775956,-0.0618416298971189,2.4752508787026275,-0.6961147570470555,-0.7753988979407975,-0.6961147570470555,0.3345790745715914,1.127420483509012,1.8409777515526908,-0.7753988979407975,0.889568060827786,-0.6961147570470555,-0.6961147570470555,0.4931473563590756,1.0481363426152701,2.316682596915143,1.2859887652964963,2.237398456021401,0.968852201721528,-0.6168306161533134,-0.7753988979407975,0.889568060827786,-0.6961147570470555,-0.6961147570470555],\"type\":\"scatter3d\"},{\"hovertemplate\":\"color=0<br>insuline=%{x}<br>grossesses=%{y}<br>age=%{z}<extra></extra>\",\"legendgroup\":\"0\",\"marker\":{\"color\":\"blue\",\"symbol\":\"circle\"},\"mode\":\"markers\",\"name\":\"0\",\"scene\":\"scene\",\"showlegend\":true,\"x\":[-0.22778591777906487,-0.548184958180969,-0.8543440412316774,-0.8116241691780902,0.2421326748103945,-1.0109835720948306,-0.875703977258471,-0.9113038706364603,0.05701322924484989,-0.7831442544756987,-0.9397837853388518,-0.5339450008297733,-0.8970639132852646,-0.6977045103685242,-0.8685839985828732,-0.818744147853688,-0.761784318448905,-0.9967436147436348,-0.8685839985828732,-0.6122647662613498,-0.9611437213656454,-0.7760242758001008,-0.654984638314937,0.7262912247510496,0.3062124828907753,0.6337315019682773,-0.8685839985828732,-0.7760242758001008,-0.5268250221541754,-0.7475443610977094,0.7262912247510496,0.8046109901826262,-0.8045041905024923,-0.8258641265292859,0.270612589512786,-0.7973842118268945,-0.9753836787168412,-0.9469037640144496,0.44149207772713484,-0.8970639132852646,-0.9041838919608625,0.18517284540561155,-0.8401040838804816,0.08549314394724136,-0.8401040838804816,0.1495729520276222,-0.9896236360680369,-0.22778591777906487,0.4984519071319178,0.20653278143240514,-0.7973842118268945,0.13533299467642645,-0.8828239559340688,-0.09250632294270536,0.1709328880544158,-0.7902642331512966,-0.8614640199072753,-0.9967436147436348,-0.7973842118268945,-0.9825036573924391,-0.007066578835530934,0.3702922909711561,2.1004471091414385,-0.7689042971245029,0.035653293218056284,-0.8116241691780902,-0.7261844250709157,-0.8401040838804816,0.42725212037593907,-0.7475443610977094,-0.9397837853388518,-0.8329841052048838,-0.18506604572547766,-0.22778591777906487,-0.7760242758001008,1.5094888790668153,-0.9113038706364603,-0.8045041905024923,-0.21354596042786914,-0.7831442544756987,2.2642066186801895,0.9256506276677899,-0.818744147853688,-0.4983451074517839,-0.818744147853688,0.704931288724256,-0.8543440412316774,-0.5339450008297733,-0.8614640199072753,-0.875703977258471,0.43437209905153695,-0.8329841052048838,-0.7475443610977094,-0.14234617367189045,0.09261312262283923,0.6479714593194731,-0.05690642956471602,-0.22778591777906487,0.1424529733520243,0.4842119497807221,-0.9540237426900475,-0.8828239559340688,-0.7831442544756987,0.6906913313730603,0.5198118431587114,-0.605144787585752,-0.761784318448905,-0.11386625896949898,-0.6977045103685242,-0.818744147853688,-0.19218602440107554,-0.9967436147436348,-0.7760242758001008,-0.8543440412316774,0.18517284540561155,-0.9255438279876561,0.761891118129039,0.5910116299146901,0.3845322483223519,-0.9255438279876561,0.20653278143240514,-0.8472240625560795,0.25637263216159023,-0.9896236360680369,-0.8329841052048838,-0.7831442544756987,-0.8970639132852646,0.7832510541558325,-0.8614640199072753,-0.9113038706364603,-0.818744147853688,0.04989325056925202,0.06413320792044776,-0.9611437213656454,-0.10674628029390111,-0.14234617367189045,0.05701322924484989,-0.818744147853688,-0.6621046169905349,-0.03554649353792241,0.021413335866860544,-0.8329841052048838,0.6123715659414837,-0.7973842118268945,0.08549314394724136,-0.7475443610977094,-1.0038635934192326,1.3599693268792599,-0.11386625896949898,-0.9540237426900475,0.19941280275680728,-0.6407446809637413,-0.8045041905024923,0.10685307997403498,-0.7404243824221115,-0.8401040838804816,0.6337315019682773,-0.12810621632069472,-0.9967436147436348,-0.8472240625560795,-0.9611437213656454,0.24925265348599235,0.21365276010800302,0.33469239759316677,-0.8472240625560795,-0.9255438279876561,-0.6193847449369477,-0.1779460670498798,-1.0109835720948306,-0.9255438279876561,3.552922758963404,0.704931288724256,-0.9397837853388518,-0.9825036573924391,-0.22778591777906487,-0.007066578835530934,0.07125318659604563,-0.7689042971245029,0.1424529733520243,-0.7475443610977094,-0.9113038706364603,0.2634926108371881,0.12109303732523072,0.6123715659414837,-1.0109835720948306,3.609882588368187,0.17805286673001366,-0.8899439346096667,-0.09962630161830323,-0.9469037640144496,-0.8045041905024923,1.2887695401232813,5.339984006693545e-05,3.6597224390973713,-0.818744147853688,-0.7902642331512966,-0.932663806663254,0.2350126961347966,-0.12098623764509685,-0.9825036573924391],\"y\":[-0.7995795322232577,-1.083118373437179,0.9016535150602695,-1.083118373437179,1.4687311974881117,1.752270038702033,-0.7995795322232577,1.4687311974881117,-1.083118373437179,-0.5160406910093366,-1.083118373437179,0.05103699141850586,-1.083118373437179,0.6181146738463482,-0.7995795322232577,-0.7995795322232577,-1.083118373437179,-0.7995795322232577,-1.083118373437179,-1.083118373437179,-1.083118373437179,-0.23250184979541533,-0.7995795322232577,-0.23250184979541533,-1.083118373437179,-1.083118373437179,-1.083118373437179,-0.7995795322232577,-1.083118373437179,-0.7995795322232577,-1.083118373437179,-0.7995795322232577,-0.7995795322232577,-0.7995795322232577,-1.083118373437179,-0.7995795322232577,-1.083118373437179,-1.083118373437179,-1.083118373437179,-0.7995795322232577,-1.083118373437179,-0.7995795322232577,-1.083118373437179,-1.083118373437179,-1.083118373437179,-0.7995795322232577,-1.083118373437179,0.6181146738463482,-0.7995795322232577,1.4687311974881117,-0.7995795322232577,-1.083118373437179,-0.7995795322232577,-1.083118373437179,-1.083118373437179,-1.083118373437179,-0.23250184979541533,0.9016535150602695,-0.7995795322232577,-1.083118373437179,-1.083118373437179,-0.7995795322232577,-0.7995795322232577,-0.7995795322232577,-0.7995795322232577,1.4687311974881117,0.6181146738463482,-1.083118373437179,-0.7995795322232577,1.4687311974881117,-1.083118373437179,-0.7995795322232577,-1.083118373437179,0.9016535150602695,-1.083118373437179,-0.7995795322232577,-0.7995795322232577,-1.083118373437179,-1.083118373437179,1.4687311974881117,-1.083118373437179,-0.7995795322232577,0.6181146738463482,-1.083118373437179,-1.083118373437179,-1.083118373437179,-0.7995795322232577,0.9016535150602695,-0.7995795322232577,0.9016535150602695,-1.083118373437179,-0.7995795322232577,-1.083118373437179,-1.083118373437179,0.9016535150602695,0.3345758326324271,1.4687311974881117,-1.083118373437179,-0.7995795322232577,-0.23250184979541533,-0.7995795322232577,-1.083118373437179,-1.083118373437179,-0.7995795322232577,-1.083118373437179,-1.083118373437179,-0.7995795322232577,-1.083118373437179,-1.083118373437179,1.4687311974881117,-1.083118373437179,1.1851923562741906,-1.083118373437179,-1.083118373437179,0.6181146738463482,-1.083118373437179,1.1851923562741906,-1.083118373437179,-1.083118373437179,-0.7995795322232577,0.3345758326324271,-1.083118373437179,-0.7995795322232577,-0.7995795322232577,-0.7995795322232577,-0.23250184979541533,-0.7995795322232577,-1.083118373437179,-1.083118373437179,-1.083118373437179,0.9016535150602695,-0.7995795322232577,1.752270038702033,-1.083118373437179,0.6181146738463482,-0.7995795322232577,-1.083118373437179,1.1851923562741906,-0.7995795322232577,1.752270038702033,0.9016535150602695,-0.7995795322232577,-1.083118373437179,-0.23250184979541533,-0.7995795322232577,-1.083118373437179,-0.7995795322232577,-1.083118373437179,-1.083118373437179,-1.083118373437179,-1.083118373437179,-0.7995795322232577,-0.7995795322232577,-1.083118373437179,0.9016535150602695,-0.23250184979541533,-1.083118373437179,-1.083118373437179,-0.5160406910093366,-1.083118373437179,0.6181146738463482,0.9016535150602695,-1.083118373437179,1.4687311974881117,-0.7995795322232577,-0.7995795322232577,-0.7995795322232577,0.6181146738463482,-1.083118373437179,0.6181146738463482,-0.7995795322232577,0.9016535150602695,-1.083118373437179,-1.083118373437179,-1.083118373437179,1.4687311974881117,-1.083118373437179,-0.7995795322232577,1.1851923562741906,0.9016535150602695,1.4687311974881117,0.6181146738463482,-0.7995795322232577,-1.083118373437179,-0.7995795322232577,0.9016535150602695,1.752270038702033,1.4687311974881117,-1.083118373437179,-0.7995795322232577,-1.083118373437179,-1.083118373437179,0.6181146738463482,-1.083118373437179,-0.7995795322232577,0.05103699141850586,-0.7995795322232577,-0.7995795322232577,-0.7995795322232577,-0.7995795322232577],\"z\":[-0.6961147570470555,-0.7753988979407975,-0.45826233436582925,-0.6168306161533134,-0.7753988979407975,-0.5375464752595713,-0.7753988979407975,-0.5375464752595713,-0.37897819347208717,-0.5375464752595713,-0.37897819347208717,0.3345790745715914,-0.6168306161533134,-0.6168306161533134,-0.37897819347208717,1.6824094697652066,-0.5375464752595713,-0.7753988979407975,-0.7753988979407975,-0.6168306161533134,-0.7753988979407975,-0.37897819347208717,-0.6168306161533134,-0.7753988979407975,-0.6961147570470555,-0.6168306161533134,1.5238411879777225,-0.6961147570470555,-0.37897819347208717,-0.37897819347208717,-0.6168306161533134,-0.6961147570470555,-0.7753988979407975,-0.6961147570470555,-0.45826233436582925,-0.37897819347208717,-0.45826233436582925,-0.6961147570470555,-0.6961147570470555,-0.45826233436582925,-0.6168306161533134,-0.45826233436582925,-0.6168306161533134,-0.45826233436582925,-0.37897819347208717,0.09672665189036524,-0.6168306161533134,0.1760107927841073,0.017442510996623164,-0.6168306161533134,-0.6961147570470555,-0.6168306161533134,-0.7753988979407975,0.1760107927841073,-0.37897819347208717,-0.5375464752595713,-0.6168306161533134,-0.6961147570470555,-0.6168306161533134,-0.45826233436582925,-0.7753988979407975,-0.7753988979407975,-0.37897819347208717,-0.7753988979407975,1.2067046244027542,-0.6168306161533134,-0.6961147570470555,-0.37897819347208717,-0.6168306161533134,-0.45826233436582925,-0.6168306161533134,0.1760107927841073,-0.5375464752595713,-0.37897819347208717,-0.5375464752595713,0.3345790745715914,-0.45826233436582925,-0.6961147570470555,-0.6961147570470555,-0.7753988979407975,-0.37897819347208717,-0.6168306161533134,-0.37897819347208717,-0.7753988979407975,-0.37897819347208717,-0.7753988979407975,1.0481363426152701,-0.6961147570470555,-0.6168306161533134,-0.37897819347208717,1.0481363426152701,2.237398456021401,-0.37897819347208717,1.6031253288714646,-0.37897819347208717,-0.6168306161533134,-0.6168306161533134,-0.6961147570470555,-0.7753988979407975,-0.45826233436582925,-0.7753988979407975,-0.5375464752595713,-0.5375464752595713,-0.7753988979407975,-0.7753988979407975,0.1760107927841073,-0.45826233436582925,-0.6168306161533134,-0.6168306161533134,-0.6961147570470555,-0.7753988979407975,-0.45826233436582925,-0.6168306161533134,-0.45826233436582925,-0.6168306161533134,2.316682596915143,3.188808146746306,-0.7753988979407975,-0.6961147570470555,-0.5375464752595713,-0.7753988979407975,-0.37897819347208717,-0.37897819347208717,-0.6168306161533134,1.127420483509012,2.95095572406508,-0.6961147570470555,2.237398456021401,-0.6168306161533134,-0.37897819347208717,-0.45826233436582925,-0.37897819347208717,-0.45826233436582925,-0.5375464752595713,-0.37897819347208717,-0.6961147570470555,-0.6168306161533134,-0.7753988979407975,-0.5375464752595713,3.1095240058525637,-0.6168306161533134,2.95095572406508,-0.7753988979407975,-0.37897819347208717,2.8716715831713375,-0.7753988979407975,-0.5375464752595713,-0.37897819347208717,-0.6961147570470555,-0.45826233436582925,0.3345790745715914,-0.6168306161533134,-0.6961147570470555,-0.5375464752595713,-0.7753988979407975,-0.6961147570470555,-0.6168306161533134,-0.7753988979407975,-0.6961147570470555,-0.45826233436582925,-0.6961147570470555,-0.37897819347208717,-0.37897819347208717,-0.5375464752595713,-0.37897819347208717,-0.6168306161533134,-0.0618416298971189,-0.45826233436582925,-0.6168306161533134,-0.7753988979407975,-0.45826233436582925,0.8102839199340438,-0.45826233436582925,-0.45826233436582925,-0.7753988979407975,-0.5375464752595713,-0.7753988979407975,1.2859887652964963,-0.6168306161533134,-0.5375464752595713,2.158114315127659,-0.7753988979407975,1.2067046244027542,-0.6961147570470555,-0.45826233436582925,-0.5375464752595713,-0.6961147570470555,-0.5375464752595713,-0.6168306161533134,-0.37897819347208717,1.2067046244027542,-0.6961147570470555,-0.6961147570470555,-0.6961147570470555,-0.45826233436582925,-0.6961147570470555,-0.6961147570470555,-0.6961147570470555,-0.45826233436582925,0.017442510996623164],\"type\":\"scatter3d\"}],                        {\"template\":{\"data\":{\"bar\":[{\"error_x\":{\"color\":\"#2a3f5f\"},\"error_y\":{\"color\":\"#2a3f5f\"},\"marker\":{\"line\":{\"color\":\"#E5ECF6\",\"width\":0.5},\"pattern\":{\"fillmode\":\"overlay\",\"size\":10,\"solidity\":0.2}},\"type\":\"bar\"}],\"barpolar\":[{\"marker\":{\"line\":{\"color\":\"#E5ECF6\",\"width\":0.5},\"pattern\":{\"fillmode\":\"overlay\",\"size\":10,\"solidity\":0.2}},\"type\":\"barpolar\"}],\"carpet\":[{\"aaxis\":{\"endlinecolor\":\"#2a3f5f\",\"gridcolor\":\"white\",\"linecolor\":\"white\",\"minorgridcolor\":\"white\",\"startlinecolor\":\"#2a3f5f\"},\"baxis\":{\"endlinecolor\":\"#2a3f5f\",\"gridcolor\":\"white\",\"linecolor\":\"white\",\"minorgridcolor\":\"white\",\"startlinecolor\":\"#2a3f5f\"},\"type\":\"carpet\"}],\"choropleth\":[{\"colorbar\":{\"outlinewidth\":0,\"ticks\":\"\"},\"type\":\"choropleth\"}],\"contour\":[{\"colorbar\":{\"outlinewidth\":0,\"ticks\":\"\"},\"colorscale\":[[0.0,\"#0d0887\"],[0.1111111111111111,\"#46039f\"],[0.2222222222222222,\"#7201a8\"],[0.3333333333333333,\"#9c179e\"],[0.4444444444444444,\"#bd3786\"],[0.5555555555555556,\"#d8576b\"],[0.6666666666666666,\"#ed7953\"],[0.7777777777777778,\"#fb9f3a\"],[0.8888888888888888,\"#fdca26\"],[1.0,\"#f0f921\"]],\"type\":\"contour\"}],\"contourcarpet\":[{\"colorbar\":{\"outlinewidth\":0,\"ticks\":\"\"},\"type\":\"contourcarpet\"}],\"heatmap\":[{\"colorbar\":{\"outlinewidth\":0,\"ticks\":\"\"},\"colorscale\":[[0.0,\"#0d0887\"],[0.1111111111111111,\"#46039f\"],[0.2222222222222222,\"#7201a8\"],[0.3333333333333333,\"#9c179e\"],[0.4444444444444444,\"#bd3786\"],[0.5555555555555556,\"#d8576b\"],[0.6666666666666666,\"#ed7953\"],[0.7777777777777778,\"#fb9f3a\"],[0.8888888888888888,\"#fdca26\"],[1.0,\"#f0f921\"]],\"type\":\"heatmap\"}],\"heatmapgl\":[{\"colorbar\":{\"outlinewidth\":0,\"ticks\":\"\"},\"colorscale\":[[0.0,\"#0d0887\"],[0.1111111111111111,\"#46039f\"],[0.2222222222222222,\"#7201a8\"],[0.3333333333333333,\"#9c179e\"],[0.4444444444444444,\"#bd3786\"],[0.5555555555555556,\"#d8576b\"],[0.6666666666666666,\"#ed7953\"],[0.7777777777777778,\"#fb9f3a\"],[0.8888888888888888,\"#fdca26\"],[1.0,\"#f0f921\"]],\"type\":\"heatmapgl\"}],\"histogram\":[{\"marker\":{\"pattern\":{\"fillmode\":\"overlay\",\"size\":10,\"solidity\":0.2}},\"type\":\"histogram\"}],\"histogram2d\":[{\"colorbar\":{\"outlinewidth\":0,\"ticks\":\"\"},\"colorscale\":[[0.0,\"#0d0887\"],[0.1111111111111111,\"#46039f\"],[0.2222222222222222,\"#7201a8\"],[0.3333333333333333,\"#9c179e\"],[0.4444444444444444,\"#bd3786\"],[0.5555555555555556,\"#d8576b\"],[0.6666666666666666,\"#ed7953\"],[0.7777777777777778,\"#fb9f3a\"],[0.8888888888888888,\"#fdca26\"],[1.0,\"#f0f921\"]],\"type\":\"histogram2d\"}],\"histogram2dcontour\":[{\"colorbar\":{\"outlinewidth\":0,\"ticks\":\"\"},\"colorscale\":[[0.0,\"#0d0887\"],[0.1111111111111111,\"#46039f\"],[0.2222222222222222,\"#7201a8\"],[0.3333333333333333,\"#9c179e\"],[0.4444444444444444,\"#bd3786\"],[0.5555555555555556,\"#d8576b\"],[0.6666666666666666,\"#ed7953\"],[0.7777777777777778,\"#fb9f3a\"],[0.8888888888888888,\"#fdca26\"],[1.0,\"#f0f921\"]],\"type\":\"histogram2dcontour\"}],\"mesh3d\":[{\"colorbar\":{\"outlinewidth\":0,\"ticks\":\"\"},\"type\":\"mesh3d\"}],\"parcoords\":[{\"line\":{\"colorbar\":{\"outlinewidth\":0,\"ticks\":\"\"}},\"type\":\"parcoords\"}],\"pie\":[{\"automargin\":true,\"type\":\"pie\"}],\"scatter\":[{\"marker\":{\"colorbar\":{\"outlinewidth\":0,\"ticks\":\"\"}},\"type\":\"scatter\"}],\"scatter3d\":[{\"line\":{\"colorbar\":{\"outlinewidth\":0,\"ticks\":\"\"}},\"marker\":{\"colorbar\":{\"outlinewidth\":0,\"ticks\":\"\"}},\"type\":\"scatter3d\"}],\"scattercarpet\":[{\"marker\":{\"colorbar\":{\"outlinewidth\":0,\"ticks\":\"\"}},\"type\":\"scattercarpet\"}],\"scattergeo\":[{\"marker\":{\"colorbar\":{\"outlinewidth\":0,\"ticks\":\"\"}},\"type\":\"scattergeo\"}],\"scattergl\":[{\"marker\":{\"colorbar\":{\"outlinewidth\":0,\"ticks\":\"\"}},\"type\":\"scattergl\"}],\"scattermapbox\":[{\"marker\":{\"colorbar\":{\"outlinewidth\":0,\"ticks\":\"\"}},\"type\":\"scattermapbox\"}],\"scatterpolar\":[{\"marker\":{\"colorbar\":{\"outlinewidth\":0,\"ticks\":\"\"}},\"type\":\"scatterpolar\"}],\"scatterpolargl\":[{\"marker\":{\"colorbar\":{\"outlinewidth\":0,\"ticks\":\"\"}},\"type\":\"scatterpolargl\"}],\"scatterternary\":[{\"marker\":{\"colorbar\":{\"outlinewidth\":0,\"ticks\":\"\"}},\"type\":\"scatterternary\"}],\"surface\":[{\"colorbar\":{\"outlinewidth\":0,\"ticks\":\"\"},\"colorscale\":[[0.0,\"#0d0887\"],[0.1111111111111111,\"#46039f\"],[0.2222222222222222,\"#7201a8\"],[0.3333333333333333,\"#9c179e\"],[0.4444444444444444,\"#bd3786\"],[0.5555555555555556,\"#d8576b\"],[0.6666666666666666,\"#ed7953\"],[0.7777777777777778,\"#fb9f3a\"],[0.8888888888888888,\"#fdca26\"],[1.0,\"#f0f921\"]],\"type\":\"surface\"}],\"table\":[{\"cells\":{\"fill\":{\"color\":\"#EBF0F8\"},\"line\":{\"color\":\"white\"}},\"header\":{\"fill\":{\"color\":\"#C8D4E3\"},\"line\":{\"color\":\"white\"}},\"type\":\"table\"}]},\"layout\":{\"annotationdefaults\":{\"arrowcolor\":\"#2a3f5f\",\"arrowhead\":0,\"arrowwidth\":1},\"autotypenumbers\":\"strict\",\"coloraxis\":{\"colorbar\":{\"outlinewidth\":0,\"ticks\":\"\"}},\"colorscale\":{\"diverging\":[[0,\"#8e0152\"],[0.1,\"#c51b7d\"],[0.2,\"#de77ae\"],[0.3,\"#f1b6da\"],[0.4,\"#fde0ef\"],[0.5,\"#f7f7f7\"],[0.6,\"#e6f5d0\"],[0.7,\"#b8e186\"],[0.8,\"#7fbc41\"],[0.9,\"#4d9221\"],[1,\"#276419\"]],\"sequential\":[[0.0,\"#0d0887\"],[0.1111111111111111,\"#46039f\"],[0.2222222222222222,\"#7201a8\"],[0.3333333333333333,\"#9c179e\"],[0.4444444444444444,\"#bd3786\"],[0.5555555555555556,\"#d8576b\"],[0.6666666666666666,\"#ed7953\"],[0.7777777777777778,\"#fb9f3a\"],[0.8888888888888888,\"#fdca26\"],[1.0,\"#f0f921\"]],\"sequentialminus\":[[0.0,\"#0d0887\"],[0.1111111111111111,\"#46039f\"],[0.2222222222222222,\"#7201a8\"],[0.3333333333333333,\"#9c179e\"],[0.4444444444444444,\"#bd3786\"],[0.5555555555555556,\"#d8576b\"],[0.6666666666666666,\"#ed7953\"],[0.7777777777777778,\"#fb9f3a\"],[0.8888888888888888,\"#fdca26\"],[1.0,\"#f0f921\"]]},\"colorway\":[\"#636efa\",\"#EF553B\",\"#00cc96\",\"#ab63fa\",\"#FFA15A\",\"#19d3f3\",\"#FF6692\",\"#B6E880\",\"#FF97FF\",\"#FECB52\"],\"font\":{\"color\":\"#2a3f5f\"},\"geo\":{\"bgcolor\":\"white\",\"lakecolor\":\"white\",\"landcolor\":\"#E5ECF6\",\"showlakes\":true,\"showland\":true,\"subunitcolor\":\"white\"},\"hoverlabel\":{\"align\":\"left\"},\"hovermode\":\"closest\",\"mapbox\":{\"style\":\"light\"},\"paper_bgcolor\":\"white\",\"plot_bgcolor\":\"#E5ECF6\",\"polar\":{\"angularaxis\":{\"gridcolor\":\"white\",\"linecolor\":\"white\",\"ticks\":\"\"},\"bgcolor\":\"#E5ECF6\",\"radialaxis\":{\"gridcolor\":\"white\",\"linecolor\":\"white\",\"ticks\":\"\"}},\"scene\":{\"xaxis\":{\"backgroundcolor\":\"#E5ECF6\",\"gridcolor\":\"white\",\"gridwidth\":2,\"linecolor\":\"white\",\"showbackground\":true,\"ticks\":\"\",\"zerolinecolor\":\"white\"},\"yaxis\":{\"backgroundcolor\":\"#E5ECF6\",\"gridcolor\":\"white\",\"gridwidth\":2,\"linecolor\":\"white\",\"showbackground\":true,\"ticks\":\"\",\"zerolinecolor\":\"white\"},\"zaxis\":{\"backgroundcolor\":\"#E5ECF6\",\"gridcolor\":\"white\",\"gridwidth\":2,\"linecolor\":\"white\",\"showbackground\":true,\"ticks\":\"\",\"zerolinecolor\":\"white\"}},\"shapedefaults\":{\"line\":{\"color\":\"#2a3f5f\"}},\"ternary\":{\"aaxis\":{\"gridcolor\":\"white\",\"linecolor\":\"white\",\"ticks\":\"\"},\"baxis\":{\"gridcolor\":\"white\",\"linecolor\":\"white\",\"ticks\":\"\"},\"bgcolor\":\"#E5ECF6\",\"caxis\":{\"gridcolor\":\"white\",\"linecolor\":\"white\",\"ticks\":\"\"}},\"title\":{\"x\":0.05},\"xaxis\":{\"automargin\":true,\"gridcolor\":\"white\",\"linecolor\":\"white\",\"ticks\":\"\",\"title\":{\"standoff\":15},\"zerolinecolor\":\"white\",\"zerolinewidth\":2},\"yaxis\":{\"automargin\":true,\"gridcolor\":\"white\",\"linecolor\":\"white\",\"ticks\":\"\",\"title\":{\"standoff\":15},\"zerolinecolor\":\"white\",\"zerolinewidth\":2}}},\"scene\":{\"domain\":{\"x\":[0.0,1.0],\"y\":[0.0,1.0]},\"xaxis\":{\"title\":{\"text\":\"insuline\"}},\"yaxis\":{\"title\":{\"text\":\"grossesses\"}},\"zaxis\":{\"title\":{\"text\":\"age\"}}},\"legend\":{\"title\":{\"text\":\"color\"},\"tracegroupgap\":0},\"margin\":{\"t\":60}},                        {\"responsive\": true}                    ).then(function(){\n",
       "                            \n",
       "var gd = document.getElementById('a71bb40f-9220-487a-88f5-39a78c1b698d');\n",
       "var x = new MutationObserver(function (mutations, observer) {{\n",
       "        var display = window.getComputedStyle(gd).display;\n",
       "        if (!display || display === 'none') {{\n",
       "            console.log([gd, 'removed!']);\n",
       "            Plotly.purge(gd);\n",
       "            observer.disconnect();\n",
       "        }}\n",
       "}});\n",
       "\n",
       "// Listen for the removal of the full notebook cells\n",
       "var notebookContainer = gd.closest('#notebook-container');\n",
       "if (notebookContainer) {{\n",
       "    x.observe(notebookContainer, {childList: true});\n",
       "}}\n",
       "\n",
       "// Listen for the clearing of the current output cell\n",
       "var outputEl = gd.closest('.output');\n",
       "if (outputEl) {{\n",
       "    x.observe(outputEl, {childList: true});\n",
       "}}\n",
       "\n",
       "                        })                };                });            </script>        </div>"
      ]
     },
     "metadata": {},
     "output_type": "display_data"
    }
   ],
   "source": [
    "fig=px.scatter_3d(data_frame=tn, x='insuline', y='grossesses', z='age', color=tn['M'].astype(str), color_discrete_map={'1':'gray', '0':'blue'})\n",
    "fig.show()"
   ]
  },
  {
   "cell_type": "markdown",
   "metadata": {},
   "source": [
    "11) Entre les deux représentations laquelle permet de mieux distinguer entre le nuage bleue de nuage gris?\n",
    "La représentation numéro 2 est plus favorable pour distinguer entre le nuage de points des malades avec celui des non malades"
   ]
  },
  {
   "cell_type": "markdown",
   "metadata": {},
   "source": [
    "12)distance entre patient 0 et les autres"
   ]
  },
  {
   "cell_type": "code",
   "execution_count": 146,
   "metadata": {},
   "outputs": [
    {
     "data": {
      "text/html": [
       "<div>\n",
       "<style scoped>\n",
       "    .dataframe tbody tr th:only-of-type {\n",
       "        vertical-align: middle;\n",
       "    }\n",
       "\n",
       "    .dataframe tbody tr th {\n",
       "        vertical-align: top;\n",
       "    }\n",
       "\n",
       "    .dataframe thead th {\n",
       "        text-align: right;\n",
       "    }\n",
       "</style>\n",
       "<table border=\"1\" class=\"dataframe\">\n",
       "  <thead>\n",
       "    <tr style=\"text-align: right;\">\n",
       "      <th></th>\n",
       "      <th>grossesses</th>\n",
       "      <th>glucose</th>\n",
       "      <th>pression</th>\n",
       "      <th>insuline</th>\n",
       "      <th>imc</th>\n",
       "      <th>K</th>\n",
       "      <th>age</th>\n",
       "      <th>M</th>\n",
       "      <th>d</th>\n",
       "    </tr>\n",
       "  </thead>\n",
       "  <tbody>\n",
       "    <tr>\n",
       "      <th>0</th>\n",
       "      <td>-0.516041</td>\n",
       "      <td>-0.109329</td>\n",
       "      <td>0.173414</td>\n",
       "      <td>-0.911304</td>\n",
       "      <td>0.743188</td>\n",
       "      <td>-0.663069</td>\n",
       "      <td>0.334579</td>\n",
       "      <td>1</td>\n",
       "      <td>2.244353</td>\n",
       "    </tr>\n",
       "    <tr>\n",
       "      <th>1</th>\n",
       "      <td>1.752270</td>\n",
       "      <td>0.433723</td>\n",
       "      <td>-0.496492</td>\n",
       "      <td>2.570366</td>\n",
       "      <td>-0.122520</td>\n",
       "      <td>-0.642042</td>\n",
       "      <td>0.968852</td>\n",
       "      <td>1</td>\n",
       "      <td>3.009618</td>\n",
       "    </tr>\n",
       "    <tr>\n",
       "      <th>2</th>\n",
       "      <td>-0.516041</td>\n",
       "      <td>1.455939</td>\n",
       "      <td>-0.800995</td>\n",
       "      <td>-0.491225</td>\n",
       "      <td>-0.576447</td>\n",
       "      <td>1.416869</td>\n",
       "      <td>-0.696115</td>\n",
       "      <td>1</td>\n",
       "      <td>1.810496</td>\n",
       "    </tr>\n",
       "    <tr>\n",
       "      <th>3</th>\n",
       "      <td>1.468731</td>\n",
       "      <td>1.200385</td>\n",
       "      <td>-1.531801</td>\n",
       "      <td>0.498452</td>\n",
       "      <td>1.475133</td>\n",
       "      <td>-0.800832</td>\n",
       "      <td>0.493147</td>\n",
       "      <td>1</td>\n",
       "      <td>1.277425</td>\n",
       "    </tr>\n",
       "    <tr>\n",
       "      <th>4</th>\n",
       "      <td>-0.232502</td>\n",
       "      <td>-0.173218</td>\n",
       "      <td>0.234315</td>\n",
       "      <td>1.132130</td>\n",
       "      <td>-0.364915</td>\n",
       "      <td>-0.746634</td>\n",
       "      <td>-0.775399</td>\n",
       "      <td>1</td>\n",
       "      <td>1.738963</td>\n",
       "    </tr>\n",
       "    <tr>\n",
       "      <th>...</th>\n",
       "      <td>...</td>\n",
       "      <td>...</td>\n",
       "      <td>...</td>\n",
       "      <td>...</td>\n",
       "      <td>...</td>\n",
       "      <td>...</td>\n",
       "      <td>...</td>\n",
       "      <td>...</td>\n",
       "      <td>...</td>\n",
       "    </tr>\n",
       "    <tr>\n",
       "      <th>395</th>\n",
       "      <td>0.051037</td>\n",
       "      <td>-1.003768</td>\n",
       "      <td>-0.922796</td>\n",
       "      <td>-0.790264</td>\n",
       "      <td>-1.210104</td>\n",
       "      <td>0.315929</td>\n",
       "      <td>-0.696115</td>\n",
       "      <td>0</td>\n",
       "      <td>1.459421</td>\n",
       "    </tr>\n",
       "    <tr>\n",
       "      <th>396</th>\n",
       "      <td>-0.799580</td>\n",
       "      <td>-1.163490</td>\n",
       "      <td>-1.105497</td>\n",
       "      <td>-0.932664</td>\n",
       "      <td>-1.078406</td>\n",
       "      <td>-0.583855</td>\n",
       "      <td>-0.696115</td>\n",
       "      <td>0</td>\n",
       "      <td>2.250506</td>\n",
       "    </tr>\n",
       "    <tr>\n",
       "      <th>397</th>\n",
       "      <td>-0.799580</td>\n",
       "      <td>0.401779</td>\n",
       "      <td>0.538818</td>\n",
       "      <td>0.235013</td>\n",
       "      <td>-1.210369</td>\n",
       "      <td>-0.670262</td>\n",
       "      <td>-0.696115</td>\n",
       "      <td>0</td>\n",
       "      <td>1.987643</td>\n",
       "    </tr>\n",
       "    <tr>\n",
       "      <th>398</th>\n",
       "      <td>-0.799580</td>\n",
       "      <td>-0.939880</td>\n",
       "      <td>-0.374691</td>\n",
       "      <td>-0.120986</td>\n",
       "      <td>-1.090458</td>\n",
       "      <td>-0.682149</td>\n",
       "      <td>-0.458262</td>\n",
       "      <td>0</td>\n",
       "      <td>2.014446</td>\n",
       "    </tr>\n",
       "    <tr>\n",
       "      <th>399</th>\n",
       "      <td>-0.799580</td>\n",
       "      <td>0.912887</td>\n",
       "      <td>0.599718</td>\n",
       "      <td>-0.982504</td>\n",
       "      <td>-0.039462</td>\n",
       "      <td>-0.635427</td>\n",
       "      <td>0.017443</td>\n",
       "      <td>0</td>\n",
       "      <td>2.383731</td>\n",
       "    </tr>\n",
       "  </tbody>\n",
       "</table>\n",
       "<p>400 rows × 9 columns</p>\n",
       "</div>"
      ],
      "text/plain": [
       "     grossesses   glucose  pression  insuline       imc         K       age  \\\n",
       "0     -0.516041 -0.109329  0.173414 -0.911304  0.743188 -0.663069  0.334579   \n",
       "1      1.752270  0.433723 -0.496492  2.570366 -0.122520 -0.642042  0.968852   \n",
       "2     -0.516041  1.455939 -0.800995 -0.491225 -0.576447  1.416869 -0.696115   \n",
       "3      1.468731  1.200385 -1.531801  0.498452  1.475133 -0.800832  0.493147   \n",
       "4     -0.232502 -0.173218  0.234315  1.132130 -0.364915 -0.746634 -0.775399   \n",
       "..          ...       ...       ...       ...       ...       ...       ...   \n",
       "395    0.051037 -1.003768 -0.922796 -0.790264 -1.210104  0.315929 -0.696115   \n",
       "396   -0.799580 -1.163490 -1.105497 -0.932664 -1.078406 -0.583855 -0.696115   \n",
       "397   -0.799580  0.401779  0.538818  0.235013 -1.210369 -0.670262 -0.696115   \n",
       "398   -0.799580 -0.939880 -0.374691 -0.120986 -1.090458 -0.682149 -0.458262   \n",
       "399   -0.799580  0.912887  0.599718 -0.982504 -0.039462 -0.635427  0.017443   \n",
       "\n",
       "     M         d  \n",
       "0    1  2.244353  \n",
       "1    1  3.009618  \n",
       "2    1  1.810496  \n",
       "3    1  1.277425  \n",
       "4    1  1.738963  \n",
       "..  ..       ...  \n",
       "395  0  1.459421  \n",
       "396  0  2.250506  \n",
       "397  0  1.987643  \n",
       "398  0  2.014446  \n",
       "399  0  2.383731  \n",
       "\n",
       "[400 rows x 9 columns]"
      ]
     },
     "execution_count": 146,
     "metadata": {},
     "output_type": "execute_result"
    }
   ],
   "source": [
    "par=['grossesses', 'insuline', 'age']\n",
    "#distance entre deux individus\n",
    "def distance(i, p):\n",
    "    l1=tn[par].loc[i]\n",
    "    l2=pn[par].loc[p]\n",
    "    diff=(l1-l2)**2\n",
    "    return diff.sum()**0.5\n",
    "tn['d']=[distance(i, 0) for i in range(400)]\n",
    "tn\n"
   ]
  },
  {
   "cell_type": "code",
   "execution_count": 147,
   "metadata": {},
   "outputs": [
    {
     "data": {
      "text/plain": [
       "7"
      ]
     },
     "execution_count": 147,
     "metadata": {},
     "output_type": "execute_result"
    }
   ],
   "source": [
    "tn.sort_values('d').head(11).M.sum()"
   ]
  },
  {
   "cell_type": "code",
   "execution_count": 148,
   "metadata": {},
   "outputs": [],
   "source": [
    "#le patient 0 est malade"
   ]
  },
  {
   "cell_type": "code",
   "execution_count": 149,
   "metadata": {},
   "outputs": [
    {
     "data": {
      "text/plain": [
       "1"
      ]
     },
     "execution_count": 149,
     "metadata": {},
     "output_type": "execute_result"
    }
   ],
   "source": [
    "#fonction prediction\n",
    "def prediction(p):\n",
    "    tn['d']=[distance(i, p) for i in range(400)]\n",
    "    nb_malade=tn.sort_values('d').head(11).M.sum()\n",
    "    if nb_malade>5:\n",
    "        return 1\n",
    "    else: return 0\n",
    "prediction(0)    "
   ]
  },
  {
   "cell_type": "code",
   "execution_count": 150,
   "metadata": {},
   "outputs": [
    {
     "data": {
      "text/html": [
       "<div>\n",
       "<style scoped>\n",
       "    .dataframe tbody tr th:only-of-type {\n",
       "        vertical-align: middle;\n",
       "    }\n",
       "\n",
       "    .dataframe tbody tr th {\n",
       "        vertical-align: top;\n",
       "    }\n",
       "\n",
       "    .dataframe thead th {\n",
       "        text-align: right;\n",
       "    }\n",
       "</style>\n",
       "<table border=\"1\" class=\"dataframe\">\n",
       "  <thead>\n",
       "    <tr style=\"text-align: right;\">\n",
       "      <th></th>\n",
       "      <th>grossesses</th>\n",
       "      <th>glucose</th>\n",
       "      <th>pression</th>\n",
       "      <th>insuline</th>\n",
       "      <th>imc</th>\n",
       "      <th>K</th>\n",
       "      <th>age</th>\n",
       "      <th>M</th>\n",
       "    </tr>\n",
       "  </thead>\n",
       "  <tbody>\n",
       "    <tr>\n",
       "      <th>0</th>\n",
       "      <td>1.185192</td>\n",
       "      <td>-0.013496</td>\n",
       "      <td>-0.252890</td>\n",
       "      <td>0.128213</td>\n",
       "      <td>-0.705758</td>\n",
       "      <td>-0.710584</td>\n",
       "      <td>-0.696115</td>\n",
       "      <td>1</td>\n",
       "    </tr>\n",
       "    <tr>\n",
       "      <th>1</th>\n",
       "      <td>-1.083118</td>\n",
       "      <td>-1.131545</td>\n",
       "      <td>0.721519</td>\n",
       "      <td>0.690691</td>\n",
       "      <td>-0.231370</td>\n",
       "      <td>0.964289</td>\n",
       "      <td>1.048136</td>\n",
       "      <td>1</td>\n",
       "    </tr>\n",
       "    <tr>\n",
       "      <th>2</th>\n",
       "      <td>-0.516041</td>\n",
       "      <td>2.094824</td>\n",
       "      <td>0.051613</td>\n",
       "      <td>3.239644</td>\n",
       "      <td>-0.076123</td>\n",
       "      <td>1.582590</td>\n",
       "      <td>2.316683</td>\n",
       "      <td>1</td>\n",
       "    </tr>\n",
       "    <tr>\n",
       "      <th>3</th>\n",
       "      <td>-0.232502</td>\n",
       "      <td>-0.045441</td>\n",
       "      <td>0.112514</td>\n",
       "      <td>0.341812</td>\n",
       "      <td>-0.499606</td>\n",
       "      <td>-0.767300</td>\n",
       "      <td>-0.775399</td>\n",
       "      <td>1</td>\n",
       "    </tr>\n",
       "    <tr>\n",
       "      <th>4</th>\n",
       "      <td>1.468731</td>\n",
       "      <td>0.912887</td>\n",
       "      <td>-0.618293</td>\n",
       "      <td>-0.007067</td>\n",
       "      <td>0.651361</td>\n",
       "      <td>0.172326</td>\n",
       "      <td>-0.696115</td>\n",
       "      <td>1</td>\n",
       "    </tr>\n",
       "    <tr>\n",
       "      <th>...</th>\n",
       "      <td>...</td>\n",
       "      <td>...</td>\n",
       "      <td>...</td>\n",
       "      <td>...</td>\n",
       "      <td>...</td>\n",
       "      <td>...</td>\n",
       "      <td>...</td>\n",
       "      <td>...</td>\n",
       "    </tr>\n",
       "    <tr>\n",
       "      <th>95</th>\n",
       "      <td>0.618115</td>\n",
       "      <td>-0.556549</td>\n",
       "      <td>0.904221</td>\n",
       "      <td>-0.790264</td>\n",
       "      <td>-1.066785</td>\n",
       "      <td>-0.749308</td>\n",
       "      <td>-0.616831</td>\n",
       "      <td>0</td>\n",
       "    </tr>\n",
       "    <tr>\n",
       "      <th>96</th>\n",
       "      <td>-0.799580</td>\n",
       "      <td>2.158713</td>\n",
       "      <td>0.782420</td>\n",
       "      <td>-0.918424</td>\n",
       "      <td>-1.377615</td>\n",
       "      <td>0.171955</td>\n",
       "      <td>0.334579</td>\n",
       "      <td>0</td>\n",
       "    </tr>\n",
       "    <tr>\n",
       "      <th>97</th>\n",
       "      <td>-0.799580</td>\n",
       "      <td>-1.003768</td>\n",
       "      <td>0.477917</td>\n",
       "      <td>0.206533</td>\n",
       "      <td>1.425748</td>\n",
       "      <td>-0.390862</td>\n",
       "      <td>-0.775399</td>\n",
       "      <td>0</td>\n",
       "    </tr>\n",
       "    <tr>\n",
       "      <th>98</th>\n",
       "      <td>-1.083118</td>\n",
       "      <td>1.967047</td>\n",
       "      <td>0.051613</td>\n",
       "      <td>0.591012</td>\n",
       "      <td>-1.083417</td>\n",
       "      <td>-0.605248</td>\n",
       "      <td>-0.378978</td>\n",
       "      <td>0</td>\n",
       "    </tr>\n",
       "    <tr>\n",
       "      <th>99</th>\n",
       "      <td>0.618115</td>\n",
       "      <td>-0.875991</td>\n",
       "      <td>-0.861895</td>\n",
       "      <td>-0.177946</td>\n",
       "      <td>0.623283</td>\n",
       "      <td>1.283032</td>\n",
       "      <td>-0.616831</td>\n",
       "      <td>0</td>\n",
       "    </tr>\n",
       "  </tbody>\n",
       "</table>\n",
       "<p>100 rows × 8 columns</p>\n",
       "</div>"
      ],
      "text/plain": [
       "    grossesses   glucose  pression  insuline       imc         K       age  M\n",
       "0     1.185192 -0.013496 -0.252890  0.128213 -0.705758 -0.710584 -0.696115  1\n",
       "1    -1.083118 -1.131545  0.721519  0.690691 -0.231370  0.964289  1.048136  1\n",
       "2    -0.516041  2.094824  0.051613  3.239644 -0.076123  1.582590  2.316683  1\n",
       "3    -0.232502 -0.045441  0.112514  0.341812 -0.499606 -0.767300 -0.775399  1\n",
       "4     1.468731  0.912887 -0.618293 -0.007067  0.651361  0.172326 -0.696115  1\n",
       "..         ...       ...       ...       ...       ...       ...       ... ..\n",
       "95    0.618115 -0.556549  0.904221 -0.790264 -1.066785 -0.749308 -0.616831  0\n",
       "96   -0.799580  2.158713  0.782420 -0.918424 -1.377615  0.171955  0.334579  0\n",
       "97   -0.799580 -1.003768  0.477917  0.206533  1.425748 -0.390862 -0.775399  0\n",
       "98   -1.083118  1.967047  0.051613  0.591012 -1.083417 -0.605248 -0.378978  0\n",
       "99    0.618115 -0.875991 -0.861895 -0.177946  0.623283  1.283032 -0.616831  0\n",
       "\n",
       "[100 rows x 8 columns]"
      ]
     },
     "execution_count": 150,
     "metadata": {},
     "output_type": "execute_result"
    }
   ],
   "source": [
    "#prediction sur le fichier des patients\n",
    "pn['M']=diab_pat['M']\n",
    "pn"
   ]
  },
  {
   "cell_type": "code",
   "execution_count": 151,
   "metadata": {},
   "outputs": [
    {
     "data": {
      "text/html": [
       "<div>\n",
       "<style scoped>\n",
       "    .dataframe tbody tr th:only-of-type {\n",
       "        vertical-align: middle;\n",
       "    }\n",
       "\n",
       "    .dataframe tbody tr th {\n",
       "        vertical-align: top;\n",
       "    }\n",
       "\n",
       "    .dataframe thead th {\n",
       "        text-align: right;\n",
       "    }\n",
       "</style>\n",
       "<table border=\"1\" class=\"dataframe\">\n",
       "  <thead>\n",
       "    <tr style=\"text-align: right;\">\n",
       "      <th></th>\n",
       "      <th>grossesses</th>\n",
       "      <th>glucose</th>\n",
       "      <th>pression</th>\n",
       "      <th>insuline</th>\n",
       "      <th>imc</th>\n",
       "      <th>K</th>\n",
       "      <th>age</th>\n",
       "      <th>M</th>\n",
       "      <th>t</th>\n",
       "    </tr>\n",
       "  </thead>\n",
       "  <tbody>\n",
       "    <tr>\n",
       "      <th>0</th>\n",
       "      <td>1.185192</td>\n",
       "      <td>-0.013496</td>\n",
       "      <td>-0.252890</td>\n",
       "      <td>0.128213</td>\n",
       "      <td>-0.705758</td>\n",
       "      <td>-0.710584</td>\n",
       "      <td>-0.696115</td>\n",
       "      <td>1</td>\n",
       "      <td>1</td>\n",
       "    </tr>\n",
       "    <tr>\n",
       "      <th>1</th>\n",
       "      <td>-1.083118</td>\n",
       "      <td>-1.131545</td>\n",
       "      <td>0.721519</td>\n",
       "      <td>0.690691</td>\n",
       "      <td>-0.231370</td>\n",
       "      <td>0.964289</td>\n",
       "      <td>1.048136</td>\n",
       "      <td>1</td>\n",
       "      <td>1</td>\n",
       "    </tr>\n",
       "    <tr>\n",
       "      <th>2</th>\n",
       "      <td>-0.516041</td>\n",
       "      <td>2.094824</td>\n",
       "      <td>0.051613</td>\n",
       "      <td>3.239644</td>\n",
       "      <td>-0.076123</td>\n",
       "      <td>1.582590</td>\n",
       "      <td>2.316683</td>\n",
       "      <td>1</td>\n",
       "      <td>1</td>\n",
       "    </tr>\n",
       "    <tr>\n",
       "      <th>3</th>\n",
       "      <td>-0.232502</td>\n",
       "      <td>-0.045441</td>\n",
       "      <td>0.112514</td>\n",
       "      <td>0.341812</td>\n",
       "      <td>-0.499606</td>\n",
       "      <td>-0.767300</td>\n",
       "      <td>-0.775399</td>\n",
       "      <td>1</td>\n",
       "      <td>1</td>\n",
       "    </tr>\n",
       "    <tr>\n",
       "      <th>4</th>\n",
       "      <td>1.468731</td>\n",
       "      <td>0.912887</td>\n",
       "      <td>-0.618293</td>\n",
       "      <td>-0.007067</td>\n",
       "      <td>0.651361</td>\n",
       "      <td>0.172326</td>\n",
       "      <td>-0.696115</td>\n",
       "      <td>1</td>\n",
       "      <td>1</td>\n",
       "    </tr>\n",
       "    <tr>\n",
       "      <th>...</th>\n",
       "      <td>...</td>\n",
       "      <td>...</td>\n",
       "      <td>...</td>\n",
       "      <td>...</td>\n",
       "      <td>...</td>\n",
       "      <td>...</td>\n",
       "      <td>...</td>\n",
       "      <td>...</td>\n",
       "      <td>...</td>\n",
       "    </tr>\n",
       "    <tr>\n",
       "      <th>95</th>\n",
       "      <td>0.618115</td>\n",
       "      <td>-0.556549</td>\n",
       "      <td>0.904221</td>\n",
       "      <td>-0.790264</td>\n",
       "      <td>-1.066785</td>\n",
       "      <td>-0.749308</td>\n",
       "      <td>-0.616831</td>\n",
       "      <td>0</td>\n",
       "      <td>0</td>\n",
       "    </tr>\n",
       "    <tr>\n",
       "      <th>96</th>\n",
       "      <td>-0.799580</td>\n",
       "      <td>2.158713</td>\n",
       "      <td>0.782420</td>\n",
       "      <td>-0.918424</td>\n",
       "      <td>-1.377615</td>\n",
       "      <td>0.171955</td>\n",
       "      <td>0.334579</td>\n",
       "      <td>0</td>\n",
       "      <td>0</td>\n",
       "    </tr>\n",
       "    <tr>\n",
       "      <th>97</th>\n",
       "      <td>-0.799580</td>\n",
       "      <td>-1.003768</td>\n",
       "      <td>0.477917</td>\n",
       "      <td>0.206533</td>\n",
       "      <td>1.425748</td>\n",
       "      <td>-0.390862</td>\n",
       "      <td>-0.775399</td>\n",
       "      <td>0</td>\n",
       "      <td>0</td>\n",
       "    </tr>\n",
       "    <tr>\n",
       "      <th>98</th>\n",
       "      <td>-1.083118</td>\n",
       "      <td>1.967047</td>\n",
       "      <td>0.051613</td>\n",
       "      <td>0.591012</td>\n",
       "      <td>-1.083417</td>\n",
       "      <td>-0.605248</td>\n",
       "      <td>-0.378978</td>\n",
       "      <td>0</td>\n",
       "      <td>0</td>\n",
       "    </tr>\n",
       "    <tr>\n",
       "      <th>99</th>\n",
       "      <td>0.618115</td>\n",
       "      <td>-0.875991</td>\n",
       "      <td>-0.861895</td>\n",
       "      <td>-0.177946</td>\n",
       "      <td>0.623283</td>\n",
       "      <td>1.283032</td>\n",
       "      <td>-0.616831</td>\n",
       "      <td>0</td>\n",
       "      <td>1</td>\n",
       "    </tr>\n",
       "  </tbody>\n",
       "</table>\n",
       "<p>100 rows × 9 columns</p>\n",
       "</div>"
      ],
      "text/plain": [
       "    grossesses   glucose  pression  insuline       imc         K       age  M  \\\n",
       "0     1.185192 -0.013496 -0.252890  0.128213 -0.705758 -0.710584 -0.696115  1   \n",
       "1    -1.083118 -1.131545  0.721519  0.690691 -0.231370  0.964289  1.048136  1   \n",
       "2    -0.516041  2.094824  0.051613  3.239644 -0.076123  1.582590  2.316683  1   \n",
       "3    -0.232502 -0.045441  0.112514  0.341812 -0.499606 -0.767300 -0.775399  1   \n",
       "4     1.468731  0.912887 -0.618293 -0.007067  0.651361  0.172326 -0.696115  1   \n",
       "..         ...       ...       ...       ...       ...       ...       ... ..   \n",
       "95    0.618115 -0.556549  0.904221 -0.790264 -1.066785 -0.749308 -0.616831  0   \n",
       "96   -0.799580  2.158713  0.782420 -0.918424 -1.377615  0.171955  0.334579  0   \n",
       "97   -0.799580 -1.003768  0.477917  0.206533  1.425748 -0.390862 -0.775399  0   \n",
       "98   -1.083118  1.967047  0.051613  0.591012 -1.083417 -0.605248 -0.378978  0   \n",
       "99    0.618115 -0.875991 -0.861895 -0.177946  0.623283  1.283032 -0.616831  0   \n",
       "\n",
       "    t  \n",
       "0   1  \n",
       "1   1  \n",
       "2   1  \n",
       "3   1  \n",
       "4   1  \n",
       ".. ..  \n",
       "95  0  \n",
       "96  0  \n",
       "97  0  \n",
       "98  0  \n",
       "99  1  \n",
       "\n",
       "[100 rows x 9 columns]"
      ]
     },
     "execution_count": 151,
     "metadata": {},
     "output_type": "execute_result"
    }
   ],
   "source": [
    "pn['t']=[prediction(p) for p in range(100)]\n",
    "pn"
   ]
  },
  {
   "cell_type": "code",
   "execution_count": 152,
   "metadata": {},
   "outputs": [
    {
     "data": {
      "text/html": [
       "<div>\n",
       "<style scoped>\n",
       "    .dataframe tbody tr th:only-of-type {\n",
       "        vertical-align: middle;\n",
       "    }\n",
       "\n",
       "    .dataframe tbody tr th {\n",
       "        vertical-align: top;\n",
       "    }\n",
       "\n",
       "    .dataframe thead th {\n",
       "        text-align: right;\n",
       "    }\n",
       "</style>\n",
       "<table border=\"1\" class=\"dataframe\">\n",
       "  <thead>\n",
       "    <tr style=\"text-align: right;\">\n",
       "      <th>t</th>\n",
       "      <th>0</th>\n",
       "      <th>1</th>\n",
       "      <th>All</th>\n",
       "    </tr>\n",
       "    <tr>\n",
       "      <th>M</th>\n",
       "      <th></th>\n",
       "      <th></th>\n",
       "      <th></th>\n",
       "    </tr>\n",
       "  </thead>\n",
       "  <tbody>\n",
       "    <tr>\n",
       "      <th>0</th>\n",
       "      <td>44</td>\n",
       "      <td>6</td>\n",
       "      <td>50</td>\n",
       "    </tr>\n",
       "    <tr>\n",
       "      <th>1</th>\n",
       "      <td>9</td>\n",
       "      <td>41</td>\n",
       "      <td>50</td>\n",
       "    </tr>\n",
       "    <tr>\n",
       "      <th>All</th>\n",
       "      <td>53</td>\n",
       "      <td>47</td>\n",
       "      <td>100</td>\n",
       "    </tr>\n",
       "  </tbody>\n",
       "</table>\n",
       "</div>"
      ],
      "text/plain": [
       "t     0   1  All\n",
       "M               \n",
       "0    44   6   50\n",
       "1     9  41   50\n",
       "All  53  47  100"
      ]
     },
     "execution_count": 152,
     "metadata": {},
     "output_type": "execute_result"
    }
   ],
   "source": [
    "#Mesure de fiabilité (question bonus)\n",
    "e=pd.crosstab(pn['M'], pn['t'], margins=True)\n",
    "e"
   ]
  },
  {
   "cell_type": "code",
   "execution_count": 153,
   "metadata": {},
   "outputs": [],
   "source": [
    "#précision du test\n",
    "prec=(e.loc[0,0]+e.loc[1,1])/100\n"
   ]
  },
  {
   "cell_type": "code",
   "execution_count": 154,
   "metadata": {},
   "outputs": [
    {
     "name": "stdout",
     "output_type": "stream",
     "text": [
      "0.85\n"
     ]
    }
   ],
   "source": [
    "print(prec)"
   ]
  },
  {
   "cell_type": "code",
   "execution_count": 155,
   "metadata": {},
   "outputs": [],
   "source": [
    "target = diab_pop['M']\n",
    "diab_pop = diab_pop.drop(columns=['M'])"
   ]
  },
  {
   "cell_type": "code",
   "execution_count": 156,
   "metadata": {},
   "outputs": [
    {
     "data": {
      "text/plain": [
       "21"
      ]
     },
     "execution_count": 156,
     "metadata": {},
     "output_type": "execute_result"
    }
   ],
   "source": [
    "diab_pop['age'].min()"
   ]
  },
  {
   "cell_type": "code",
   "execution_count": 157,
   "metadata": {},
   "outputs": [
    {
     "data": {
      "text/html": [
       "<div>\n",
       "<style scoped>\n",
       "    .dataframe tbody tr th:only-of-type {\n",
       "        vertical-align: middle;\n",
       "    }\n",
       "\n",
       "    .dataframe tbody tr th {\n",
       "        vertical-align: top;\n",
       "    }\n",
       "\n",
       "    .dataframe thead th {\n",
       "        text-align: right;\n",
       "    }\n",
       "</style>\n",
       "<table border=\"1\" class=\"dataframe\">\n",
       "  <thead>\n",
       "    <tr style=\"text-align: right;\">\n",
       "      <th></th>\n",
       "      <th>grossesses</th>\n",
       "      <th>glucose</th>\n",
       "      <th>pression</th>\n",
       "      <th>insuline</th>\n",
       "      <th>imc</th>\n",
       "      <th>K</th>\n",
       "      <th>age</th>\n",
       "      <th>M</th>\n",
       "    </tr>\n",
       "  </thead>\n",
       "  <tbody>\n",
       "    <tr>\n",
       "      <th>0</th>\n",
       "      <td>8</td>\n",
       "      <td>107</td>\n",
       "      <td>68</td>\n",
       "      <td>174</td>\n",
       "      <td>25.048805</td>\n",
       "      <td>0.125076</td>\n",
       "      <td>22</td>\n",
       "      <td>1</td>\n",
       "    </tr>\n",
       "    <tr>\n",
       "      <th>1</th>\n",
       "      <td>0</td>\n",
       "      <td>72</td>\n",
       "      <td>84</td>\n",
       "      <td>253</td>\n",
       "      <td>29.623036</td>\n",
       "      <td>0.837026</td>\n",
       "      <td>44</td>\n",
       "      <td>1</td>\n",
       "    </tr>\n",
       "    <tr>\n",
       "      <th>2</th>\n",
       "      <td>2</td>\n",
       "      <td>173</td>\n",
       "      <td>73</td>\n",
       "      <td>611</td>\n",
       "      <td>31.119992</td>\n",
       "      <td>1.099852</td>\n",
       "      <td>60</td>\n",
       "      <td>1</td>\n",
       "    </tr>\n",
       "    <tr>\n",
       "      <th>3</th>\n",
       "      <td>3</td>\n",
       "      <td>106</td>\n",
       "      <td>74</td>\n",
       "      <td>204</td>\n",
       "      <td>27.036600</td>\n",
       "      <td>0.100967</td>\n",
       "      <td>21</td>\n",
       "      <td>1</td>\n",
       "    </tr>\n",
       "    <tr>\n",
       "      <th>4</th>\n",
       "      <td>9</td>\n",
       "      <td>136</td>\n",
       "      <td>62</td>\n",
       "      <td>155</td>\n",
       "      <td>38.134675</td>\n",
       "      <td>0.500380</td>\n",
       "      <td>22</td>\n",
       "      <td>1</td>\n",
       "    </tr>\n",
       "    <tr>\n",
       "      <th>...</th>\n",
       "      <td>...</td>\n",
       "      <td>...</td>\n",
       "      <td>...</td>\n",
       "      <td>...</td>\n",
       "      <td>...</td>\n",
       "      <td>...</td>\n",
       "      <td>...</td>\n",
       "      <td>...</td>\n",
       "    </tr>\n",
       "    <tr>\n",
       "      <th>95</th>\n",
       "      <td>6</td>\n",
       "      <td>90</td>\n",
       "      <td>87</td>\n",
       "      <td>45</td>\n",
       "      <td>21.567639</td>\n",
       "      <td>0.108615</td>\n",
       "      <td>23</td>\n",
       "      <td>0</td>\n",
       "    </tr>\n",
       "    <tr>\n",
       "      <th>96</th>\n",
       "      <td>1</td>\n",
       "      <td>175</td>\n",
       "      <td>85</td>\n",
       "      <td>27</td>\n",
       "      <td>18.570494</td>\n",
       "      <td>0.500223</td>\n",
       "      <td>35</td>\n",
       "      <td>0</td>\n",
       "    </tr>\n",
       "    <tr>\n",
       "      <th>97</th>\n",
       "      <td>1</td>\n",
       "      <td>76</td>\n",
       "      <td>80</td>\n",
       "      <td>185</td>\n",
       "      <td>45.601613</td>\n",
       "      <td>0.260982</td>\n",
       "      <td>21</td>\n",
       "      <td>0</td>\n",
       "    </tr>\n",
       "    <tr>\n",
       "      <th>98</th>\n",
       "      <td>0</td>\n",
       "      <td>169</td>\n",
       "      <td>73</td>\n",
       "      <td>239</td>\n",
       "      <td>21.407266</td>\n",
       "      <td>0.169851</td>\n",
       "      <td>26</td>\n",
       "      <td>0</td>\n",
       "    </tr>\n",
       "    <tr>\n",
       "      <th>99</th>\n",
       "      <td>6</td>\n",
       "      <td>80</td>\n",
       "      <td>58</td>\n",
       "      <td>131</td>\n",
       "      <td>37.863933</td>\n",
       "      <td>0.972516</td>\n",
       "      <td>23</td>\n",
       "      <td>0</td>\n",
       "    </tr>\n",
       "  </tbody>\n",
       "</table>\n",
       "<p>100 rows × 8 columns</p>\n",
       "</div>"
      ],
      "text/plain": [
       "    grossesses  glucose  pression  insuline        imc         K  age  M\n",
       "0            8      107        68       174  25.048805  0.125076   22  1\n",
       "1            0       72        84       253  29.623036  0.837026   44  1\n",
       "2            2      173        73       611  31.119992  1.099852   60  1\n",
       "3            3      106        74       204  27.036600  0.100967   21  1\n",
       "4            9      136        62       155  38.134675  0.500380   22  1\n",
       "..         ...      ...       ...       ...        ...       ...  ... ..\n",
       "95           6       90        87        45  21.567639  0.108615   23  0\n",
       "96           1      175        85        27  18.570494  0.500223   35  0\n",
       "97           1       76        80       185  45.601613  0.260982   21  0\n",
       "98           0      169        73       239  21.407266  0.169851   26  0\n",
       "99           6       80        58       131  37.863933  0.972516   23  0\n",
       "\n",
       "[100 rows x 8 columns]"
      ]
     },
     "execution_count": 157,
     "metadata": {},
     "output_type": "execute_result"
    }
   ],
   "source": [
    "diab_pat"
   ]
  },
  {
   "cell_type": "code",
   "execution_count": 158,
   "metadata": {},
   "outputs": [
    {
     "data": {
      "text/html": [
       "<div>\n",
       "<style scoped>\n",
       "    .dataframe tbody tr th:only-of-type {\n",
       "        vertical-align: middle;\n",
       "    }\n",
       "\n",
       "    .dataframe tbody tr th {\n",
       "        vertical-align: top;\n",
       "    }\n",
       "\n",
       "    .dataframe thead th {\n",
       "        text-align: right;\n",
       "    }\n",
       "</style>\n",
       "<table border=\"1\" class=\"dataframe\">\n",
       "  <thead>\n",
       "    <tr style=\"text-align: right;\">\n",
       "      <th></th>\n",
       "      <th>grossesses</th>\n",
       "      <th>glucose</th>\n",
       "      <th>pression</th>\n",
       "      <th>insuline</th>\n",
       "      <th>imc</th>\n",
       "      <th>K</th>\n",
       "      <th>age</th>\n",
       "      <th>M</th>\n",
       "      <th>t</th>\n",
       "    </tr>\n",
       "  </thead>\n",
       "  <tbody>\n",
       "    <tr>\n",
       "      <th>0</th>\n",
       "      <td>1.185192</td>\n",
       "      <td>-0.013496</td>\n",
       "      <td>-0.252890</td>\n",
       "      <td>0.128213</td>\n",
       "      <td>-0.705758</td>\n",
       "      <td>-0.710584</td>\n",
       "      <td>-0.696115</td>\n",
       "      <td>1</td>\n",
       "      <td>1</td>\n",
       "    </tr>\n",
       "    <tr>\n",
       "      <th>1</th>\n",
       "      <td>-1.083118</td>\n",
       "      <td>-1.131545</td>\n",
       "      <td>0.721519</td>\n",
       "      <td>0.690691</td>\n",
       "      <td>-0.231370</td>\n",
       "      <td>0.964289</td>\n",
       "      <td>1.048136</td>\n",
       "      <td>1</td>\n",
       "      <td>1</td>\n",
       "    </tr>\n",
       "    <tr>\n",
       "      <th>2</th>\n",
       "      <td>-0.516041</td>\n",
       "      <td>2.094824</td>\n",
       "      <td>0.051613</td>\n",
       "      <td>3.239644</td>\n",
       "      <td>-0.076123</td>\n",
       "      <td>1.582590</td>\n",
       "      <td>2.316683</td>\n",
       "      <td>1</td>\n",
       "      <td>1</td>\n",
       "    </tr>\n",
       "    <tr>\n",
       "      <th>3</th>\n",
       "      <td>-0.232502</td>\n",
       "      <td>-0.045441</td>\n",
       "      <td>0.112514</td>\n",
       "      <td>0.341812</td>\n",
       "      <td>-0.499606</td>\n",
       "      <td>-0.767300</td>\n",
       "      <td>-0.775399</td>\n",
       "      <td>1</td>\n",
       "      <td>1</td>\n",
       "    </tr>\n",
       "    <tr>\n",
       "      <th>4</th>\n",
       "      <td>1.468731</td>\n",
       "      <td>0.912887</td>\n",
       "      <td>-0.618293</td>\n",
       "      <td>-0.007067</td>\n",
       "      <td>0.651361</td>\n",
       "      <td>0.172326</td>\n",
       "      <td>-0.696115</td>\n",
       "      <td>1</td>\n",
       "      <td>1</td>\n",
       "    </tr>\n",
       "    <tr>\n",
       "      <th>...</th>\n",
       "      <td>...</td>\n",
       "      <td>...</td>\n",
       "      <td>...</td>\n",
       "      <td>...</td>\n",
       "      <td>...</td>\n",
       "      <td>...</td>\n",
       "      <td>...</td>\n",
       "      <td>...</td>\n",
       "      <td>...</td>\n",
       "    </tr>\n",
       "    <tr>\n",
       "      <th>95</th>\n",
       "      <td>0.618115</td>\n",
       "      <td>-0.556549</td>\n",
       "      <td>0.904221</td>\n",
       "      <td>-0.790264</td>\n",
       "      <td>-1.066785</td>\n",
       "      <td>-0.749308</td>\n",
       "      <td>-0.616831</td>\n",
       "      <td>0</td>\n",
       "      <td>0</td>\n",
       "    </tr>\n",
       "    <tr>\n",
       "      <th>96</th>\n",
       "      <td>-0.799580</td>\n",
       "      <td>2.158713</td>\n",
       "      <td>0.782420</td>\n",
       "      <td>-0.918424</td>\n",
       "      <td>-1.377615</td>\n",
       "      <td>0.171955</td>\n",
       "      <td>0.334579</td>\n",
       "      <td>0</td>\n",
       "      <td>0</td>\n",
       "    </tr>\n",
       "    <tr>\n",
       "      <th>97</th>\n",
       "      <td>-0.799580</td>\n",
       "      <td>-1.003768</td>\n",
       "      <td>0.477917</td>\n",
       "      <td>0.206533</td>\n",
       "      <td>1.425748</td>\n",
       "      <td>-0.390862</td>\n",
       "      <td>-0.775399</td>\n",
       "      <td>0</td>\n",
       "      <td>0</td>\n",
       "    </tr>\n",
       "    <tr>\n",
       "      <th>98</th>\n",
       "      <td>-1.083118</td>\n",
       "      <td>1.967047</td>\n",
       "      <td>0.051613</td>\n",
       "      <td>0.591012</td>\n",
       "      <td>-1.083417</td>\n",
       "      <td>-0.605248</td>\n",
       "      <td>-0.378978</td>\n",
       "      <td>0</td>\n",
       "      <td>0</td>\n",
       "    </tr>\n",
       "    <tr>\n",
       "      <th>99</th>\n",
       "      <td>0.618115</td>\n",
       "      <td>-0.875991</td>\n",
       "      <td>-0.861895</td>\n",
       "      <td>-0.177946</td>\n",
       "      <td>0.623283</td>\n",
       "      <td>1.283032</td>\n",
       "      <td>-0.616831</td>\n",
       "      <td>0</td>\n",
       "      <td>1</td>\n",
       "    </tr>\n",
       "  </tbody>\n",
       "</table>\n",
       "<p>100 rows × 9 columns</p>\n",
       "</div>"
      ],
      "text/plain": [
       "    grossesses   glucose  pression  insuline       imc         K       age  M  \\\n",
       "0     1.185192 -0.013496 -0.252890  0.128213 -0.705758 -0.710584 -0.696115  1   \n",
       "1    -1.083118 -1.131545  0.721519  0.690691 -0.231370  0.964289  1.048136  1   \n",
       "2    -0.516041  2.094824  0.051613  3.239644 -0.076123  1.582590  2.316683  1   \n",
       "3    -0.232502 -0.045441  0.112514  0.341812 -0.499606 -0.767300 -0.775399  1   \n",
       "4     1.468731  0.912887 -0.618293 -0.007067  0.651361  0.172326 -0.696115  1   \n",
       "..         ...       ...       ...       ...       ...       ...       ... ..   \n",
       "95    0.618115 -0.556549  0.904221 -0.790264 -1.066785 -0.749308 -0.616831  0   \n",
       "96   -0.799580  2.158713  0.782420 -0.918424 -1.377615  0.171955  0.334579  0   \n",
       "97   -0.799580 -1.003768  0.477917  0.206533  1.425748 -0.390862 -0.775399  0   \n",
       "98   -1.083118  1.967047  0.051613  0.591012 -1.083417 -0.605248 -0.378978  0   \n",
       "99    0.618115 -0.875991 -0.861895 -0.177946  0.623283  1.283032 -0.616831  0   \n",
       "\n",
       "    t  \n",
       "0   1  \n",
       "1   1  \n",
       "2   1  \n",
       "3   1  \n",
       "4   1  \n",
       ".. ..  \n",
       "95  0  \n",
       "96  0  \n",
       "97  0  \n",
       "98  0  \n",
       "99  1  \n",
       "\n",
       "[100 rows x 9 columns]"
      ]
     },
     "execution_count": 158,
     "metadata": {},
     "output_type": "execute_result"
    }
   ],
   "source": [
    "pn"
   ]
  },
  {
   "cell_type": "code",
   "execution_count": 159,
   "metadata": {},
   "outputs": [
    {
     "data": {
      "text/plain": [
       "KNeighborsClassifier()"
      ]
     },
     "execution_count": 159,
     "metadata": {},
     "output_type": "execute_result"
    }
   ],
   "source": [
    "#création des modèles \n",
    "from sklearn.neighbors import KNeighborsClassifier\n",
    "knn = KNeighborsClassifier()\n",
    "knn.fit(tn[['grossesses', 'age', 'insuline']], target)\n"
   ]
  },
  {
   "cell_type": "code",
   "execution_count": 160,
   "metadata": {},
   "outputs": [],
   "source": [
    "pn['predicted_value'] = knn.predict(pn[['grossesses', 'age', 'insuline']])"
   ]
  },
  {
   "cell_type": "code",
   "execution_count": 161,
   "metadata": {},
   "outputs": [
    {
     "data": {
      "text/html": [
       "<div>\n",
       "<style scoped>\n",
       "    .dataframe tbody tr th:only-of-type {\n",
       "        vertical-align: middle;\n",
       "    }\n",
       "\n",
       "    .dataframe tbody tr th {\n",
       "        vertical-align: top;\n",
       "    }\n",
       "\n",
       "    .dataframe thead th {\n",
       "        text-align: right;\n",
       "    }\n",
       "</style>\n",
       "<table border=\"1\" class=\"dataframe\">\n",
       "  <thead>\n",
       "    <tr style=\"text-align: right;\">\n",
       "      <th></th>\n",
       "      <th>grossesses</th>\n",
       "      <th>glucose</th>\n",
       "      <th>pression</th>\n",
       "      <th>insuline</th>\n",
       "      <th>imc</th>\n",
       "      <th>K</th>\n",
       "      <th>age</th>\n",
       "      <th>M</th>\n",
       "      <th>t</th>\n",
       "      <th>predicted_value</th>\n",
       "    </tr>\n",
       "  </thead>\n",
       "  <tbody>\n",
       "    <tr>\n",
       "      <th>0</th>\n",
       "      <td>1.185192</td>\n",
       "      <td>-0.013496</td>\n",
       "      <td>-0.252890</td>\n",
       "      <td>0.128213</td>\n",
       "      <td>-0.705758</td>\n",
       "      <td>-0.710584</td>\n",
       "      <td>-0.696115</td>\n",
       "      <td>1</td>\n",
       "      <td>1</td>\n",
       "      <td>1</td>\n",
       "    </tr>\n",
       "    <tr>\n",
       "      <th>1</th>\n",
       "      <td>-1.083118</td>\n",
       "      <td>-1.131545</td>\n",
       "      <td>0.721519</td>\n",
       "      <td>0.690691</td>\n",
       "      <td>-0.231370</td>\n",
       "      <td>0.964289</td>\n",
       "      <td>1.048136</td>\n",
       "      <td>1</td>\n",
       "      <td>1</td>\n",
       "      <td>1</td>\n",
       "    </tr>\n",
       "    <tr>\n",
       "      <th>2</th>\n",
       "      <td>-0.516041</td>\n",
       "      <td>2.094824</td>\n",
       "      <td>0.051613</td>\n",
       "      <td>3.239644</td>\n",
       "      <td>-0.076123</td>\n",
       "      <td>1.582590</td>\n",
       "      <td>2.316683</td>\n",
       "      <td>1</td>\n",
       "      <td>1</td>\n",
       "      <td>1</td>\n",
       "    </tr>\n",
       "    <tr>\n",
       "      <th>3</th>\n",
       "      <td>-0.232502</td>\n",
       "      <td>-0.045441</td>\n",
       "      <td>0.112514</td>\n",
       "      <td>0.341812</td>\n",
       "      <td>-0.499606</td>\n",
       "      <td>-0.767300</td>\n",
       "      <td>-0.775399</td>\n",
       "      <td>1</td>\n",
       "      <td>1</td>\n",
       "      <td>1</td>\n",
       "    </tr>\n",
       "    <tr>\n",
       "      <th>4</th>\n",
       "      <td>1.468731</td>\n",
       "      <td>0.912887</td>\n",
       "      <td>-0.618293</td>\n",
       "      <td>-0.007067</td>\n",
       "      <td>0.651361</td>\n",
       "      <td>0.172326</td>\n",
       "      <td>-0.696115</td>\n",
       "      <td>1</td>\n",
       "      <td>1</td>\n",
       "      <td>0</td>\n",
       "    </tr>\n",
       "    <tr>\n",
       "      <th>...</th>\n",
       "      <td>...</td>\n",
       "      <td>...</td>\n",
       "      <td>...</td>\n",
       "      <td>...</td>\n",
       "      <td>...</td>\n",
       "      <td>...</td>\n",
       "      <td>...</td>\n",
       "      <td>...</td>\n",
       "      <td>...</td>\n",
       "      <td>...</td>\n",
       "    </tr>\n",
       "    <tr>\n",
       "      <th>95</th>\n",
       "      <td>0.618115</td>\n",
       "      <td>-0.556549</td>\n",
       "      <td>0.904221</td>\n",
       "      <td>-0.790264</td>\n",
       "      <td>-1.066785</td>\n",
       "      <td>-0.749308</td>\n",
       "      <td>-0.616831</td>\n",
       "      <td>0</td>\n",
       "      <td>0</td>\n",
       "      <td>0</td>\n",
       "    </tr>\n",
       "    <tr>\n",
       "      <th>96</th>\n",
       "      <td>-0.799580</td>\n",
       "      <td>2.158713</td>\n",
       "      <td>0.782420</td>\n",
       "      <td>-0.918424</td>\n",
       "      <td>-1.377615</td>\n",
       "      <td>0.171955</td>\n",
       "      <td>0.334579</td>\n",
       "      <td>0</td>\n",
       "      <td>0</td>\n",
       "      <td>0</td>\n",
       "    </tr>\n",
       "    <tr>\n",
       "      <th>97</th>\n",
       "      <td>-0.799580</td>\n",
       "      <td>-1.003768</td>\n",
       "      <td>0.477917</td>\n",
       "      <td>0.206533</td>\n",
       "      <td>1.425748</td>\n",
       "      <td>-0.390862</td>\n",
       "      <td>-0.775399</td>\n",
       "      <td>0</td>\n",
       "      <td>0</td>\n",
       "      <td>0</td>\n",
       "    </tr>\n",
       "    <tr>\n",
       "      <th>98</th>\n",
       "      <td>-1.083118</td>\n",
       "      <td>1.967047</td>\n",
       "      <td>0.051613</td>\n",
       "      <td>0.591012</td>\n",
       "      <td>-1.083417</td>\n",
       "      <td>-0.605248</td>\n",
       "      <td>-0.378978</td>\n",
       "      <td>0</td>\n",
       "      <td>0</td>\n",
       "      <td>0</td>\n",
       "    </tr>\n",
       "    <tr>\n",
       "      <th>99</th>\n",
       "      <td>0.618115</td>\n",
       "      <td>-0.875991</td>\n",
       "      <td>-0.861895</td>\n",
       "      <td>-0.177946</td>\n",
       "      <td>0.623283</td>\n",
       "      <td>1.283032</td>\n",
       "      <td>-0.616831</td>\n",
       "      <td>0</td>\n",
       "      <td>1</td>\n",
       "      <td>0</td>\n",
       "    </tr>\n",
       "  </tbody>\n",
       "</table>\n",
       "<p>100 rows × 10 columns</p>\n",
       "</div>"
      ],
      "text/plain": [
       "    grossesses   glucose  pression  insuline       imc         K       age  M  \\\n",
       "0     1.185192 -0.013496 -0.252890  0.128213 -0.705758 -0.710584 -0.696115  1   \n",
       "1    -1.083118 -1.131545  0.721519  0.690691 -0.231370  0.964289  1.048136  1   \n",
       "2    -0.516041  2.094824  0.051613  3.239644 -0.076123  1.582590  2.316683  1   \n",
       "3    -0.232502 -0.045441  0.112514  0.341812 -0.499606 -0.767300 -0.775399  1   \n",
       "4     1.468731  0.912887 -0.618293 -0.007067  0.651361  0.172326 -0.696115  1   \n",
       "..         ...       ...       ...       ...       ...       ...       ... ..   \n",
       "95    0.618115 -0.556549  0.904221 -0.790264 -1.066785 -0.749308 -0.616831  0   \n",
       "96   -0.799580  2.158713  0.782420 -0.918424 -1.377615  0.171955  0.334579  0   \n",
       "97   -0.799580 -1.003768  0.477917  0.206533  1.425748 -0.390862 -0.775399  0   \n",
       "98   -1.083118  1.967047  0.051613  0.591012 -1.083417 -0.605248 -0.378978  0   \n",
       "99    0.618115 -0.875991 -0.861895 -0.177946  0.623283  1.283032 -0.616831  0   \n",
       "\n",
       "    t  predicted_value  \n",
       "0   1                1  \n",
       "1   1                1  \n",
       "2   1                1  \n",
       "3   1                1  \n",
       "4   1                0  \n",
       ".. ..              ...  \n",
       "95  0                0  \n",
       "96  0                0  \n",
       "97  0                0  \n",
       "98  0                0  \n",
       "99  1                0  \n",
       "\n",
       "[100 rows x 10 columns]"
      ]
     },
     "execution_count": 161,
     "metadata": {},
     "output_type": "execute_result"
    }
   ],
   "source": [
    "pn"
   ]
  },
  {
   "cell_type": "code",
   "execution_count": 162,
   "metadata": {},
   "outputs": [],
   "source": [
    "# La seralisation permet l'enregistrement du fichier\n",
    "import pickle\n",
    "file = open(\"diabetes_prediction.pkl\", \"wb\")\n",
    "pickle.dump(knn, file)\n",
    "file.close()"
   ]
  },
  {
   "cell_type": "markdown",
   "metadata": {},
   "source": [
    "+ Les differentes étapes de l'exploitation des modéles dans une application web :\n",
    "\n",
    "    + La seralisation avec l'enregistrement du fichier au format pkl via la package pickle\n",
    "    + Lancer anaconda powershell prompt\n",
    "    + pip install streamlit\n",
    "    + Creation d'un fichier app.py\n",
    "    + Exécuter un code \n",
    "    + retounner sur anconda, chercher votre dossier via la commande cd et copier puis exécuter streamlit run .\\app.py\n",
    "    + Normaliser les variables features\n",
    "    + Lancer votre page en entrant les valeures puis excécuter avec le boutton predict\n",
    "    + Utiliser un slider à la place d'un input_number"
   ]
  },
  {
   "cell_type": "code",
   "execution_count": 163,
   "metadata": {},
   "outputs": [
    {
     "data": {
      "text/plain": [
       "RandomForestClassifier()"
      ]
     },
     "execution_count": 163,
     "metadata": {},
     "output_type": "execute_result"
    }
   ],
   "source": [
    "# RandomForestClassifier\n",
    "from sklearn.ensemble import RandomForestClassifier\n",
    "rand_fo = RandomForestClassifier()\n",
    "rand_fo.fit(tn[['grossesses', 'age', 'insuline']], target)"
   ]
  },
  {
   "cell_type": "code",
   "execution_count": 164,
   "metadata": {},
   "outputs": [],
   "source": [
    "df_forest = pn.iloc[:,0:-1].copy()\n",
    "df_forest['predicted_value_rand_fo'] = rand_fo.predict(df_forest[['grossesses', 'age', 'insuline']])"
   ]
  },
  {
   "cell_type": "code",
   "execution_count": 165,
   "metadata": {},
   "outputs": [
    {
     "data": {
      "text/html": [
       "<div>\n",
       "<style scoped>\n",
       "    .dataframe tbody tr th:only-of-type {\n",
       "        vertical-align: middle;\n",
       "    }\n",
       "\n",
       "    .dataframe tbody tr th {\n",
       "        vertical-align: top;\n",
       "    }\n",
       "\n",
       "    .dataframe thead th {\n",
       "        text-align: right;\n",
       "    }\n",
       "</style>\n",
       "<table border=\"1\" class=\"dataframe\">\n",
       "  <thead>\n",
       "    <tr style=\"text-align: right;\">\n",
       "      <th></th>\n",
       "      <th>grossesses</th>\n",
       "      <th>glucose</th>\n",
       "      <th>pression</th>\n",
       "      <th>insuline</th>\n",
       "      <th>imc</th>\n",
       "      <th>K</th>\n",
       "      <th>age</th>\n",
       "      <th>M</th>\n",
       "      <th>t</th>\n",
       "      <th>predicted_value_rand_fo</th>\n",
       "    </tr>\n",
       "  </thead>\n",
       "  <tbody>\n",
       "    <tr>\n",
       "      <th>0</th>\n",
       "      <td>1.185192</td>\n",
       "      <td>-0.013496</td>\n",
       "      <td>-0.252890</td>\n",
       "      <td>0.128213</td>\n",
       "      <td>-0.705758</td>\n",
       "      <td>-0.710584</td>\n",
       "      <td>-0.696115</td>\n",
       "      <td>1</td>\n",
       "      <td>1</td>\n",
       "      <td>1</td>\n",
       "    </tr>\n",
       "    <tr>\n",
       "      <th>1</th>\n",
       "      <td>-1.083118</td>\n",
       "      <td>-1.131545</td>\n",
       "      <td>0.721519</td>\n",
       "      <td>0.690691</td>\n",
       "      <td>-0.231370</td>\n",
       "      <td>0.964289</td>\n",
       "      <td>1.048136</td>\n",
       "      <td>1</td>\n",
       "      <td>1</td>\n",
       "      <td>0</td>\n",
       "    </tr>\n",
       "    <tr>\n",
       "      <th>2</th>\n",
       "      <td>-0.516041</td>\n",
       "      <td>2.094824</td>\n",
       "      <td>0.051613</td>\n",
       "      <td>3.239644</td>\n",
       "      <td>-0.076123</td>\n",
       "      <td>1.582590</td>\n",
       "      <td>2.316683</td>\n",
       "      <td>1</td>\n",
       "      <td>1</td>\n",
       "      <td>1</td>\n",
       "    </tr>\n",
       "    <tr>\n",
       "      <th>3</th>\n",
       "      <td>-0.232502</td>\n",
       "      <td>-0.045441</td>\n",
       "      <td>0.112514</td>\n",
       "      <td>0.341812</td>\n",
       "      <td>-0.499606</td>\n",
       "      <td>-0.767300</td>\n",
       "      <td>-0.775399</td>\n",
       "      <td>1</td>\n",
       "      <td>1</td>\n",
       "      <td>1</td>\n",
       "    </tr>\n",
       "    <tr>\n",
       "      <th>4</th>\n",
       "      <td>1.468731</td>\n",
       "      <td>0.912887</td>\n",
       "      <td>-0.618293</td>\n",
       "      <td>-0.007067</td>\n",
       "      <td>0.651361</td>\n",
       "      <td>0.172326</td>\n",
       "      <td>-0.696115</td>\n",
       "      <td>1</td>\n",
       "      <td>1</td>\n",
       "      <td>1</td>\n",
       "    </tr>\n",
       "    <tr>\n",
       "      <th>...</th>\n",
       "      <td>...</td>\n",
       "      <td>...</td>\n",
       "      <td>...</td>\n",
       "      <td>...</td>\n",
       "      <td>...</td>\n",
       "      <td>...</td>\n",
       "      <td>...</td>\n",
       "      <td>...</td>\n",
       "      <td>...</td>\n",
       "      <td>...</td>\n",
       "    </tr>\n",
       "    <tr>\n",
       "      <th>95</th>\n",
       "      <td>0.618115</td>\n",
       "      <td>-0.556549</td>\n",
       "      <td>0.904221</td>\n",
       "      <td>-0.790264</td>\n",
       "      <td>-1.066785</td>\n",
       "      <td>-0.749308</td>\n",
       "      <td>-0.616831</td>\n",
       "      <td>0</td>\n",
       "      <td>0</td>\n",
       "      <td>0</td>\n",
       "    </tr>\n",
       "    <tr>\n",
       "      <th>96</th>\n",
       "      <td>-0.799580</td>\n",
       "      <td>2.158713</td>\n",
       "      <td>0.782420</td>\n",
       "      <td>-0.918424</td>\n",
       "      <td>-1.377615</td>\n",
       "      <td>0.171955</td>\n",
       "      <td>0.334579</td>\n",
       "      <td>0</td>\n",
       "      <td>0</td>\n",
       "      <td>0</td>\n",
       "    </tr>\n",
       "    <tr>\n",
       "      <th>97</th>\n",
       "      <td>-0.799580</td>\n",
       "      <td>-1.003768</td>\n",
       "      <td>0.477917</td>\n",
       "      <td>0.206533</td>\n",
       "      <td>1.425748</td>\n",
       "      <td>-0.390862</td>\n",
       "      <td>-0.775399</td>\n",
       "      <td>0</td>\n",
       "      <td>0</td>\n",
       "      <td>0</td>\n",
       "    </tr>\n",
       "    <tr>\n",
       "      <th>98</th>\n",
       "      <td>-1.083118</td>\n",
       "      <td>1.967047</td>\n",
       "      <td>0.051613</td>\n",
       "      <td>0.591012</td>\n",
       "      <td>-1.083417</td>\n",
       "      <td>-0.605248</td>\n",
       "      <td>-0.378978</td>\n",
       "      <td>0</td>\n",
       "      <td>0</td>\n",
       "      <td>0</td>\n",
       "    </tr>\n",
       "    <tr>\n",
       "      <th>99</th>\n",
       "      <td>0.618115</td>\n",
       "      <td>-0.875991</td>\n",
       "      <td>-0.861895</td>\n",
       "      <td>-0.177946</td>\n",
       "      <td>0.623283</td>\n",
       "      <td>1.283032</td>\n",
       "      <td>-0.616831</td>\n",
       "      <td>0</td>\n",
       "      <td>1</td>\n",
       "      <td>0</td>\n",
       "    </tr>\n",
       "  </tbody>\n",
       "</table>\n",
       "<p>100 rows × 10 columns</p>\n",
       "</div>"
      ],
      "text/plain": [
       "    grossesses   glucose  pression  insuline       imc         K       age  M  \\\n",
       "0     1.185192 -0.013496 -0.252890  0.128213 -0.705758 -0.710584 -0.696115  1   \n",
       "1    -1.083118 -1.131545  0.721519  0.690691 -0.231370  0.964289  1.048136  1   \n",
       "2    -0.516041  2.094824  0.051613  3.239644 -0.076123  1.582590  2.316683  1   \n",
       "3    -0.232502 -0.045441  0.112514  0.341812 -0.499606 -0.767300 -0.775399  1   \n",
       "4     1.468731  0.912887 -0.618293 -0.007067  0.651361  0.172326 -0.696115  1   \n",
       "..         ...       ...       ...       ...       ...       ...       ... ..   \n",
       "95    0.618115 -0.556549  0.904221 -0.790264 -1.066785 -0.749308 -0.616831  0   \n",
       "96   -0.799580  2.158713  0.782420 -0.918424 -1.377615  0.171955  0.334579  0   \n",
       "97   -0.799580 -1.003768  0.477917  0.206533  1.425748 -0.390862 -0.775399  0   \n",
       "98   -1.083118  1.967047  0.051613  0.591012 -1.083417 -0.605248 -0.378978  0   \n",
       "99    0.618115 -0.875991 -0.861895 -0.177946  0.623283  1.283032 -0.616831  0   \n",
       "\n",
       "    t  predicted_value_rand_fo  \n",
       "0   1                        1  \n",
       "1   1                        0  \n",
       "2   1                        1  \n",
       "3   1                        1  \n",
       "4   1                        1  \n",
       ".. ..                      ...  \n",
       "95  0                        0  \n",
       "96  0                        0  \n",
       "97  0                        0  \n",
       "98  0                        0  \n",
       "99  1                        0  \n",
       "\n",
       "[100 rows x 10 columns]"
      ]
     },
     "execution_count": 165,
     "metadata": {},
     "output_type": "execute_result"
    }
   ],
   "source": [
    "df_forest"
   ]
  },
  {
   "cell_type": "code",
   "execution_count": 173,
   "metadata": {},
   "outputs": [],
   "source": [
    "import pickle\n",
    "file = open(\"diabetes_prediction_forest.pkl\", \"wb\")\n",
    "pickle.dump(knn, file)\n",
    "file.close()"
   ]
  },
  {
   "cell_type": "code",
   "execution_count": 166,
   "metadata": {},
   "outputs": [
    {
     "data": {
      "text/plain": [
       "LogisticRegression()"
      ]
     },
     "execution_count": 166,
     "metadata": {},
     "output_type": "execute_result"
    }
   ],
   "source": [
    "# LogisticRegression\n",
    "from sklearn.linear_model import LogisticRegression\n",
    "log = LogisticRegression()\n",
    "log.fit(tn[['grossesses', 'age', 'insuline']], target)"
   ]
  },
  {
   "cell_type": "code",
   "execution_count": 167,
   "metadata": {},
   "outputs": [],
   "source": [
    "df_log = pn.iloc[:,0:-1].copy()\n",
    "df_log['predicted_value_logreg'] = log.predict(df_log[['grossesses', 'age', 'insuline']])"
   ]
  },
  {
   "cell_type": "code",
   "execution_count": 168,
   "metadata": {},
   "outputs": [
    {
     "data": {
      "text/html": [
       "<div>\n",
       "<style scoped>\n",
       "    .dataframe tbody tr th:only-of-type {\n",
       "        vertical-align: middle;\n",
       "    }\n",
       "\n",
       "    .dataframe tbody tr th {\n",
       "        vertical-align: top;\n",
       "    }\n",
       "\n",
       "    .dataframe thead th {\n",
       "        text-align: right;\n",
       "    }\n",
       "</style>\n",
       "<table border=\"1\" class=\"dataframe\">\n",
       "  <thead>\n",
       "    <tr style=\"text-align: right;\">\n",
       "      <th></th>\n",
       "      <th>grossesses</th>\n",
       "      <th>glucose</th>\n",
       "      <th>pression</th>\n",
       "      <th>insuline</th>\n",
       "      <th>imc</th>\n",
       "      <th>K</th>\n",
       "      <th>age</th>\n",
       "      <th>M</th>\n",
       "      <th>t</th>\n",
       "      <th>predicted_value_logreg</th>\n",
       "    </tr>\n",
       "  </thead>\n",
       "  <tbody>\n",
       "    <tr>\n",
       "      <th>0</th>\n",
       "      <td>1.185192</td>\n",
       "      <td>-0.013496</td>\n",
       "      <td>-0.252890</td>\n",
       "      <td>0.128213</td>\n",
       "      <td>-0.705758</td>\n",
       "      <td>-0.710584</td>\n",
       "      <td>-0.696115</td>\n",
       "      <td>1</td>\n",
       "      <td>1</td>\n",
       "      <td>1</td>\n",
       "    </tr>\n",
       "    <tr>\n",
       "      <th>1</th>\n",
       "      <td>-1.083118</td>\n",
       "      <td>-1.131545</td>\n",
       "      <td>0.721519</td>\n",
       "      <td>0.690691</td>\n",
       "      <td>-0.231370</td>\n",
       "      <td>0.964289</td>\n",
       "      <td>1.048136</td>\n",
       "      <td>1</td>\n",
       "      <td>1</td>\n",
       "      <td>1</td>\n",
       "    </tr>\n",
       "    <tr>\n",
       "      <th>2</th>\n",
       "      <td>-0.516041</td>\n",
       "      <td>2.094824</td>\n",
       "      <td>0.051613</td>\n",
       "      <td>3.239644</td>\n",
       "      <td>-0.076123</td>\n",
       "      <td>1.582590</td>\n",
       "      <td>2.316683</td>\n",
       "      <td>1</td>\n",
       "      <td>1</td>\n",
       "      <td>1</td>\n",
       "    </tr>\n",
       "    <tr>\n",
       "      <th>3</th>\n",
       "      <td>-0.232502</td>\n",
       "      <td>-0.045441</td>\n",
       "      <td>0.112514</td>\n",
       "      <td>0.341812</td>\n",
       "      <td>-0.499606</td>\n",
       "      <td>-0.767300</td>\n",
       "      <td>-0.775399</td>\n",
       "      <td>1</td>\n",
       "      <td>1</td>\n",
       "      <td>0</td>\n",
       "    </tr>\n",
       "    <tr>\n",
       "      <th>4</th>\n",
       "      <td>1.468731</td>\n",
       "      <td>0.912887</td>\n",
       "      <td>-0.618293</td>\n",
       "      <td>-0.007067</td>\n",
       "      <td>0.651361</td>\n",
       "      <td>0.172326</td>\n",
       "      <td>-0.696115</td>\n",
       "      <td>1</td>\n",
       "      <td>1</td>\n",
       "      <td>1</td>\n",
       "    </tr>\n",
       "    <tr>\n",
       "      <th>...</th>\n",
       "      <td>...</td>\n",
       "      <td>...</td>\n",
       "      <td>...</td>\n",
       "      <td>...</td>\n",
       "      <td>...</td>\n",
       "      <td>...</td>\n",
       "      <td>...</td>\n",
       "      <td>...</td>\n",
       "      <td>...</td>\n",
       "      <td>...</td>\n",
       "    </tr>\n",
       "    <tr>\n",
       "      <th>95</th>\n",
       "      <td>0.618115</td>\n",
       "      <td>-0.556549</td>\n",
       "      <td>0.904221</td>\n",
       "      <td>-0.790264</td>\n",
       "      <td>-1.066785</td>\n",
       "      <td>-0.749308</td>\n",
       "      <td>-0.616831</td>\n",
       "      <td>0</td>\n",
       "      <td>0</td>\n",
       "      <td>0</td>\n",
       "    </tr>\n",
       "    <tr>\n",
       "      <th>96</th>\n",
       "      <td>-0.799580</td>\n",
       "      <td>2.158713</td>\n",
       "      <td>0.782420</td>\n",
       "      <td>-0.918424</td>\n",
       "      <td>-1.377615</td>\n",
       "      <td>0.171955</td>\n",
       "      <td>0.334579</td>\n",
       "      <td>0</td>\n",
       "      <td>0</td>\n",
       "      <td>0</td>\n",
       "    </tr>\n",
       "    <tr>\n",
       "      <th>97</th>\n",
       "      <td>-0.799580</td>\n",
       "      <td>-1.003768</td>\n",
       "      <td>0.477917</td>\n",
       "      <td>0.206533</td>\n",
       "      <td>1.425748</td>\n",
       "      <td>-0.390862</td>\n",
       "      <td>-0.775399</td>\n",
       "      <td>0</td>\n",
       "      <td>0</td>\n",
       "      <td>0</td>\n",
       "    </tr>\n",
       "    <tr>\n",
       "      <th>98</th>\n",
       "      <td>-1.083118</td>\n",
       "      <td>1.967047</td>\n",
       "      <td>0.051613</td>\n",
       "      <td>0.591012</td>\n",
       "      <td>-1.083417</td>\n",
       "      <td>-0.605248</td>\n",
       "      <td>-0.378978</td>\n",
       "      <td>0</td>\n",
       "      <td>0</td>\n",
       "      <td>0</td>\n",
       "    </tr>\n",
       "    <tr>\n",
       "      <th>99</th>\n",
       "      <td>0.618115</td>\n",
       "      <td>-0.875991</td>\n",
       "      <td>-0.861895</td>\n",
       "      <td>-0.177946</td>\n",
       "      <td>0.623283</td>\n",
       "      <td>1.283032</td>\n",
       "      <td>-0.616831</td>\n",
       "      <td>0</td>\n",
       "      <td>1</td>\n",
       "      <td>1</td>\n",
       "    </tr>\n",
       "  </tbody>\n",
       "</table>\n",
       "<p>100 rows × 10 columns</p>\n",
       "</div>"
      ],
      "text/plain": [
       "    grossesses   glucose  pression  insuline       imc         K       age  M  \\\n",
       "0     1.185192 -0.013496 -0.252890  0.128213 -0.705758 -0.710584 -0.696115  1   \n",
       "1    -1.083118 -1.131545  0.721519  0.690691 -0.231370  0.964289  1.048136  1   \n",
       "2    -0.516041  2.094824  0.051613  3.239644 -0.076123  1.582590  2.316683  1   \n",
       "3    -0.232502 -0.045441  0.112514  0.341812 -0.499606 -0.767300 -0.775399  1   \n",
       "4     1.468731  0.912887 -0.618293 -0.007067  0.651361  0.172326 -0.696115  1   \n",
       "..         ...       ...       ...       ...       ...       ...       ... ..   \n",
       "95    0.618115 -0.556549  0.904221 -0.790264 -1.066785 -0.749308 -0.616831  0   \n",
       "96   -0.799580  2.158713  0.782420 -0.918424 -1.377615  0.171955  0.334579  0   \n",
       "97   -0.799580 -1.003768  0.477917  0.206533  1.425748 -0.390862 -0.775399  0   \n",
       "98   -1.083118  1.967047  0.051613  0.591012 -1.083417 -0.605248 -0.378978  0   \n",
       "99    0.618115 -0.875991 -0.861895 -0.177946  0.623283  1.283032 -0.616831  0   \n",
       "\n",
       "    t  predicted_value_logreg  \n",
       "0   1                       1  \n",
       "1   1                       1  \n",
       "2   1                       1  \n",
       "3   1                       0  \n",
       "4   1                       1  \n",
       ".. ..                     ...  \n",
       "95  0                       0  \n",
       "96  0                       0  \n",
       "97  0                       0  \n",
       "98  0                       0  \n",
       "99  1                       1  \n",
       "\n",
       "[100 rows x 10 columns]"
      ]
     },
     "execution_count": 168,
     "metadata": {},
     "output_type": "execute_result"
    }
   ],
   "source": [
    "df_log"
   ]
  },
  {
   "cell_type": "code",
   "execution_count": 172,
   "metadata": {},
   "outputs": [],
   "source": [
    "import pickle\n",
    "file = open(\"diabetes_prediction_logreg.pkl\", \"wb\")\n",
    "pickle.dump(knn, file)\n",
    "file.close()"
   ]
  },
  {
   "cell_type": "code",
   "execution_count": 169,
   "metadata": {},
   "outputs": [
    {
     "data": {
      "text/plain": [
       "DecisionTreeClassifier()"
      ]
     },
     "execution_count": 169,
     "metadata": {},
     "output_type": "execute_result"
    }
   ],
   "source": [
    "# DecisionTreeClassifier\n",
    "from sklearn.tree import DecisionTreeClassifier\n",
    "tree = DecisionTreeClassifier()\n",
    "tree.fit(tn[['grossesses', 'age', 'insuline']], target)"
   ]
  },
  {
   "cell_type": "code",
   "execution_count": 170,
   "metadata": {},
   "outputs": [],
   "source": [
    "df_tree = pn.iloc[:,0:-1].copy()\n",
    "df_tree['predicted_value_tree'] = tree.predict(df_tree[['grossesses', 'age', 'insuline']])"
   ]
  },
  {
   "cell_type": "code",
   "execution_count": 171,
   "metadata": {},
   "outputs": [
    {
     "data": {
      "text/html": [
       "<div>\n",
       "<style scoped>\n",
       "    .dataframe tbody tr th:only-of-type {\n",
       "        vertical-align: middle;\n",
       "    }\n",
       "\n",
       "    .dataframe tbody tr th {\n",
       "        vertical-align: top;\n",
       "    }\n",
       "\n",
       "    .dataframe thead th {\n",
       "        text-align: right;\n",
       "    }\n",
       "</style>\n",
       "<table border=\"1\" class=\"dataframe\">\n",
       "  <thead>\n",
       "    <tr style=\"text-align: right;\">\n",
       "      <th></th>\n",
       "      <th>grossesses</th>\n",
       "      <th>glucose</th>\n",
       "      <th>pression</th>\n",
       "      <th>insuline</th>\n",
       "      <th>imc</th>\n",
       "      <th>K</th>\n",
       "      <th>age</th>\n",
       "      <th>M</th>\n",
       "      <th>t</th>\n",
       "      <th>predicted_value_tree</th>\n",
       "    </tr>\n",
       "  </thead>\n",
       "  <tbody>\n",
       "    <tr>\n",
       "      <th>0</th>\n",
       "      <td>1.185192</td>\n",
       "      <td>-0.013496</td>\n",
       "      <td>-0.252890</td>\n",
       "      <td>0.128213</td>\n",
       "      <td>-0.705758</td>\n",
       "      <td>-0.710584</td>\n",
       "      <td>-0.696115</td>\n",
       "      <td>1</td>\n",
       "      <td>1</td>\n",
       "      <td>0</td>\n",
       "    </tr>\n",
       "    <tr>\n",
       "      <th>1</th>\n",
       "      <td>-1.083118</td>\n",
       "      <td>-1.131545</td>\n",
       "      <td>0.721519</td>\n",
       "      <td>0.690691</td>\n",
       "      <td>-0.231370</td>\n",
       "      <td>0.964289</td>\n",
       "      <td>1.048136</td>\n",
       "      <td>1</td>\n",
       "      <td>1</td>\n",
       "      <td>0</td>\n",
       "    </tr>\n",
       "    <tr>\n",
       "      <th>2</th>\n",
       "      <td>-0.516041</td>\n",
       "      <td>2.094824</td>\n",
       "      <td>0.051613</td>\n",
       "      <td>3.239644</td>\n",
       "      <td>-0.076123</td>\n",
       "      <td>1.582590</td>\n",
       "      <td>2.316683</td>\n",
       "      <td>1</td>\n",
       "      <td>1</td>\n",
       "      <td>1</td>\n",
       "    </tr>\n",
       "    <tr>\n",
       "      <th>3</th>\n",
       "      <td>-0.232502</td>\n",
       "      <td>-0.045441</td>\n",
       "      <td>0.112514</td>\n",
       "      <td>0.341812</td>\n",
       "      <td>-0.499606</td>\n",
       "      <td>-0.767300</td>\n",
       "      <td>-0.775399</td>\n",
       "      <td>1</td>\n",
       "      <td>1</td>\n",
       "      <td>1</td>\n",
       "    </tr>\n",
       "    <tr>\n",
       "      <th>4</th>\n",
       "      <td>1.468731</td>\n",
       "      <td>0.912887</td>\n",
       "      <td>-0.618293</td>\n",
       "      <td>-0.007067</td>\n",
       "      <td>0.651361</td>\n",
       "      <td>0.172326</td>\n",
       "      <td>-0.696115</td>\n",
       "      <td>1</td>\n",
       "      <td>1</td>\n",
       "      <td>1</td>\n",
       "    </tr>\n",
       "    <tr>\n",
       "      <th>...</th>\n",
       "      <td>...</td>\n",
       "      <td>...</td>\n",
       "      <td>...</td>\n",
       "      <td>...</td>\n",
       "      <td>...</td>\n",
       "      <td>...</td>\n",
       "      <td>...</td>\n",
       "      <td>...</td>\n",
       "      <td>...</td>\n",
       "      <td>...</td>\n",
       "    </tr>\n",
       "    <tr>\n",
       "      <th>95</th>\n",
       "      <td>0.618115</td>\n",
       "      <td>-0.556549</td>\n",
       "      <td>0.904221</td>\n",
       "      <td>-0.790264</td>\n",
       "      <td>-1.066785</td>\n",
       "      <td>-0.749308</td>\n",
       "      <td>-0.616831</td>\n",
       "      <td>0</td>\n",
       "      <td>0</td>\n",
       "      <td>0</td>\n",
       "    </tr>\n",
       "    <tr>\n",
       "      <th>96</th>\n",
       "      <td>-0.799580</td>\n",
       "      <td>2.158713</td>\n",
       "      <td>0.782420</td>\n",
       "      <td>-0.918424</td>\n",
       "      <td>-1.377615</td>\n",
       "      <td>0.171955</td>\n",
       "      <td>0.334579</td>\n",
       "      <td>0</td>\n",
       "      <td>0</td>\n",
       "      <td>0</td>\n",
       "    </tr>\n",
       "    <tr>\n",
       "      <th>97</th>\n",
       "      <td>-0.799580</td>\n",
       "      <td>-1.003768</td>\n",
       "      <td>0.477917</td>\n",
       "      <td>0.206533</td>\n",
       "      <td>1.425748</td>\n",
       "      <td>-0.390862</td>\n",
       "      <td>-0.775399</td>\n",
       "      <td>0</td>\n",
       "      <td>0</td>\n",
       "      <td>0</td>\n",
       "    </tr>\n",
       "    <tr>\n",
       "      <th>98</th>\n",
       "      <td>-1.083118</td>\n",
       "      <td>1.967047</td>\n",
       "      <td>0.051613</td>\n",
       "      <td>0.591012</td>\n",
       "      <td>-1.083417</td>\n",
       "      <td>-0.605248</td>\n",
       "      <td>-0.378978</td>\n",
       "      <td>0</td>\n",
       "      <td>0</td>\n",
       "      <td>0</td>\n",
       "    </tr>\n",
       "    <tr>\n",
       "      <th>99</th>\n",
       "      <td>0.618115</td>\n",
       "      <td>-0.875991</td>\n",
       "      <td>-0.861895</td>\n",
       "      <td>-0.177946</td>\n",
       "      <td>0.623283</td>\n",
       "      <td>1.283032</td>\n",
       "      <td>-0.616831</td>\n",
       "      <td>0</td>\n",
       "      <td>1</td>\n",
       "      <td>0</td>\n",
       "    </tr>\n",
       "  </tbody>\n",
       "</table>\n",
       "<p>100 rows × 10 columns</p>\n",
       "</div>"
      ],
      "text/plain": [
       "    grossesses   glucose  pression  insuline       imc         K       age  M  \\\n",
       "0     1.185192 -0.013496 -0.252890  0.128213 -0.705758 -0.710584 -0.696115  1   \n",
       "1    -1.083118 -1.131545  0.721519  0.690691 -0.231370  0.964289  1.048136  1   \n",
       "2    -0.516041  2.094824  0.051613  3.239644 -0.076123  1.582590  2.316683  1   \n",
       "3    -0.232502 -0.045441  0.112514  0.341812 -0.499606 -0.767300 -0.775399  1   \n",
       "4     1.468731  0.912887 -0.618293 -0.007067  0.651361  0.172326 -0.696115  1   \n",
       "..         ...       ...       ...       ...       ...       ...       ... ..   \n",
       "95    0.618115 -0.556549  0.904221 -0.790264 -1.066785 -0.749308 -0.616831  0   \n",
       "96   -0.799580  2.158713  0.782420 -0.918424 -1.377615  0.171955  0.334579  0   \n",
       "97   -0.799580 -1.003768  0.477917  0.206533  1.425748 -0.390862 -0.775399  0   \n",
       "98   -1.083118  1.967047  0.051613  0.591012 -1.083417 -0.605248 -0.378978  0   \n",
       "99    0.618115 -0.875991 -0.861895 -0.177946  0.623283  1.283032 -0.616831  0   \n",
       "\n",
       "    t  predicted_value_tree  \n",
       "0   1                     0  \n",
       "1   1                     0  \n",
       "2   1                     1  \n",
       "3   1                     1  \n",
       "4   1                     1  \n",
       ".. ..                   ...  \n",
       "95  0                     0  \n",
       "96  0                     0  \n",
       "97  0                     0  \n",
       "98  0                     0  \n",
       "99  1                     0  \n",
       "\n",
       "[100 rows x 10 columns]"
      ]
     },
     "execution_count": 171,
     "metadata": {},
     "output_type": "execute_result"
    }
   ],
   "source": [
    "df_tree"
   ]
  },
  {
   "cell_type": "code",
   "execution_count": 174,
   "metadata": {},
   "outputs": [],
   "source": [
    "import pickle\n",
    "file = open(\"diabetes_prediction_tree.pkl\", \"wb\")\n",
    "pickle.dump(knn, file)\n",
    "file.close()"
   ]
  },
  {
   "cell_type": "markdown",
   "metadata": {},
   "source": [
    "+ Les étapes du deploiment du modèle:\n",
    "    \n",
    "        + Créer un compte sur HEROKU\n",
    "        + le nom de l'application source doit porter le nom de app.py\n",
    "        + installer visual studio code\n",
    "        + installer heroku clt 64-bit installer\n",
    "        + Après l'installation de heroku, il faut fermer vs code et rouvrir\n",
    "        + Ajouter 3 fichiers (profile, requirements, setup) dans le dossier de app.py\n",
    "        + ajouter les librairies utilisés dans app.py dans le requirement\n",
    "        + Revenir sur Heroku et cliquer sur new app et choisir le nom de l'application\n",
    "        + Revenir sur visual studio code, chercher le dossier et ouvrir un terminal  puis taper heroku login\n",
    "        + Ensuite installer git et taper un git init sur le terminal  "
   ]
  },
  {
   "cell_type": "code",
   "execution_count": null,
   "metadata": {},
   "outputs": [],
   "source": []
  }
 ],
 "metadata": {
  "kernelspec": {
   "display_name": "Python 3 (ipykernel)",
   "language": "python",
   "name": "python3"
  },
  "language_info": {
   "codemirror_mode": {
    "name": "ipython",
    "version": 3
   },
   "file_extension": ".py",
   "mimetype": "text/x-python",
   "name": "python",
   "nbconvert_exporter": "python",
   "pygments_lexer": "ipython3",
   "version": "3.9.12"
  }
 },
 "nbformat": 4,
 "nbformat_minor": 4
}
